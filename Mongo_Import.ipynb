{
 "cells": [
  {
   "cell_type": "code",
   "execution_count": 1,
   "metadata": {
    "collapsed": true,
    "slideshow": {
     "slide_type": "-"
    }
   },
   "outputs": [],
   "source": [
    "from pymongo import MongoClient\n",
    "import json\n",
    "from IPython.display import clear_output\n",
    "\n",
    "client = MongoClient()\n",
    "db = client.blog_data"
   ]
  },
  {
   "cell_type": "markdown",
   "metadata": {},
   "source": [
    "## Initialize Mongo Database\n",
    "#### Clear and update collections"
   ]
  },
  {
   "cell_type": "code",
   "execution_count": 23,
   "metadata": {},
   "outputs": [
    {
     "data": {
      "text/plain": [
       "['reuters', 'linkedin', 'spoon_tamago']"
      ]
     },
     "execution_count": 23,
     "metadata": {},
     "output_type": "execute_result"
    }
   ],
   "source": [
    "db.collection_names()"
   ]
  },
  {
   "cell_type": "code",
   "execution_count": 24,
   "metadata": {
    "collapsed": true
   },
   "outputs": [],
   "source": [
    "json_files = {\n",
    "    'linkedin': 'blog_spider/linkedin.json',\n",
    "    'reuters': 'blog_spider/reuters_tech.json',\n",
    "    'spoon_tamago': 'blog_spider/spoon_tamago.json'\n",
    "}"
   ]
  },
  {
   "cell_type": "code",
   "execution_count": 25,
   "metadata": {},
   "outputs": [],
   "source": [
    "def clear_collections(db, json_files):\n",
    "    for collection in json_files.keys():\n",
    "        db[collection].drop()\n",
    "        print(\"Dropped '%s'\" % collection)\n",
    "    print(\"----------------------\")\n",
    "    print(\"Remaining Collections:\")\n",
    "    if len(db.collection_names()) == 0:\n",
    "        print(\" EMPTY\")\n",
    "    for collection in db.collection_names():\n",
    "        print(\" - %s\" % collection)\n",
    "        \n",
    "def update_collections(db, json_files):\n",
    "    for collection, json_file in json_files.items():\n",
    "        with open(json_file, 'r') as fn:\n",
    "            my_list = json.load(fn)\n",
    "        list_length = len(my_list)\n",
    "        i = 1\n",
    "        print(\"'%s' added to database\" % collection)\n",
    "        print(\"Number of entries: %d\" % list_length)\n",
    "        print('---------')\n",
    "        db[collection].insert_many(my_list)"
   ]
  },
  {
   "cell_type": "code",
   "execution_count": 26,
   "metadata": {},
   "outputs": [
    {
     "name": "stdout",
     "output_type": "stream",
     "text": [
      "Dropped 'reuters'\n",
      "Dropped 'linkedin'\n",
      "Dropped 'spoon_tamago'\n",
      "----------------------\n",
      "Remaining Collections:\n",
      " EMPTY\n"
     ]
    }
   ],
   "source": [
    "clear_collections(db, json_files)"
   ]
  },
  {
   "cell_type": "code",
   "execution_count": 27,
   "metadata": {},
   "outputs": [
    {
     "name": "stdout",
     "output_type": "stream",
     "text": [
      "'reuters' added to database\n",
      "Number of entries: 598\n",
      "---------\n",
      "'linkedin' added to database\n",
      "Number of entries: 1620\n",
      "---------\n",
      "'spoon_tamago' added to database\n",
      "Number of entries: 2867\n",
      "---------\n"
     ]
    }
   ],
   "source": [
    "update_collections(db, json_files)"
   ]
  },
  {
   "cell_type": "markdown",
   "metadata": {},
   "source": [
    "---\n",
    "## Read from database"
   ]
  },
  {
   "cell_type": "code",
   "execution_count": 28,
   "metadata": {
    "collapsed": true
   },
   "outputs": [],
   "source": [
    "linkedin = db.linkedin\n",
    "reuters = db.reuters\n",
    "spoon = db.spoon_tamago"
   ]
  },
  {
   "cell_type": "code",
   "execution_count": 34,
   "metadata": {},
   "outputs": [
    {
     "data": {
      "text/plain": [
       "{'_id': ObjectId('5a8f0a286b4a7531a96f8399'),\n",
       " 'author': 'Keren Baruch',\n",
       " 'content': 'In 2016, we introduced -- a tool that allows users to see a detailed breakdown of salaries by job title and location based on information privately submitted by LinkedIn members. Since then, we’ve been hard at work identifying ways to make this experience even more valuable, and encourage even greater transparency when it comes to conversations about pay. That’s why today we are announcing Salary Insights: a new way for you to explore compensation details on open roles. This feature will appear on job listings and will show an estimated or expected salary range for the role, based on data from our 546+ million members and employer provided information. We know salary insights on job listings is important to you. In fact, a recent survey found that more than 70% of professionals want to hear about salary in the first message from a recruiter. By surfacing this information early on in the process, we hope to make the application process more seamless by allowing you to know if a job meets your salary criteria before entering into a conversation with the hiring manager. The salary information displayed on job listings will come from one of two places: Employers can provide salary ranges for specific jobs, meaning you will know exactly what kind of compensation to expect before you apply for the job. If an employer does not provide a salary for a role, we will show you an estimated range from member-submitted data. You’ll also notice a couple other changes, including the ability to delete your salary information privately in your settings as your career evolves, which will always remain confidential to you and never shared on an individual level. We’ll also periodically remind you to update your salary to ensure you’re getting the most out of the tool. Explore and to see if that perfect role for you is already listed. You’ll start to see LinkedIn estimated salary on job openings in the coming weeks.',\n",
       " 'date': 'February 13, 2018',\n",
       " 'post_categories': ['New LinkedIn Features', 'Jobs'],\n",
       " 'title': 'Introducing Salary Insights on Jobs'}"
      ]
     },
     "execution_count": 34,
     "metadata": {},
     "output_type": "execute_result"
    }
   ],
   "source": [
    "linkedin.find_one()"
   ]
  },
  {
   "cell_type": "code",
   "execution_count": 38,
   "metadata": {},
   "outputs": [
    {
     "data": {
      "text/plain": [
       "'In 2016, we introduced -- a tool that allows users to see a detailed breakdown of salaries by job ti...'"
      ]
     },
     "execution_count": 38,
     "metadata": {},
     "output_type": "execute_result"
    }
   ],
   "source": [
    "text = linkedin.find_one({},{'content':1, '_id':0})['content']\n",
    "text[:100]+'...'"
   ]
  },
  {
   "cell_type": "code",
   "execution_count": 39,
   "metadata": {},
   "outputs": [],
   "source": [
    "from sumy.nlp.tokenizers import Tokenizer\n",
    "from sumy.summarizers.lsa import LsaSummarizer as Summarizer\n",
    "from sumy.nlp.stemmers import Stemmer\n",
    "from sumy.utils import get_stop_words"
   ]
  },
  {
   "cell_type": "code",
   "execution_count": 44,
   "metadata": {},
   "outputs": [],
   "source": [
    "stemmer = Stemmer('english')\n",
    "summarizer = Summarizer(stemmer)\n",
    "summarizer.stop_words = get_stop_words('english')"
   ]
  },
  {
   "cell_type": "code",
   "execution_count": 45,
   "metadata": {},
   "outputs": [
    {
     "data": {
      "text/plain": [
       "1.0"
      ]
     },
     "execution_count": 45,
     "metadata": {},
     "output_type": "execute_result"
    }
   ],
   "source": []
  },
  {
   "cell_type": "code",
   "execution_count": 1,
   "metadata": {},
   "outputs": [],
   "source": [
    "import datetime as dt"
   ]
  },
  {
   "cell_type": "code",
   "execution_count": 9,
   "metadata": {},
   "outputs": [],
   "source": [
    "start = dt.datetime(2018,1,1)\n",
    "end = dt.datetime(2018,2,1)\n",
    "delta = end-start"
   ]
  },
  {
   "cell_type": "code",
   "execution_count": 6,
   "metadata": {},
   "outputs": [],
   "source": [
    "step = dt.timedelta(days=1)"
   ]
  },
  {
   "cell_type": "code",
   "execution_count": 14,
   "metadata": {},
   "outputs": [],
   "source": [
    "time_range = []\n",
    "for i in range(delta.days+1):\n",
    "    time_range.append((start+dt.timedelta(days=i)).strftime('%Y-%m-%d'))"
   ]
  },
  {
   "cell_type": "code",
   "execution_count": 15,
   "metadata": {},
   "outputs": [
    {
     "data": {
      "text/plain": [
       "['2018-01-01',\n",
       " '2018-01-02',\n",
       " '2018-01-03',\n",
       " '2018-01-04',\n",
       " '2018-01-05',\n",
       " '2018-01-06',\n",
       " '2018-01-07',\n",
       " '2018-01-08',\n",
       " '2018-01-09',\n",
       " '2018-01-10',\n",
       " '2018-01-11',\n",
       " '2018-01-12',\n",
       " '2018-01-13',\n",
       " '2018-01-14',\n",
       " '2018-01-15',\n",
       " '2018-01-16',\n",
       " '2018-01-17',\n",
       " '2018-01-18',\n",
       " '2018-01-19',\n",
       " '2018-01-20',\n",
       " '2018-01-21',\n",
       " '2018-01-22',\n",
       " '2018-01-23',\n",
       " '2018-01-24',\n",
       " '2018-01-25',\n",
       " '2018-01-26',\n",
       " '2018-01-27',\n",
       " '2018-01-28',\n",
       " '2018-01-29',\n",
       " '2018-01-30',\n",
       " '2018-01-31',\n",
       " '2018-02-01']"
      ]
     },
     "execution_count": 15,
     "metadata": {},
     "output_type": "execute_result"
    }
   ],
   "source": [
    "time_range"
   ]
  },
  {
   "cell_type": "code",
   "execution_count": null,
   "metadata": {},
   "outputs": [],
   "source": []
  }
 ],
 "metadata": {
  "kernelspec": {
   "display_name": "Python [default]",
   "language": "python",
   "name": "python3"
  },
  "language_info": {
   "codemirror_mode": {
    "name": "ipython",
    "version": 3
   },
   "file_extension": ".py",
   "mimetype": "text/x-python",
   "name": "python",
   "nbconvert_exporter": "python",
   "pygments_lexer": "ipython3",
   "version": "3.5.3"
  }
 },
 "nbformat": 4,
 "nbformat_minor": 2
}
