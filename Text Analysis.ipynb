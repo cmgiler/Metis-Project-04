{
 "cells": [
  {
   "cell_type": "markdown",
   "metadata": {},
   "source": [
    "# Text Analysis\n",
    "#### Exploring the following methods:\n",
    "- [Basic Text Analysis](https://github.com/thisismetis/nyc18_ds14/blob/master/class_lectures/week06-mcnulty3/05-nlp/NLP_nltk.ipynb) (Sentence and word tokenization, part of speech tagging, chunking)\n",
    "- Dimension Reduction (PCA)\n",
    "    - [PCA Lecture](https://github.com/thisismetis/nyc18_ds14/blob/master/class_lectures/week07-fletcher1/02-dim_reduct_pca/Dimensionality_Reduction_PCA.pdf)\n",
    "    - [PCA / SVD Code](https://github.com/thisismetis/nyc18_ds14/blob/master/class_lectures/week07-fletcher1/02-dim_reduct_pca/pca_SVD.ipynb)\n",
    "    - [LDA / LSA / NMF](https://github.com/thisismetis/nyc18_ds14/blob/master/class_lectures/week07-fletcher1/02-dim_reduct_pca/LSA_NMF.ipynb)\n",
    "    - [Recommender Systems](https://github.com/thisismetis/nyc18_ds14/blob/master/class_lectures/week07-fletcher1/02-dim_reduct_pca/Recommender_Systems.ipynb)\n",
    "- Topic Modeling (UMF, LDA)\n",
    "    - [Lecture](https://github.com/thisismetis/nyc18_ds14/blob/master/class_lectures/week07-fletcher1/03-lda_topics_models/Topic_Modeling.pdf)\n",
    "    - [LDA Code](https://github.com/thisismetis/nyc18_ds14/blob/master/class_lectures/week07-fletcher1/03-lda_topics_models/LDA.ipynb)\n",
    "- [Word2Vec (Gensim)](https://github.com/thisismetis/nyc18_ds14/blob/master/class_lectures/week07-fletcher1/04-word2vec/WORD2VEC_GENSIM.ipynb)\n",
    "- Clustering (K-Means)\n",
    "    - [Lecture](https://github.com/thisismetis/nyc18_ds14/blob/master/class_lectures/week07-fletcher1/01-unsup_kmeans/Unsupervised_Learning_Kmeans.pdf)\n",
    "    - [Code](https://github.com/thisismetis/nyc18_ds14/blob/master/class_lectures/week07-fletcher1/01-unsup_kmeans/digits_clustering.ipynb)\n",
    "- Text Summarization\n",
    "    - [Sumy (Extractive Text Summarization)](https://pypi.python.org/pypi/sumy)\n",
    "    - [Keras *Maybe* (Abstractive Text Summarization)](https://hackernoon.com/how-to-run-text-summarization-with-tensorflow-d4472587602d)\n",
    "    - [Google Research](https://research.googleblog.com/2016/08/text-summarization-with-tensorflow.html)\n",
    "- Visualization\n",
    "    - Overall article topic distribution by blog\n",
    "    - ..."
   ]
  },
  {
   "cell_type": "markdown",
   "metadata": {},
   "source": [
    "---"
   ]
  },
  {
   "cell_type": "markdown",
   "metadata": {},
   "source": [
    "## Using Fletcher Library Functions"
   ]
  },
  {
   "cell_type": "code",
   "execution_count": 1,
   "metadata": {
    "collapsed": true
   },
   "outputs": [],
   "source": [
    "from FletcherLibrary import MongoQuery as MQ\n",
    "from FletcherLibrary import TextAnalysis as TA\n",
    "from FletcherLibrary import TopicModel as TM\n",
    "from gensim import corpora, models, similarities, matutils"
   ]
  },
  {
   "cell_type": "code",
   "execution_count": 2,
   "metadata": {
    "collapsed": true
   },
   "outputs": [],
   "source": [
    "collection = MQ.GetMongoCollection('blog_data', 'reuters_all')"
   ]
  },
  {
   "cell_type": "code",
   "execution_count": 3,
   "metadata": {},
   "outputs": [
    {
     "data": {
      "text/plain": [
       "{'_id', 'author', 'content', 'date', 'title', 'url'}"
      ]
     },
     "execution_count": 3,
     "metadata": {},
     "output_type": "execute_result"
    }
   ],
   "source": [
    "MQ.GetFields(collection)"
   ]
  },
  {
   "cell_type": "code",
   "execution_count": 4,
   "metadata": {},
   "outputs": [
    {
     "data": {
      "text/html": [
       "<div>\n",
       "<style>\n",
       "    .dataframe thead tr:only-child th {\n",
       "        text-align: right;\n",
       "    }\n",
       "\n",
       "    .dataframe thead th {\n",
       "        text-align: left;\n",
       "    }\n",
       "\n",
       "    .dataframe tbody tr th {\n",
       "        vertical-align: top;\n",
       "    }\n",
       "</style>\n",
       "<table border=\"1\" class=\"dataframe\">\n",
       "  <thead>\n",
       "    <tr style=\"text-align: right;\">\n",
       "      <th></th>\n",
       "      <th>author</th>\n",
       "      <th>title</th>\n",
       "      <th>date</th>\n",
       "      <th>content</th>\n",
       "    </tr>\n",
       "  </thead>\n",
       "  <tbody>\n",
       "    <tr>\n",
       "      <th>0</th>\n",
       "      <td>Reuters Editorial</td>\n",
       "      <td>Konta overcomes blip to get past Keys in Brisb...</td>\n",
       "      <td>2018-01-01 12:37:56</td>\n",
       "      <td>(Reuters) - Johanna Konta made a shaky start t...</td>\n",
       "    </tr>\n",
       "    <tr>\n",
       "      <th>1</th>\n",
       "      <td>Reuters Editorial</td>\n",
       "      <td>Zverev cruises into second round at Brisbane</td>\n",
       "      <td>2018-01-01 12:56:09</td>\n",
       "      <td>(Reuters) - Mischa Zverev powered past Austral...</td>\n",
       "    </tr>\n",
       "    <tr>\n",
       "      <th>2</th>\n",
       "      <td>Donny Kwok and Wyman Ma</td>\n",
       "      <td>After tough year, Hong Kong democracy proteste...</td>\n",
       "      <td>2018-01-01 13:20:45</td>\n",
       "      <td>HONG KONG (Reuters) - After a year that saw de...</td>\n",
       "    </tr>\n",
       "    <tr>\n",
       "      <th>3</th>\n",
       "      <td>Reuters Editorial</td>\n",
       "      <td>India's infrastructure output grows 6.8 percen...</td>\n",
       "      <td>2018-01-01 12:14:32</td>\n",
       "      <td>NEW DELHI (Reuters) - India’s annual infrastru...</td>\n",
       "    </tr>\n",
       "    <tr>\n",
       "      <th>4</th>\n",
       "      <td>Reuters Editorial</td>\n",
       "      <td>BRIEF-Sunsea Telecommunications unit signs coo...</td>\n",
       "      <td>2018-01-01 11:45:23</td>\n",
       "      <td>Jan 1 (Reuters) - Sunsea Telecommunications Co...</td>\n",
       "    </tr>\n",
       "  </tbody>\n",
       "</table>\n",
       "</div>"
      ],
      "text/plain": [
       "                    author                                              title  \\\n",
       "0        Reuters Editorial  Konta overcomes blip to get past Keys in Brisb...   \n",
       "1        Reuters Editorial       Zverev cruises into second round at Brisbane   \n",
       "2  Donny Kwok and Wyman Ma  After tough year, Hong Kong democracy proteste...   \n",
       "3        Reuters Editorial  India's infrastructure output grows 6.8 percen...   \n",
       "4        Reuters Editorial  BRIEF-Sunsea Telecommunications unit signs coo...   \n",
       "\n",
       "                 date                                            content  \n",
       "0 2018-01-01 12:37:56  (Reuters) - Johanna Konta made a shaky start t...  \n",
       "1 2018-01-01 12:56:09  (Reuters) - Mischa Zverev powered past Austral...  \n",
       "2 2018-01-01 13:20:45  HONG KONG (Reuters) - After a year that saw de...  \n",
       "3 2018-01-01 12:14:32  NEW DELHI (Reuters) - India’s annual infrastru...  \n",
       "4 2018-01-01 11:45:23  Jan 1 (Reuters) - Sunsea Telecommunications Co...  "
      ]
     },
     "execution_count": 4,
     "metadata": {},
     "output_type": "execute_result"
    }
   ],
   "source": [
    "df = MQ.FetchData(collection, ['author', 'title', 'date', 'content'])\n",
    "# df = MQ.FetchData(collection, ['author', 'title', 'date', 'content', 'post_categories'])\n",
    "# df['post_categories'] = df['post_categories'].apply(lambda x: '' if len(x)==0 else x[0])\n",
    "df.head()"
   ]
  },
  {
   "cell_type": "code",
   "execution_count": 5,
   "metadata": {},
   "outputs": [
    {
     "data": {
      "text/html": [
       "<div>\n",
       "<style>\n",
       "    .dataframe thead tr:only-child th {\n",
       "        text-align: right;\n",
       "    }\n",
       "\n",
       "    .dataframe thead th {\n",
       "        text-align: left;\n",
       "    }\n",
       "\n",
       "    .dataframe tbody tr th {\n",
       "        vertical-align: top;\n",
       "    }\n",
       "</style>\n",
       "<table border=\"1\" class=\"dataframe\">\n",
       "  <thead>\n",
       "    <tr style=\"text-align: right;\">\n",
       "      <th></th>\n",
       "      <th>author</th>\n",
       "      <th>title</th>\n",
       "      <th>date</th>\n",
       "      <th>content</th>\n",
       "      <th>tokenized</th>\n",
       "    </tr>\n",
       "  </thead>\n",
       "  <tbody>\n",
       "    <tr>\n",
       "      <th>0</th>\n",
       "      <td>Reuters Editorial</td>\n",
       "      <td>Box Office: 'Star Wars: The Last Jedi' Tops $1...</td>\n",
       "      <td>2018-01-01 00:49:16</td>\n",
       "      <td>LOS ANGELES (Variety.com) - Disney-Lucasfilm’s...</td>\n",
       "      <td>[los, angeles, variety, com, disney, lucasfilm...</td>\n",
       "    </tr>\n",
       "    <tr>\n",
       "      <th>1</th>\n",
       "      <td>Reuters Editorial</td>\n",
       "      <td>North Korea's Kim says U.S. will never start w...</td>\n",
       "      <td>2018-01-01 00:57:31</td>\n",
       "      <td>SEOUL (Reuters) - Kim Jong Un warned the Unite...</td>\n",
       "      <td>[seoul, reuters, kim, jong, un, warned, the, u...</td>\n",
       "    </tr>\n",
       "    <tr>\n",
       "      <th>2</th>\n",
       "      <td>Reuters Editorial</td>\n",
       "      <td>Bills end 17-season playoff drought as Ravens ...</td>\n",
       "      <td>2018-01-01 02:22:28</td>\n",
       "      <td>(Reuters) - The Buffalo Bills ended the longes...</td>\n",
       "      <td>[reuters, the, buffalo, bills, ended, the, lon...</td>\n",
       "    </tr>\n",
       "    <tr>\n",
       "      <th>3</th>\n",
       "      <td>Reuters Editorial</td>\n",
       "      <td>Five British among dead in Sydney New Year's E...</td>\n",
       "      <td>2018-01-01 02:28:54</td>\n",
       "      <td>SYDNEY/LONDON (Reuters) - The chief executive ...</td>\n",
       "      <td>[sydney, london, reuters, the, chief, executiv...</td>\n",
       "    </tr>\n",
       "    <tr>\n",
       "      <th>4</th>\n",
       "      <td>Reuters Editorial</td>\n",
       "      <td>Five British among dead in Sydney New Year's E...</td>\n",
       "      <td>2018-01-01 02:31:40</td>\n",
       "      <td>SYDNEY/LONDON (Reuters) - The chief executive ...</td>\n",
       "      <td>[sydney, london, reuters, the, chief, executiv...</td>\n",
       "    </tr>\n",
       "  </tbody>\n",
       "</table>\n",
       "</div>"
      ],
      "text/plain": [
       "              author                                              title  \\\n",
       "0  Reuters Editorial  Box Office: 'Star Wars: The Last Jedi' Tops $1...   \n",
       "1  Reuters Editorial  North Korea's Kim says U.S. will never start w...   \n",
       "2  Reuters Editorial  Bills end 17-season playoff drought as Ravens ...   \n",
       "3  Reuters Editorial  Five British among dead in Sydney New Year's E...   \n",
       "4  Reuters Editorial  Five British among dead in Sydney New Year's E...   \n",
       "\n",
       "                 date                                            content  \\\n",
       "0 2018-01-01 00:49:16  LOS ANGELES (Variety.com) - Disney-Lucasfilm’s...   \n",
       "1 2018-01-01 00:57:31  SEOUL (Reuters) - Kim Jong Un warned the Unite...   \n",
       "2 2018-01-01 02:22:28  (Reuters) - The Buffalo Bills ended the longes...   \n",
       "3 2018-01-01 02:28:54  SYDNEY/LONDON (Reuters) - The chief executive ...   \n",
       "4 2018-01-01 02:31:40  SYDNEY/LONDON (Reuters) - The chief executive ...   \n",
       "\n",
       "                                           tokenized  \n",
       "0  [los, angeles, variety, com, disney, lucasfilm...  \n",
       "1  [seoul, reuters, kim, jong, un, warned, the, u...  \n",
       "2  [reuters, the, buffalo, bills, ended, the, lon...  \n",
       "3  [sydney, london, reuters, the, chief, executiv...  \n",
       "4  [sydney, london, reuters, the, chief, executiv...  "
      ]
     },
     "execution_count": 5,
     "metadata": {},
     "output_type": "execute_result"
    }
   ],
   "source": [
    "df = df[df['content'].apply(lambda x: True if len(x) > 1000 else False)]\n",
    "df.sort_values(by='date', inplace=True)\n",
    "df.drop_duplicates(subset=['title'], keep='last', inplace=True)\n",
    "df['tokenized'] = df['content'].apply(lambda x: TA.TokenizeData(x))\n",
    "df.reset_index(inplace=True, drop=True)\n",
    "df.head()\n",
    "# len(df)"
   ]
  },
  {
   "cell_type": "code",
   "execution_count": 6,
   "metadata": {},
   "outputs": [
    {
     "data": {
      "text/plain": [
       "13798"
      ]
     },
     "execution_count": 6,
     "metadata": {},
     "output_type": "execute_result"
    }
   ],
   "source": [
    "len(df)"
   ]
  },
  {
   "cell_type": "code",
   "execution_count": 7,
   "metadata": {},
   "outputs": [
    {
     "name": "stdout",
     "output_type": "stream",
     "text": [
      "Text Size: 38455780 bytes (38.46 MB)\n",
      "\n",
      "-----\n",
      "\n",
      "Number of appearances for word 'linkedin':\n",
      "Displaying 19 of 19 matches:\n",
      "t two weeks didi has advertised on linkedin for eight jobs based in the mexico\n",
      "s corp from to according to public linkedin profile the company was not identi\n",
      "ve is now receiving queries on his linkedin profile bitmain technologies opera\n",
      "lp according to his profile on the linkedin com career website he graduated fr\n",
      "melveny myers llp according to her linkedin com account simons trump pick to b\n",
      "respond to request for comment via linkedin new delhi reuters india on monday \n",
      "ube facebook instagram twitter and linkedin our advertising will help introduc\n",
      "melveny myers llp according to her linkedin com account the agency is currentl\n",
      "ht be digitally facebook instagram linkedin bank accounts providers bitcoin ex\n",
      "istribution jobs in the country to linkedin last year including site leader fu\n",
      "rnet of things business he said in linkedin post monday google spokeswoman jan\n",
      "rnet of things business he said in linkedin post monday google spokeswoman jan\n",
      "ity office at ibm according to her linkedin profile ibm said it sought to enfo\n",
      "ve quite way to run but in post on linkedin this week he wrote recent spurts i\n",
      "ve quite way to run but in post on linkedin this week he wrote recent spurts i\n",
      "ve quite way to run but in post on linkedin this week he wrote recent spurts i\n",
      "s up to employees according to its linkedin page it has showroom in the canadi\n",
      "ached for comment according to its linkedin page it represents edeka in german\n",
      "ached for comment according to its linkedin page it represents edeka in german\n",
      "None\n",
      "\n",
      "-----\n",
      "\n",
      "Frequency analysis for words of interest:\n",
      "linkedin: 19\n",
      "blog: 109\n",
      "\n",
      "-----\n",
      "\n",
      "Number of words in the text: 5972376\n",
      "Number of unique words in the text: 66759\n",
      "\n",
      "-----\n",
      "\n",
      "Common words that aren't stopwords:\n",
      "['chhabria', 'crawled', 'zille', 'vinyl', 'underperforms', 'downtick', 'xlnx', 'hobijn', 'buckingham', 'joonas', 'insightful', 'vent', 'yasuhiro', 'dongles', 'jaeger', 'detail', 'danziger', 'leighton', 'prawit', 'materialize', 'basel', 'terms', 'fatwa', 'hammerle', 'cis', 'smoldered', 'studded', 'shooed', 'peelings', 'cristman', 'metabolic', 'anwar', 'restrictive', 'jailguard', 'macfarlane', 'subagyo', 'genes', 'abominable', 'rudiger', 'kibalko', 'fertilization', 'underemployed', 'stopgaps', 'systemically', 'runevad', 'bellwether', 'tunis', 'mannerisms', 'wazir', 'henoko', 'zenith', 'scriber', 'uganda', 'activations', 'restarting', 'marietje', 'nestor', 'ourcrowd', 'biogen', 'gutmacher', 'individuality', 'permit', 'equaled', 'zs', 'gnashed', 'rjo', 'jettisons', 'bernardino', 'rebates', 'tost', 'ring', 'something', 'subsidise', 'itsunori', 'conversation', 'amy', 'elizandro', 'characterised', 'morkedal', 'crandall', 'wider', 'whirring', 'signboards', 'interval', 'liliana', 'servile', 'morano', 'vetevendosje', 'monroig', 'ozm', 'darius', 'stepanek', 'suddenlink', 'presses', 'adage', 'levante', 'cfe', 'caesar', 'harajli', 'meti']\n",
      "\n",
      "-----\n",
      "\n",
      "Long words that aren't URLs:\n",
      "['intergenerational', '国内勢による海外証券投資の流れは変わらないだろう', 'misunderstanding', 'disappropriation', 'microdiscectomies', 'misrepresentations', 'environmentalists', 'decriminalisation', 'fingerspitzengefuehl', 'physiotherapists', 'constitutionality', 'paleoanthropologist', 'misunderstandings', '今年は金利のスティープニングも予想されている', 'counterinsurgency', 'financialcentres', 'cryptocurrencies', 'gastroesophageal', 'ultraconservative', 'unconstitutional', 'hospitalizations', 'institutionalised', 'curlingiscoolfool', 'disqualification', 'chotiphatphaisal', 'undifferentiated', 'intercontinental', 'parapsychologist', 'sierraconstellation', 'counterrevolution', '米長期金利が上昇したにもかかわらずドル', 'counterterrorism', 'characterisation', 'lawenforcementappreciationday', '金融市場が日銀の動きに神経質になっている', 'indistinguishable', 'remotecontentextproperty', 'incomprehensible', 'microenvironment', 'instrumentalised', 'underappreciated', 'bundeskartellamt', 'redeterminations', 'commercialization', 'チーフマーケットエコノミストの岩下真理氏', 'unconstitutionally', 'hydroelectricity', 'その後付け的な理由として日銀オペ減額が使われたのではないか', 'recapitalisation', 'unapologetically', 'telecommunication', '市場が動き出したタイミングには時間差があった', 'ransibrahmanakul', 'janetjacksonappreciationday', 'thrombocytopenic', '利上げプロセスは終了する可能性もある', 'compartmentalizing', '日銀はいずれ超長期債の購入額を減らすのではないかとみられていた', 'spitzenkandidaten', 'disproportionately', 'narcotraffickers', 'nationalprayerbreakfast', 'shitholecountries', 'extraterritorial', 'アジア地域機関投資家営業統括責任者の岡澤恭弥氏によると', 'gastroenterologist', '日本株も大きく崩れることはないかもしれない', 'stmicroelectronics', 'ヘッジファンドなど海外勢が悠長に待っているはずもない', 'microelectronics', 'encephalomyelitis', 'uncharacteristically', 'mischaracterized', 'alliancebernstein', 'misinterpretation', 'papastathopoulos', 'westfalenstadion', 'misrepresentation', 'congressionalgoldmedal', 'gastrointestinal', 'biopharmaceutical', 'amerisourcebergen', 'chalermsripinyorat', '円高リスクがある政策変更は避けたいはず', '市場はそれに伴い大きく振れる場面がしばらく増えそうだ', 'immunomodulatory', 'compartmentalise', 'creditworthiness', 'technopromexport', 'mischaracterizes', '図らずも日銀の動きに神経質になっているマーケットの姿を映しだした格好だ', 'miscommunication', 'neuroradiologist', 'counterprotester', '日銀は政策変更をしないとみているという', 'institutionalized', 'financialinstruments', 'theinternational', 'gastroenterology', 'neurotransmitters']\n",
      "\n",
      "-----\n",
      "\n",
      "Number of URLs\n",
      "1\n",
      "http\n",
      "\n",
      "-----\n",
      "\n",
      "Enumerated Frequency Distribution:\n",
      "7 | said | 68547\n",
      "22 | percent | 25540\n",
      "26 | year | 22282\n",
      "29 | reuters | 20715\n",
      "34 | would | 17123\n",
      "42 | last | 14649\n",
      "45 | new | 13663\n",
      "47 | also | 13091\n",
      "51 | government | 11438\n",
      "52 | one | 11136\n",
      "54 | two | 10732\n",
      "55 | billion | 10516\n",
      "56 | million | 9797\n",
      "57 | could | 9617\n",
      "58 | company | 9168\n",
      "60 | first | 9001\n",
      "62 | since | 8642\n",
      "63 | told | 8472\n",
      "65 | president | 8418\n",
      "66 | people | 8407\n",
      "68 | years | 8353\n",
      "69 | trump | 8299\n",
      "70 | market | 8142\n",
      "73 | state | 7681\n",
      "74 | united | 7661\n",
      "75 | time | 7605\n",
      "78 | states | 7119\n",
      "79 | week | 7067\n",
      "83 | south | 6891\n",
      "84 | world | 6792\n",
      "85 | three | 6745\n",
      "86 | china | 6536\n",
      "89 | group | 6037\n",
      "90 | bank | 6008\n",
      "92 | north | 5960\n",
      "94 | month | 5819\n",
      "96 | including | 5714\n",
      "97 | country | 5646\n",
      "98 | korea | 5469\n",
      "99 | according | 5444\n",
      "100 | oil | 5401\n",
      "101 | may | 5348\n",
      "102 | deal | 5326\n"
     ]
    }
   ],
   "source": [
    "TA.ExploreData(df['content'], 'linkedin', ['linkedin', 'blog'])"
   ]
  },
  {
   "cell_type": "code",
   "execution_count": 8,
   "metadata": {
    "collapsed": true
   },
   "outputs": [],
   "source": [
    "import pandas as pd\n",
    "# len(pd.unique(df['post_categories']))"
   ]
  },
  {
   "cell_type": "code",
   "execution_count": null,
   "metadata": {
    "collapsed": true
   },
   "outputs": [],
   "source": []
  },
  {
   "cell_type": "code",
   "execution_count": 9,
   "metadata": {},
   "outputs": [
    {
     "name": "stdout",
     "output_type": "stream",
     "text": [
      "Number of Entries: 13798\n",
      "Number of Words: 66155\n"
     ]
    }
   ],
   "source": [
    "counts, count_vectorizer = TM.GetCountVect(df['content'])"
   ]
  },
  {
   "cell_type": "code",
   "execution_count": 10,
   "metadata": {},
   "outputs": [
    {
     "data": {
      "text/plain": [
       "array([[0, 0, 0, ..., 0, 0, 0],\n",
       "       [0, 0, 0, ..., 0, 0, 0],\n",
       "       [0, 0, 0, ..., 0, 0, 0],\n",
       "       ...,\n",
       "       [0, 0, 0, ..., 0, 0, 0],\n",
       "       [0, 0, 0, ..., 0, 0, 0],\n",
       "       [0, 0, 0, ..., 0, 0, 0]])"
      ]
     },
     "execution_count": 10,
     "metadata": {},
     "output_type": "execute_result"
    }
   ],
   "source": [
    "counts.toarray()"
   ]
  },
  {
   "cell_type": "code",
   "execution_count": 11,
   "metadata": {},
   "outputs": [
    {
     "name": "stdout",
     "output_type": "stream",
     "text": [
      "Generating Vectors...\n",
      "Number of Entries: 5519\n",
      "Number of Words: 47300\n"
     ]
    }
   ],
   "source": [
    "counts_tfidf, count_vectorizer_tfidf = TM.GetTfIdfCountVect(df['content'].sample(frac=0.4))"
   ]
  },
  {
   "cell_type": "code",
   "execution_count": 12,
   "metadata": {},
   "outputs": [
    {
     "data": {
      "text/plain": [
       "array([[0., 0., 0., ..., 0., 0., 0.],\n",
       "       [0., 0., 0., ..., 0., 0., 0.],\n",
       "       [0., 0., 0., ..., 0., 0., 0.],\n",
       "       ...,\n",
       "       [0., 0., 0., ..., 0., 0., 0.],\n",
       "       [0., 0., 0., ..., 0., 0., 0.],\n",
       "       [0., 0., 0., ..., 0., 0., 0.]])"
      ]
     },
     "execution_count": 12,
     "metadata": {},
     "output_type": "execute_result"
    }
   ],
   "source": [
    "counts_tfidf.toarray()"
   ]
  },
  {
   "cell_type": "code",
   "execution_count": 13,
   "metadata": {
    "collapsed": true
   },
   "outputs": [],
   "source": [
    "if False:\n",
    "    lda = TM.LDA(counts, count_vectorizer, 10)\n",
    "    # nmf = TM.NMF(counts, count_vectorizer, 5)\n",
    "    # lda.print_topics()\n",
    "    top_n_words = TM.GetTopWords(lda, 10)\n",
    "    for i, top in enumerate(top_n_words):\n",
    "        print(\"Topic %d: %s\" % (i+1, ', '.join(top)))"
   ]
  },
  {
   "cell_type": "code",
   "execution_count": 14,
   "metadata": {
    "collapsed": true
   },
   "outputs": [],
   "source": [
    "if False:\n",
    "    lda_tfidf = TM.LDA(counts_tfidf, count_vectorizer_tfidf, 10)\n",
    "    # lda_tfidf.print_topics()\n",
    "    top_n_words_tfidf = TM.GetTopWords(lda_tfidf, 10)\n",
    "    for i, top in enumerate(top_n_words_tfidf):\n",
    "        print(\"Topic %d: %s\" % (i+1, ', '.join(top)))"
   ]
  },
  {
   "cell_type": "code",
   "execution_count": 15,
   "metadata": {},
   "outputs": [],
   "source": [
    "# list(pd.unique(df['post_categories']))"
   ]
  },
  {
   "cell_type": "code",
   "execution_count": 19,
   "metadata": {
    "collapsed": true
   },
   "outputs": [],
   "source": [
    "model = TM.NMF(counts_tfidf, count_vectorizer_tfidf, 30)"
   ]
  },
  {
   "cell_type": "code",
   "execution_count": 21,
   "metadata": {},
   "outputs": [
    {
     "name": "stdout",
     "output_type": "stream",
     "text": [
      "Topic 0: percent, billion, quarter, company, revenue, share, million, tax, earnings, profit\n",
      "Topic 1: police, said, people, killed, city, attack, school, security, state, gun\n",
      "Topic 2: north, korea, korean, south, kim, nuclear, olympics, seoul, pyongyang, talks\n",
      "Topic 3: turkey, syria, syrian, turkish, ypg, afrin, kurdish, forces, ankara, erdogan\n",
      "Topic 4: match, open, australian, slam, melbourne, federer, grand, round, set, champion\n",
      "Topic 5: eu, britain, brexit, european, london, union, transition, trade, british, bloc\n",
      "Topic 6: trump, house, republican, white, democrats, senate, memo, republicans, president, fbi\n",
      "Topic 7: oil, crude, bpd, production, opec, prices, output, barrels, energy, million\n",
      "Topic 8: china, chinese, beijing, trade, kong, steel, hong, taiwan, yuan, imports\n",
      "Topic 9: party, government, minister, election, parliament, prime, vote, italy, opposition, leader\n",
      "Topic 10: israel, israeli, jerusalem, palestinian, palestinians, netanyahu, gaza, lebanon, hamas, unrwa\n",
      "Topic 11: spd, merkel, coalition, germany, conservatives, party, talks, schulz, chancellor, members\n",
      "Topic 12: zuma, anc, ramaphosa, africa, south, rand, african, president, corruption, gupta\n",
      "Topic 13: inflation, percent, growth, rate, economy, rates, fed, year, bank, euro\n",
      "Topic 14: gold, olympic, medal, team, pyeongchang, slalom, olympics, games, won, race\n",
      "Topic 15: bank, banks, said, billion, financial, funds, banking, bitcoin, fund, loans\n",
      "Topic 16: canada, canadian, nafta, trade, mexico, trump, talks, mexican, trudeau, toronto\n",
      "Topic 17: iran, iranian, nuclear, sanctions, tehran, deal, united, trump, yemen, states\n",
      "Topic 18: court, case, supreme, justice, law, judge, charges, said, ruling, yameen\n",
      "Topic 19: pakistan, afghanistan, taliban, islamabad, afghan, pakistani, militants, aid, india, fatf\n",
      "Topic 20: doping, athletes, ioc, russian, russia, olympic, games, pyeongchang, cas, committee\n",
      "Topic 21: percent, index, stocks, points, dollar, rose, yields, market, fell, dow\n",
      "Topic 22: boeing, airbus, embraer, bombardier, jets, aircraft, airlines, jet, said, air\n",
      "Topic 23: maduro, venezuela, venezuelan, colombia, opposition, venezuelans, tillerson, sanctions, latin, nicolas\n",
      "Topic 24: study, health, patients, said, women, drug, disease, cancer, people, researchers\n",
      "Topic 25: gm, vehicles, electric, ford, cars, vehicle, sales, motor, car, diesel\n",
      "Topic 26: saudi, arabia, aramco, prince, yemen, ipo, kingdom, riyadh, bin, listing\n",
      "Topic 27: myanmar, rohingya, rakhine, bangladesh, military, security, refugees, nations, said, kyi\n",
      "Topic 28: league, game, season, club, team, premier, manchester, cup, city, champions\n",
      "Topic 29: qualcomm, broadcom, apple, nxp, deal, chips, offer, shareholders, technology, intel\n"
     ]
    }
   ],
   "source": [
    "top_n_words_tfidf = TM.GetTopWords(model, 10, count_vectorizer_tfidf)\n",
    "for i, top in enumerate(top_n_words_tfidf):\n",
    "    print(\"Topic %d: %s\" % (i, ', '.join(top)))"
   ]
  },
  {
   "cell_type": "code",
   "execution_count": 18,
   "metadata": {},
   "outputs": [
    {
     "data": {
      "text/plain": [
       "283"
      ]
     },
     "execution_count": 18,
     "metadata": {},
     "output_type": "execute_result"
    }
   ],
   "source": [
    "283"
   ]
  },
  {
   "cell_type": "code",
   "execution_count": 5,
   "metadata": {
    "collapsed": true
   },
   "outputs": [],
   "source": [
    "reuters_all_categories = {\n",
    "    0: 'Business',\n",
    "    1: 'Crime / Security',\n",
    "    2: 'North Korea',\n",
    "    3: 'Turkey / Syria',\n",
    "    4: 'Tennis',\n",
    "    5: 'Brexit / European Union',\n",
    "    6: 'Politics',\n",
    "    7: 'Energy / Environmental',\n",
    "    8: 'Chinese Trade',\n",
    "    9: 'European Politics / Government',\n",
    "    10: 'Israel / Palestine',\n",
    "    11: 'German Politics',\n",
    "    12: 'Africa',\n",
    "    13: 'Economy',\n",
    "    14: '2018 Winter Olympics',\n",
    "    15: 'Financial / Cryptocurrency',\n",
    "    16: 'North America',\n",
    "    17: 'Iran / Yemen',\n",
    "    18: '',\n",
    "    19: 'Afghanistan / Pakistan',\n",
    "    20: '2014 Winter Olympics',\n",
    "    21: 'Stock Market',\n",
    "    22: 'Aircraft',\n",
    "    23: 'South America',\n",
    "    24: 'Medicine',\n",
    "    25: 'Automotive',\n",
    "    26: 'Saudi Arabia',\n",
    "    27: 'Immigration',\n",
    "    28: 'Sports',\n",
    "    29: 'Technology',\n",
    "}"
   ]
  },
  {
   "cell_type": "code",
   "execution_count": 6,
   "metadata": {
    "collapsed": true
   },
   "outputs": [],
   "source": [
    "import pickle\n",
    "# with open('reuters_count_vectorizer_tfidf.pkl', 'wb') as fn:\n",
    "#     pickle.dump(count_vectorizer_tfidf, fn)\n",
    "# with open('reuters_counts_tfidf.pkl', 'wb') as fn:\n",
    "#     pickle.dump(counts_tfidf, fn)\n",
    "# with open('reuters_NMF.pkl', 'wb') as fn:\n",
    "#     pickle.dump(model, fn)\n",
    "with open('reuters_categories.pkl', 'wb') as fn:\n",
    "    pickle.dump(reuters_all_categories, fn)"
   ]
  },
  {
   "cell_type": "code",
   "execution_count": 31,
   "metadata": {
    "collapsed": true
   },
   "outputs": [],
   "source": [
    "with open('reuters_count_vectorizer_tfidf.pkl', 'rb') as fn:\n",
    "    vectorizer = pickle.load(fn)"
   ]
  },
  {
   "cell_type": "code",
   "execution_count": 25,
   "metadata": {
    "collapsed": true
   },
   "outputs": [],
   "source": [
    "spoon_categories = {\n",
    "    0: 'Art',\n",
    "    1: 'Architecture',\n",
    "    2: 'Industrial Design',\n",
    "    3: '',\n",
    "    4: '',\n",
    "    5: 'Graphic Design',\n",
    "    6: '',\n",
    "    7: '',\n",
    "    8: 'Food',\n",
    "    9: '',\n",
    "    10: '',\n",
    "    11: '',\n",
    "}"
   ]
  },
  {
   "cell_type": "code",
   "execution_count": null,
   "metadata": {
    "collapsed": true
   },
   "outputs": [],
   "source": []
  },
  {
   "cell_type": "code",
   "execution_count": 26,
   "metadata": {
    "collapsed": true
   },
   "outputs": [],
   "source": [
    "# Try Text Summarization\n",
    "from sumy.nlp.tokenizers import Tokenizer\n",
    "from sumy.parsers.plaintext import PlaintextParser\n",
    "from sumy.summarizers.lsa import LsaSummarizer\n",
    "from sumy.summarizers.edmundson import EdmundsonSummarizer\n",
    "from sumy.summarizers.lex_rank import LexRankSummarizer\n",
    "from sumy.summarizers.luhn import LuhnSummarizer\n",
    "from sumy.summarizers.kl import KLSummarizer\n",
    "from sumy.summarizers.sum_basic import SumBasicSummarizer\n",
    "from sumy.summarizers.text_rank import TextRankSummarizer\n",
    "from sumy.nlp.stemmers import Stemmer\n",
    "from sumy.utils import get_stop_words\n",
    "from sumy.evaluation import cosine_similarity, recall, precision, rouge, rouge_1"
   ]
  },
  {
   "cell_type": "code",
   "execution_count": 27,
   "metadata": {
    "collapsed": true
   },
   "outputs": [],
   "source": [
    "import numpy as np\n",
    "LANGUAGE = \"english\"\n",
    "SENTENCES_COUNT = 3\n",
    "CONTENT_INDEX = np.random.randint(0, len(df))"
   ]
  },
  {
   "cell_type": "code",
   "execution_count": 37,
   "metadata": {
    "collapsed": true
   },
   "outputs": [],
   "source": [
    "x = count_vectorizer_tfidf.transform([df['content'][CONTENT_INDEX]])"
   ]
  },
  {
   "cell_type": "code",
   "execution_count": 38,
   "metadata": {
    "collapsed": true
   },
   "outputs": [],
   "source": [
    "W = model.transform(x.toarray())[0]"
   ]
  },
  {
   "cell_type": "code",
   "execution_count": 166,
   "metadata": {
    "collapsed": true
   },
   "outputs": [],
   "source": [
    "parser = PlaintextParser(df['content'][CONTENT_INDEX], Tokenizer(LANGUAGE))"
   ]
  },
  {
   "cell_type": "code",
   "execution_count": 167,
   "metadata": {
    "collapsed": true
   },
   "outputs": [],
   "source": [
    "stemmer = Stemmer(LANGUAGE)"
   ]
  },
  {
   "cell_type": "code",
   "execution_count": 168,
   "metadata": {
    "collapsed": true
   },
   "outputs": [],
   "source": [
    "summarizers = [LsaSummarizer(stemmer),\n",
    "               EdmundsonSummarizer(stemmer),\n",
    "               LexRankSummarizer(stemmer),\n",
    "               LuhnSummarizer(stemmer),\n",
    "               KLSummarizer(stemmer),\n",
    "               SumBasicSummarizer(stemmer),\n",
    "               TextRankSummarizer(stemmer)]"
   ]
  },
  {
   "cell_type": "code",
   "execution_count": null,
   "metadata": {
    "collapsed": true
   },
   "outputs": [],
   "source": []
  },
  {
   "cell_type": "code",
   "execution_count": 169,
   "metadata": {},
   "outputs": [
    {
     "data": {
      "text/plain": [
       "'UAE says Qatari fighter jets intercepted civilian flight'"
      ]
     },
     "execution_count": 169,
     "metadata": {},
     "output_type": "execute_result"
    }
   ],
   "source": [
    "title = df['title'][CONTENT_INDEX]\n",
    "title"
   ]
  },
  {
   "cell_type": "code",
   "execution_count": 170,
   "metadata": {},
   "outputs": [
    {
     "name": "stdout",
     "output_type": "stream",
     "text": [
      "Predicted Topic: Iran (48.02% Confidence)\n",
      "Top Words: iran, saudi, iranian, nuclear, tehran, arabia, protests, yemen, sanctions, government, al, prince, khamenei, united, foreign, iranians, security, rouhani, unrest, said\n"
     ]
    }
   ],
   "source": [
    "print(\"Predicted Topic: %s (%0.2f%% Confidence)\" % (reuters_all_categories[W.argmax()], 100.*W.max()/W.sum()))\n",
    "print(\"Top Words: %s\" % (', '.join(top_n_words_tfidf[W.argmax()])))"
   ]
  },
  {
   "cell_type": "code",
   "execution_count": null,
   "metadata": {
    "collapsed": true
   },
   "outputs": [],
   "source": []
  },
  {
   "cell_type": "code",
   "execution_count": 171,
   "metadata": {},
   "outputs": [
    {
     "name": "stdout",
     "output_type": "stream",
     "text": [
      "Stigma Words: percent, index, stocks, points, dollar, north, korea, korean, south, kim, olympic, team, gold, games, pyeongchang, turkey, syria, turkish, syrian, ypg, trump, house, republican, white, senate, eu, britain, brexit, european, london, oil, crude, opec, bpd, production, zuma, anc, ramaphosa, africa, south, inflation, bank, percent, rate, growth, spd, merkel, coalition, party, germany, percent, quarter, billion, sales, tax\n"
     ]
    }
   ],
   "source": [
    "stigma_words = []\n",
    "for i, elem in enumerate(W):\n",
    "    if elem == 0:\n",
    "        stigma_words += top_n_words_tfidf[i][:5]\n",
    "print(\"Stigma Words: %s\" % (', '.join(stigma_words)))"
   ]
  },
  {
   "cell_type": "code",
   "execution_count": 172,
   "metadata": {},
   "outputs": [
    {
     "data": {
      "text/plain": [
       "'DUBAI (Reuters) - The United Arab Emirates said on Monday Qatari air force jets had twice intercepted its civilian aircraft during routine flights to Bahrain, but Qatar called the claim “completely untrue”.    Qatar said the allegation, reported by the UAE’s state news agency WAM, was intended to divert attention from what it said were violations by Emirati military aircraft of its airspace. The UAE is one of four Arab countries, along with Saudi Arabia, Bahrain and Egypt, that imposed travel, diplomatic and trade sanctions on Qatar in June 2017, accusing it of supporting terrorism.  Qatar has denied the charges and accused the four countries of trying to make it conform to their foreign policy positions. Qatar’s rivals have banned Qatari aircraft from their airspace but Doha has not reciprocated with a ban of its own. The UAE General Civil Aviation Authority said two Emirati airliners, carrying 277 passengers, had encountered the jets from Qatar, which lies between the UAE and Bahrain, while en route to Bahrain, according to WAM. One of the planes was intercepted at 10:30 a.m., and the second at 11:05 a.m. at between 9,000 and 10,000 feet. The report did not specify a date, but appeared to mean the incidents happened on Monday. “Bahraini radars have tracked the Qatari military planes while intercepting the Emirati civilian aircraft,” WAM quoted  civil aviation director Saif al-Suwaidi as saying. “The incident could also be seen by the naked eye by both the crew and passengers, which constitutes a clear threat to the lives of innocent civilians,” he added. The UAE condemned the Qatari action as “a serious and renewed breach of international conventions and the safety of civil aircraft traffic”. The UAE Civil Aviation Authority did not say which airlines were involved, but Bahrain’s state news agency BNA said the first flight was from Emirates [EMIRA.UL]. The airline is owned by the government of Dubai, one of seven emirates in the UAE federation. It gave no details of the second flight. Qatar’s foreign ministry said the UAE allegation followed incidents on Dec. 21 and Jan. 3 in which UAE military aircraft had violated its airspace. Ministry spokeswoman Lulwa Rashed al-Khater said Qatar planned to take legal action against the UAE over the incidents. “It seems that the Civil Aviation Authority in the UAE, by publishing false claims, is trying to pre-empt events and cover over news of the Emirati plane penetration of Qatari airspace,” Khater said in the statement, posted on the ministry’s website. On Friday, Qatar said it had filed a complaint with the United Nations about the alleged violation of its airspace on Dec. 21.  The UAE denied the allegation. '"
      ]
     },
     "execution_count": 172,
     "metadata": {},
     "output_type": "execute_result"
    }
   ],
   "source": [
    "df['content'][CONTENT_INDEX]"
   ]
  },
  {
   "cell_type": "code",
   "execution_count": 173,
   "metadata": {
    "scrolled": false
   },
   "outputs": [
    {
     "name": "stdout",
     "output_type": "stream",
     "text": [
      "<sumy.summarizers.lsa.LsaSummarizer object at 0x7f83316141d0>\n",
      "DUBAI (Reuters) - The United Arab Emirates said on Monday Qatari air force jets had twice intercepted its civilian aircraft during routine flights to Bahrain, but Qatar called the claim “completely untrue”. The UAE is one of four Arab countries, along with Saudi Arabia, Bahrain and Egypt, that imposed travel, diplomatic and trade sanctions on Qatar in June 2017, accusing it of supporting terrorism. “It seems that the Civil Aviation Authority in the UAE, by publishing false claims, is trying to pre-empt events and cover over news of the Emirati plane penetration of Qatari airspace,” Khater said in the statement, posted on the ministry’s website.\n",
      "-----\n",
      "\n",
      "<sumy.summarizers.edmundson.EdmundsonSummarizer object at 0x7f8331614438>\n",
      "DUBAI (Reuters) - The United Arab Emirates said on Monday Qatari air force jets had twice intercepted its civilian aircraft during routine flights to Bahrain, but Qatar called the claim “completely untrue”. The UAE is one of four Arab countries, along with Saudi Arabia, Bahrain and Egypt, that imposed travel, diplomatic and trade sanctions on Qatar in June 2017, accusing it of supporting terrorism. The UAE General Civil Aviation Authority said two Emirati airliners, carrying 277 passengers, had encountered the jets from Qatar, which lies between the UAE and Bahrain, while en route to Bahrain, according to WAM.\n",
      "-----\n",
      "\n",
      "<sumy.summarizers.lex_rank.LexRankSummarizer object at 0x7f83316146d8>\n",
      "Qatar said the allegation, reported by the UAE’s state news agency WAM, was intended to divert attention from what it said were violations by Emirati military aircraft of its airspace. The UAE Civil Aviation Authority did not say which airlines were involved, but Bahrain’s state news agency BNA said the first flight was from Emirates [EMIRA.UL]. Qatar’s foreign ministry said the UAE allegation followed incidents on Dec. 21 and Jan. 3 in which UAE military aircraft had violated its airspace.\n",
      "-----\n",
      "\n",
      "<sumy.summarizers.luhn.LuhnSummarizer object at 0x7f83316148d0>\n",
      "DUBAI (Reuters) - The United Arab Emirates said on Monday Qatari air force jets had twice intercepted its civilian aircraft during routine flights to Bahrain, but Qatar called the claim “completely untrue”. Qatar said the allegation, reported by the UAE’s state news agency WAM, was intended to divert attention from what it said were violations by Emirati military aircraft of its airspace. “Bahraini radars have tracked the Qatari military planes while intercepting the Emirati civilian aircraft,” WAM quoted  civil aviation director Saif al-Suwaidi as saying.\n",
      "-----\n",
      "\n",
      "<sumy.summarizers.kl.KLSummarizer object at 0x7f8331614518>\n",
      "“Bahraini radars have tracked the Qatari military planes while intercepting the Emirati civilian aircraft,” WAM quoted  civil aviation director Saif al-Suwaidi as saying. “The incident could also be seen by the naked eye by both the crew and passengers, which constitutes a clear threat to the lives of innocent civilians,” he added. Qatar’s foreign ministry said the UAE allegation followed incidents on Dec. 21 and Jan. 3 in which UAE military aircraft had violated its airspace.\n",
      "-----\n",
      "\n",
      "<sumy.summarizers.sum_basic.SumBasicSummarizer object at 0x7f83316144e0>\n",
      "Qatar’s rivals have banned Qatari aircraft from their airspace but Doha has not reciprocated with a ban of its own. The UAE Civil Aviation Authority did not say which airlines were involved, but Bahrain’s state news agency BNA said the first flight was from Emirates [EMIRA.UL]. The UAE denied the allegation.\n",
      "-----\n",
      "\n",
      "<sumy.summarizers.text_rank.TextRankSummarizer object at 0x7f8331614a90>\n",
      "Qatar said the allegation, reported by the UAE’s state news agency WAM, was intended to divert attention from what it said were violations by Emirati military aircraft of its airspace. The UAE General Civil Aviation Authority said two Emirati airliners, carrying 277 passengers, had encountered the jets from Qatar, which lies between the UAE and Bahrain, while en route to Bahrain, according to WAM. Qatar’s foreign ministry said the UAE allegation followed incidents on Dec. 21 and Jan. 3 in which UAE military aircraft had violated its airspace.\n",
      "-----\n",
      "\n"
     ]
    }
   ],
   "source": [
    "for summarizer in summarizers:\n",
    "    print(summarizer)\n",
    "    summarizer.stop_words = get_stop_words(LANGUAGE)\n",
    "    if type(summarizer) == EdmundsonSummarizer:\n",
    "        summarizer.bonus_words = title.lower().split(' ') + \\\n",
    "                                 top_n_words_tfidf[W.argmax()]\n",
    "        summarizer.stigma_words = stigma_words\n",
    "        summarizer.null_words = ['i']\n",
    "    summary = []\n",
    "    for sentence in summarizer(parser.document, SENTENCES_COUNT):\n",
    "        summary.append(str(sentence))\n",
    "    print(' '.join(summary))\n",
    "    print('-----')\n",
    "    print('')"
   ]
  },
  {
   "cell_type": "code",
   "execution_count": null,
   "metadata": {
    "collapsed": true
   },
   "outputs": [],
   "source": []
  },
  {
   "cell_type": "code",
   "execution_count": 66,
   "metadata": {},
   "outputs": [
    {
     "data": {
      "text/plain": [
       "(<Sentence: (Reuters) - International Business Machines Corp ( ) sued its former executive Lindsay-Rae McIntyre, who was named Microsoft Corp’s ( ) new chief diversity officer over the weekend, alleging violation of a one-year non-competitive agreement.>,\n",
       " <Sentence: McIntyre, who “abruptly resigned to compete against IBM,” was in possession of highly confidential and sensitive information about IBM’s diversity strategies, hiring targets, technologies and innovations, IBM said in the lawsuit filed in a New York federal court on Monday.>,\n",
       " <Sentence: Meanwhile, Bloomberg reported that Judge Vincent Briccetti temporarily barred McIntyre from moving to Microsoft.>,\n",
       " <Sentence: In her motion filed on Tuesday opposing the lawsuit, McIntyre said IBM cannot demonstrate irreparable harm because there is no evidence that she has or will misappropriate any IBM confidential or proprietary information, and that the company was fully protected by an ongoing non-disclosure agreement.>,\n",
       " <Sentence: McIntyre also said she had informed IBM in January about accepting the position at Microsoft and that IBM terminated her employment thereafter.>,\n",
       " <Sentence: IBM said McIntyre using and disclosing, whether intentionally or not, its confidential and sensitive information would place the company at a competitive disadvantage.>,\n",
       " <Sentence: McIntyre was human resources VP and chief diversity office at IBM, according to her LinkedIn profile.>,\n",
       " <Sentence: IBM said it sought to enforce McIntyre’s non-competition agreement for the 12-month period and recover from her the equity compensation she has forfeited by “violating her contractual duties” to IBM.>,\n",
       " <Sentence: “We have no interest in any of IBM’s confidential information,” a Microsoft spokesperson said.>,\n",
       " <Sentence: The case is International Business Machines Corp v Lindsay-Rae McIntyre, U.S. District Court, Southern District of New York, No.>,\n",
       " <Sentence: 18-cv-1210-VB.>)"
      ]
     },
     "execution_count": 66,
     "metadata": {},
     "output_type": "execute_result"
    }
   ],
   "source": [
    "parser.document.sentences"
   ]
  },
  {
   "cell_type": "code",
   "execution_count": 34,
   "metadata": {
    "collapsed": true
   },
   "outputs": [],
   "source": [
    "x = summarizer(parser.document, SENTENCES_COUNT)"
   ]
  },
  {
   "cell_type": "code",
   "execution_count": 35,
   "metadata": {
    "collapsed": true
   },
   "outputs": [],
   "source": [
    "x_ratings = [summarizer.rate_sentences(parser.document)[item] for item in x]"
   ]
  },
  {
   "cell_type": "code",
   "execution_count": 36,
   "metadata": {},
   "outputs": [
    {
     "data": {
      "text/plain": [
       "[3.9771086735293,\n",
       " 4.044791119833442,\n",
       " 5.7446578042418075,\n",
       " 6.87869339645205,\n",
       " 4.626763085924052,\n",
       " 3.9275582758432472,\n",
       " 7.561199094939864,\n",
       " 4.400844219250562,\n",
       " 3.941320376311431,\n",
       " 3.8065805738229024]"
      ]
     },
     "execution_count": 36,
     "metadata": {},
     "output_type": "execute_result"
    }
   ],
   "source": [
    "x_ratings"
   ]
  },
  {
   "cell_type": "code",
   "execution_count": null,
   "metadata": {
    "collapsed": true
   },
   "outputs": [],
   "source": []
  },
  {
   "cell_type": "code",
   "execution_count": 37,
   "metadata": {},
   "outputs": [
    {
     "data": {
      "text/plain": [
       "[[<Sentence: While European earnings overall are struggling to reach and surpass their pre-financial-crisis peak, tech stocks' earnings have hit their highest level since the tech bubble of 2001.>,\n",
       "  7.561199094939864],\n",
       " [<Sentence: Europe's stock markets are not breaking records like Wall Street is, but in tech, European valuations are higher than their U.S. counterparts on a share price to forward earnings basis.>,\n",
       "  6.87869339645205],\n",
       " [<Sentence: Tech was by far the strongest sector in global stocks last year.>,\n",
       "  5.7446578042418075],\n",
       " [<Sentence: European tech is more focused on business-to-business areas such as industrial automation, connected home appliances, business management software and self-driving car components.>,\n",
       "  4.626763085924052],\n",
       " [<Sentence: Wesley Lebeau, portfolio manager of CPR’s global disruption fund, said he was avoiding some well-known European digital economy stocks such as Delivery Hero, Zalando or Yoox Net-a-Porter, saying they are more expensive than U.S. peers.>,\n",
       "  4.400844219250562],\n",
       " [<Sentence: The comeback underscores how European technology stocks are on a roll again after a rapid run-up in 2017 left investors wary of eye-watering valuations and switched to more cyclical industries in December as the global economy picked up steam.>,\n",
       "  4.044791119833442],\n",
       " [<Sentence: But as the impact of the announcement wore off, investors bid the stock higher and it closed the day down just 1 percent, leaving it up 37 percent in the past year.>,\n",
       "  3.9771086735293],\n",
       " [<Sentence: “ASML are supplying the machines... with their EUV lithography technology you literally have a 30-year runway of growth because the order book is so visible.” Morris-Eyton has 26 percent of his fund invested in tech.>,\n",
       "  3.941320376311431],\n",
       " [<Sentence: Tech is leading Europe's earnings recovery.>, 3.9275582758432472],\n",
       " [<Sentence: He also holds Zalando, which he believes can be classified as a tech company even though it started out as an online fashion portal, and banking software maker Temenos, which stands to gain as banks recovering from the financial crisis start to invest again to replace outdated legacy systems.>,\n",
       "  3.8065805738229024],\n",
       " [<Sentence: Flows data from Bank of America Merrill-Lynch last week showed $2.1 billion poured into tech sector funds, a record figure.>,\n",
       "  3.692801698558187],\n",
       " [<Sentence: “We are still very bullish on the (tech) sector but we should assume that the returns we saw last year are probably unlikely to be matched this year because it’s got harder on that multiple side,” said Morris-Eyton.>,\n",
       "  3.6087297636913798],\n",
       " [<Sentence: While U.S. tech giants such as Facebook, Amazon.com, Apple and Google owner Alphabet are growing fast, their focus on consumer end-markets puts them squarely in the sights of regulators and consumer watchdogs monitoring their market dominance and policing of online content.>,\n",
       "  3.2395115108016777],\n",
       " [<Sentence: Allianz Global Investors is a buyer of ASML, even as China tries to become a global force in semiconductor making.>,\n",
       "  2.7057127068927684],\n",
       " [<Sentence: A trader at a European bank said he remained positive on STMicro and Infineon despite recent caution around those names.>,\n",
       "  2.439257718271222],\n",
       " [<Sentence: That includes Infineon, despite the stock’s massive gains in 2017.>,\n",
       "  2.3834277465538474],\n",
       " [<Sentence: The head of Finland’s Nokia said on Thursday its mobile networks business, which has struggled with declining demand since 2015, was showing signs of a rebound, sending its shares up 14 percent.>,\n",
       "  2.272940888663004],\n",
       " [<Sentence: He points to Infineon’s big market share in electric vehicle components.>,\n",
       "  2.2071584174096346],\n",
       " [<Sentence: Austria’s AMS soared 26 percent on Monday after it boosted revenue guidance on rising demand for its optical sensors from Apple and others.>,\n",
       "  2.1608917932553324],\n",
       " [<Sentence: Apple, Alphabet and Amazon.com all announce earnings later on Thursday.>,\n",
       "  2.1311540188862823],\n",
       " [<Sentence: LONDON (Reuters) - When German semiconductor maker Infineon slashed its revenue guidance on Wednesday because of a weakening dollar, its shares tumbled to the bottom of the benchmark DAX index.>,\n",
       "  2.1125882977840247],\n",
       " [<Sentence: “This is where barriers to entry are so important,” said Marcus Morris-Eyton, European equities portfolio manager at Allianz GI.>,\n",
       "  1.9984286698511724],\n",
       " [<Sentence: “In Europe what is interesting is on the component side,” he said.>,\n",
       "  1.3720245490449554],\n",
       " [<Sentence: They are starting to be a key differentiator.” Chipmaking machine supplier ASML squarely beat profit expectations in the fourth quarter and said many customers were asking for early delivery of its equipment.>,\n",
       "  1.237771522495535],\n",
       " [<Sentence: “The peak of the semiconductors cycle is close but it’s not imminent,” he said.>,\n",
       "  1.1881648671029341],\n",
       " [<Sentence: “AMS has done a fantastic job to get ahead of U.S. and Asian rivals in terms of 3D sensors...>,\n",
       "  0.4306269742216893],\n",
       " [<Sentence: “Even though we are in a final phase of the cycle, there is an acceleration of activity,” he said, citing Cap Gemini, Sopra Steria and Altran among house recommendations.>,\n",
       "  0.23955611574701857],\n",
       " [<Sentence: He also backed IT services firms.>, 0.0]]"
      ]
     },
     "execution_count": 37,
     "metadata": {},
     "output_type": "execute_result"
    }
   ],
   "source": [
    "import operator\n",
    "sentence_ratings = []\n",
    "for sent in summarizer.rate_sentences(parser.document):\n",
    "    sentence_ratings.append([sent, summarizer.rate_sentences(parser.document)[sent]])\n",
    "sentence_ratings.sort(key=lambda x: x[1], reverse=True)\n",
    "sentence_ratings"
   ]
  },
  {
   "cell_type": "code",
   "execution_count": null,
   "metadata": {
    "collapsed": true
   },
   "outputs": [],
   "source": []
  },
  {
   "cell_type": "code",
   "execution_count": 90,
   "metadata": {
    "collapsed": true
   },
   "outputs": [],
   "source": [
    "API_KEY = 'e4d78b49d7c24afa86eb59b318cb04a8'"
   ]
  },
  {
   "cell_type": "code",
   "execution_count": 91,
   "metadata": {
    "collapsed": true
   },
   "outputs": [],
   "source": [
    "from newsapi import NewsApiClient"
   ]
  },
  {
   "cell_type": "code",
   "execution_count": 92,
   "metadata": {
    "collapsed": true
   },
   "outputs": [],
   "source": [
    "newsapi = NewsApiClient(API_KEY)"
   ]
  },
  {
   "cell_type": "code",
   "execution_count": null,
   "metadata": {
    "collapsed": true
   },
   "outputs": [],
   "source": []
  },
  {
   "cell_type": "code",
   "execution_count": 1,
   "metadata": {},
   "outputs": [
    {
     "ename": "NameError",
     "evalue": "name 'newsapi' is not defined",
     "output_type": "error",
     "traceback": [
      "\u001b[0;31m---------------------------------------------------------------------------\u001b[0m",
      "\u001b[0;31mNameError\u001b[0m                                 Traceback (most recent call last)",
      "\u001b[0;32m<ipython-input-1-08ca5a4edf4d>\u001b[0m in \u001b[0;36m<module>\u001b[0;34m()\u001b[0m\n\u001b[0;32m----> 1\u001b[0;31m \u001b[0;34m[\u001b[0m\u001b[0mx\u001b[0m\u001b[0;34m[\u001b[0m\u001b[0;34m'name'\u001b[0m\u001b[0;34m]\u001b[0m \u001b[0;32mfor\u001b[0m \u001b[0mx\u001b[0m \u001b[0;32min\u001b[0m \u001b[0mnewsapi\u001b[0m\u001b[0;34m.\u001b[0m\u001b[0mget_sources\u001b[0m\u001b[0;34m(\u001b[0m\u001b[0;34m)\u001b[0m\u001b[0;34m[\u001b[0m\u001b[0;34m'sources'\u001b[0m\u001b[0;34m]\u001b[0m\u001b[0;34m]\u001b[0m\u001b[0;34m[\u001b[0m\u001b[0;34m:\u001b[0m\u001b[0;36m5\u001b[0m\u001b[0;34m]\u001b[0m\u001b[0;34m\u001b[0m\u001b[0m\n\u001b[0m",
      "\u001b[0;31mNameError\u001b[0m: name 'newsapi' is not defined"
     ]
    }
   ],
   "source": [
    "[x['name'] for x in newsapi.get_sources()['sources']][:5]"
   ]
  },
  {
   "cell_type": "code",
   "execution_count": 186,
   "metadata": {
    "collapsed": true
   },
   "outputs": [],
   "source": [
    "all_articles = newsapi.get_everything(q='',\n",
    "                                      sources='reuters',\n",
    "                                      domains='\"https://www.reuters.com\"',\n",
    "                                      from_parameter='2018-02-26',\n",
    "                                      to='2018-02-27',\n",
    "                                      language='en',\n",
    "                                      sort_by='date',\n",
    "                                      page=7,\n",
    "                                      page_size=100)"
   ]
  },
  {
   "cell_type": "code",
   "execution_count": 194,
   "metadata": {},
   "outputs": [
    {
     "data": {
      "text/plain": [
       "'Sonam Rai'"
      ]
     },
     "execution_count": 194,
     "metadata": {},
     "output_type": "execute_result"
    }
   ],
   "source": [
    "all_articles['articles'][60]['author']"
   ]
  },
  {
   "cell_type": "code",
   "execution_count": null,
   "metadata": {
    "collapsed": true
   },
   "outputs": [],
   "source": []
  },
  {
   "cell_type": "code",
   "execution_count": 134,
   "metadata": {},
   "outputs": [
    {
     "data": {
      "text/plain": [
       "1175"
      ]
     },
     "execution_count": 134,
     "metadata": {},
     "output_type": "execute_result"
    }
   ],
   "source": [
    "all_articles['totalResults']"
   ]
  },
  {
   "cell_type": "code",
   "execution_count": 196,
   "metadata": {
    "collapsed": true
   },
   "outputs": [],
   "source": [
    "import numpy as np\n",
    "from bs4 import BeautifulSoup\n",
    "import requests\n",
    "from IPython.display import clear_output\n",
    "\n",
    "def fetch_articles(sources, domains, date, language):\n",
    "    date_str = date.strftime('%Y-%m-%d')\n",
    "    all_articles = newsapi.get_everything(q='',\n",
    "                                          sources=sources,\n",
    "                                          domains=domains,\n",
    "                                          from_parameter=date_str,\n",
    "                                          to=date_str,\n",
    "                                          language='en',\n",
    "                                          sort_by='date',\n",
    "                                          page=1,\n",
    "                                          page_size=1)\n",
    "    articles = []\n",
    "    for i in range(1, int(np.ceil(all_articles['totalResults']/100.)+1)):\n",
    "        print(i)\n",
    "        new_articles = newsapi.get_everything(q='',\n",
    "                                              sources=sources,\n",
    "                                              domains=domains,\n",
    "                                              from_parameter=date_str,\n",
    "                                              to=date_str,\n",
    "                                              language='en',\n",
    "                                              sort_by='date',\n",
    "                                              page=i,\n",
    "                                              page_size=100)\n",
    "        new_articles = new_articles['articles']\n",
    "        for article in new_articles:\n",
    "            articles.append({\n",
    "                'url': article['url'],\n",
    "                'author': article['author'],\n",
    "                'title': article['title'],\n",
    "                'publishedAt': article['publishedAt']\n",
    "            })\n",
    "    return articles\n",
    "\n",
    "def get_article_text(url):\n",
    "    soup = BeautifulSoup(requests.get(url).text)\n",
    "    return ''.join([x.text for x in soup.find(name='div', attrs={'class': 'StandardArticleBody_body_1gnLA'}).find_all(name='p')][:-1])\n",
    "\n",
    "def add_article_content(articles):\n",
    "    for i, article in enumerate(articles):\n",
    "        clear_output(wait=True)\n",
    "        print(\"(%d/%d) %s\" % (i+1, len(articles), article['title']))\n",
    "        try:\n",
    "            articles[i]['content'] = get_article_text(article['url'])\n",
    "        except:\n",
    "            continue\n",
    "    return articles\n",
    "\n",
    "def add_articles_to_mongo():\n",
    "    pass"
   ]
  },
  {
   "cell_type": "code",
   "execution_count": 197,
   "metadata": {},
   "outputs": [
    {
     "name": "stdout",
     "output_type": "stream",
     "text": [
      "(556/556) Dimitrov knocked out by wildcard Jaziri in Dubai opener\n"
     ]
    }
   ],
   "source": [
    "a = fetch_articles('reuters', '\"https://www.reuters.com/\"',\n",
    "                      dt.datetime(2018,2,27), 'en')\n",
    "a = add_article_content(a)"
   ]
  },
  {
   "cell_type": "code",
   "execution_count": 185,
   "metadata": {},
   "outputs": [
    {
     "data": {
      "text/plain": [
       "[{'content': 'NEW YORK (Reuters) - World stock markets broadly fell and government debt yields rose on Tuesday as traders perceived a greater tightening of U.S. monetary policy than forecast after remarks by the new Federal Reserve chief in testimony before the U.S. Congress. Fed Chairman Jerome Powell pledged to balance the risk of an overheating economy and the need to keep growth on track in his prepared testimony, but Powell’s remark that inflation has strengthened since December sent yields higher and stocks lower. The 10-year U.S. Treasury, the global benchmark for commercial lending, jumped past 2.9 percent and equity markets in Europe and Wall Street turned south, with MSCI’s key index of global equity performance falling 0.4 percent. The dollar added to gains against the euro, the yen and a basket of major currencies and gold prices fell as Powell’s comments were in general positive for the greenback, said Brad Bechtel, managing director FX at Jefferies, in New York. “He is hawkish in the context of being very upbeat on the economy but willing to go at a moderate pace to normalize policy,” Bechtel said. The dollar index rose 0.54 percent, while the euro was down 0.61 percent to $1.2241. The Japanese yen weakened 0.49 percent versus the greenback to 107.47 per dollar. MSCI’s stock index <.MIWD00000PUS) of 47 countries shed 0.38 percent. The pan-European FTSEurofirst 300 index of leading regional shares fell 0.19 percent to close at a preliminary 526.18. On Wall Street, the Dow Jones Industrial Average fell 39.19 points, or 0.15 percent, to 25,670.08. The S&P 500 lost 11.18 points, or 0.40 percent, to 2,768.42 and the Nasdaq Composite dropped 44.17 points, or 0.6 percent, to 7,377.29. Euro zone bond yields initially rose after Powell’s early comments but soon trimmed those gains in line with U.S. bond yields.  Germany’s 10-year bond yields rose 1.5 bps to 0.674 percent, shrugging off news that German inflation has slowed. Benchmark 10-year U.S. Treasury notes fell 15/32 in price to push yields up 2.9117 percent. Oil dipped before weekly data that is forecast to show rising U.S. crude inventories, though investor confidence in OPEC’s ability to curb output helped stem the price slide. Brent crude futures eased 6 cents to $67.44 a barrel, while U.S. West Texas Intermediate crude fell 12 cents to $63.79. ',\n",
       "  'publishedAt': '2018-02-27T01:13:47Z',\n",
       "  'title': \"Asian shares rise to three-week high ahead of Powell's testimony\",\n",
       "  'url': 'https://www.reuters.com/article/us-global-markets/asian-shares-rise-to-three-week-high-ahead-of-powells-testimony-idUSKCN1GB040'},\n",
       " {'content': 'DUBAI, Feb 27 (Reuters) - Here are some factors that may affect Middle East stock markets on Tuesday. Reuters has not verified the press reports and does not vouch for their accuracy. * GLOBAL MARKETS-Asian shares rise to 3-week high ahead of Powell’s testimony * MIDEAST STOCKS-GFH jumps in Dubai, zakat worries weigh on Saudi banks again * U.S. oil extends gains to hold near 3-week high * PRECIOUS-Gold prices rise for second session on softer dollar * Russia orders daily truce for evacuations from Syria’s eastern Ghouta * Veteran commander vies for power in Libya’s shifting sands * New U.S. sanctions aim to block Libyan oil smuggling -statement * Algeria’s Sonatrach to strengthen ties with BP, Statoil * Plan to truck oil from Iraq’s Kirkuk to Iran delayed by security concerns * Russia vetoes Western effort to call out Iran over Yemen at U.N. * Yemen’s cholera epidemic likely to intensify in coming months - WHO * Russia, Egypt may restart talks on Red Sea airport checks in spring * ADM, Cargill announce soybean joint venture in Egypt * Average yields on Egypt’s 10-year bonds jump almost 100 bp * EXCLUSIVE-Saudi Arabia prepares to auction detained billionaire’s real estate, cars -sources * Saudi reshuffles top military posts, adds a woman deputy ministe * Saudi envoy invites Lebanon’s PM Hariri to kingdom * Marriott to attract $2 bln investment in Saudi over four years -executive * Saudi regulator imposes $83 mln in penalties over Mobily insider trading scandal * SaudiGulf considers 787 model in Boeing talks -CCO * UAE’s ADNOC awards Japan’s INPEX 10 pct stake in new oil offshore concession * Dubai airport to close southern runway for 45 days next year * Sharjah picks banks for dollar sukuk issue -sources * Apollo’s Dubai partnership for middle east deals is said to end - Bloomberg * Vodafone sells out of Qatar for 301 mln euros, brand will remain * Bank Muscat selects banks for dollar bond -sources ',\n",
       "  'publishedAt': '2018-02-27T02:58:29Z',\n",
       "  'title': 'MIDEAST - Factors to watch - February 27',\n",
       "  'url': 'https://www.reuters.com/article/mideast-factors/mideast-factors-to-watch-february-27-idUSL8N1QG1L2'},\n",
       " {'content': 'LONDON (Reuters) - Oil dipped on Tuesday before weekly data that is forecast to show rising U.S. crude inventories, although investor confidence in OPEC’s ability to curb output helped stem the price slide. Brent crude futures LCOc1 eased 6 cents to $67.44 a barrel by 1519 GMT, while U.S. West Texas Intermediate crude CLc1 fell 12 cents to $63.79. The American Petroleum Institute releases its weekly figures on U.S. crude inventories later on Tuesday. Stocks are forecast to have risen by 2.7 million barrels last week, according to a Reuters poll. Inventories have fallen by more than 100 million barrels, or a quarter, in the last 12 months, to their lowest in three years. Seasonally, stocks tend to build in the first three months of the year. But soaring U.S. production is upending global oil markets at a time when other major producers - including the Middle East-dominated Organization of the Petroleum Exporting Countries and Russia - have been withholding output to prop up prices. The United States will overtake Russia as the world’s biggest oil producer by 2019, International Energy Agency (IEA) Executive Director Fatih Birol said on Tuesday. “U.S. shale growth is very strong, the pace is very strong ... The United States will become the No.1 oil producer sometime very soon,” he told Reuters. U.S. output was 10.27 million barrels per day (bpd), according to government data released on Thursday, higher than the latest figures for the world’s largest exporter Saudi Arabia and just below Russia.  In addition to its weekly statistics, the U.S. Energy Information Administration will publish a monthly report on crude supply, which analysts expect to include substantial upward revisions to U.S. oil output. “It is likely that the ... monthly data will show U.S. crude oil production in December about 200,000-300,000 bpd above what was estimated in the weekly reports,” Petromatrix analyst Olivier Jakob said in a note. A steadier dollar also undermined the crude oil market. A stronger U.S. currency can encourage investors to book profits on their holdings of dollar-priced commodities, stocks or bonds. “Our technical analysts are saying (oil) is bearish unless we break above $67.70,” SEB head of commodity strategy Bjarne Schieldrop said.  “It’s been rejected exactly at that level ... and that is where the price action is today. It’s at a level where it’s a tie between ‘back to bullish or back to bearish’.” (GRAPHIC: Brent crude futures struggle to break $67.70/bbl - reut.rs/2otlCI8) (GRAPHIC: Russia vs Saudi vs U.S. oil production - reut.rs/2EIuTWS)  ',\n",
       "  'publishedAt': '2018-02-27T02:51:10Z',\n",
       "  'title': 'U.S. oil extends gains to hold near three-week high',\n",
       "  'url': 'https://ca.reuters.com/article/businessNews/idCAKCN1GB02E-OCABS'},\n",
       " {'content': ' MUMBAI (Reuters) - India’s Finance Ministry set a 15-day deadline on Tuesday for state banks to take action to improve their oversight of operational and technological risks after the country’s second-biggest state lender was hit by a $2 billion fraud. The directive did not mention Punjab National Bank (PNBK.NS), but comes after the lender said on Monday the amount of fraudulent transactions suffered could rise by $204 million, in addition to the $1.77 billion earlier reported. The news sent PNB shares reeling to a 20-month low. PNB’s announcement late on Monday also sent shares of other state-run lenders lower, reinforcing concerns about the escalating financial cost of the unauthorized loans steered toward billionaire jewelers Nirav Modi and his uncle Mehul Choksi, owner of Gitanjali Gems Ltd (GTGM.NS). The scale of the fraud, the biggest to hit an Indian lender, has stunned the country and put the lack of supervisory oversight by PNB’s own officials, as well as the central bank and auditors under the spotlight.  The fraud has also sparked aggressive investigations by the country’s authorities, including a raid last week of Nirav Modi’s former law firm that lawyers described as unprecedented. Rajeev Kumar, the top bureaucrat in the Department of Financial Services, said in a Twitter message that the government expected state-run lenders “to take pre-emptive action and identify gaps/weaknesses” for potential operational and technological risks within 15 days. Kumar also posted a notice from his department with a list of expected action by the lenders, including identifying current oversight weaknesses, preparing a report on how to improve practices and standards, and directing the banks’ boards “to assign clear accountability” for implementation and compliance. Last week, Finance Minister Arun Jaitley, also without mentioning the PNB case, decried a “lack of ethics” among sections of Indian business and criticized inadequate oversight by auditors and regulators. Worries about the lack of supervision in India’s banking sector have been compounded after state-run Oriental Bank of Commerce (ORBC.NS) said on Sunday it had suffered losses of around $17 million over loans provided to a sugar company that the lender claims was fraudulently diverted. Meanwhile, pen maker Rotomac Global is facing a police investigation over accusations it cheated a consortium of lenders, while private lender City Union Bank (CTBK.NS) has said this month “cyber criminals” had hacked its systems and transferred nearly $2 million via the SWIFT financial platform. Analysts said the government directive could hit banks in the short-term if more fraud is detected, though it would benefit the sector in the long-term. “The oversight in the banking system is obviously not good,” said Yuvraj Choudhary, an analyst at brokerage Anand Rathi. “This could lead to uncovering of more potential scams. We can expect bottom-lines to be hit in the coming quarters.” Meanwhile, various Indian authorities have stepped up investigations into potential wrongdoing at PNB as well as companies tied to Modi and Choksi, although no charges have yet been filed. An official at the Central Bureau of Investigation (CBI) said the country’s federal police had raided the offices of law firm Cyril Amarchand Mangaldas last week, which had represented Modi for a while, and taken away documents related to the Indian jeweler. He did not give additional details. Lawyers said they were unclear what legal basis the CBI had used to seize the documents. Cyril Amarchand did not respond to a request for comment. At least a dozen people - six from the bank and six more from Modi’s and Choksi’s companies - have been arrested, while investigators have seized a number of properties from the two, including jewelry and luxury vehicles. Both Modi and Choksi, whose whereabouts are unknown, have said they are innocent. PNB shares were trading down 12 percent at 0917 GMT, after earlier falling as much as 14.2 percent to its lowest since June 2016. A sub-index of state-run lenders, the PSU Bank index .NIFTYPSU, was down 3.5 percent, while top-ranked State Bank of India (SBI.NS) was down 2.5 percent. ',\n",
       "  'publishedAt': '2018-02-27T03:57:14Z',\n",
       "  'title': 'Punjab National Bank says scam may cost bank nearly $2 billion',\n",
       "  'url': 'https://in.reuters.com/article/us-punjab-natl-bank-fraud/punjab-national-bank-says-scam-may-cost-bank-nearly-2-billion-idINKCN1GB0BU'},\n",
       " {'content': 'NEW DELHI/MUMBAI (Reuters) - A company owned by Nirav Modi, the billionaire jeweler at the heart of a $2 billion fraud case in India, has filed for bankruptcy in a New York court, as investigators stepped up their investigation into a case that has stunned the country. The U.S. bankruptcy filing by Firestar Diamond Inc comes as investigations by Indian authorities into the fraud case are becoming more aggressive, including a raid last week of Modi’s former law firm that lawyers described as unprecedented.  Modi, along with his uncle Mehul Choksi, owner of Gitanjali Gems Ltd (GTGM.NS), are suspected to have colluded with bank officials at Punjab National Bank (PNB) (PNBK.NS) to obtain unauthorized loans over a six-year period.  PNB late on Monday said the amount of those fraudulent transactions could rise by $204 million to nearly $2 billion, sending its shares reeling to a 20-month low. The scale of the fraud has raised concerns about the potential for similar cases across India’s banking sector. India’s Finance Ministry on Tuesday set a 15-day deadline for state banks to take action to improve their oversight of operational and technological risks.  The ministry’s Department of Financial Services also ordered state-run lenders to comb through their bad loans of more than 500 million rupees ($7.71 million) for potential fraud. Among the actions lenders must take include identifying current oversight weaknesses and having banks’ boards “assign clear accountability” for implementation and compliance. Analysts said the government directive could hit banks in the short-term if more fraud was detected, though it would benefit the sector in the long-term. “The oversight in the banking system is obviously not good,” said Yuvraj Choudhary, an analyst at brokerage Anand Rathi. “This could lead to uncovering of more potential scams. We can expect bottom-lines to be hit in the coming quarters.” Firestar Diamond Inc listed $50 million to $100 million in assets and liabilities and noted it had 50 to 99 creditors, according to a court filing in the Southern District Of New York on late Monday. The company is a unit of Firestar International, controlled by Modi, a jeweler who built his range of international diamond businesses in part by drawing a famous roster of clients such as actress Kate Winslet. His flagship Firestar International had $2.3 billion in sales as of March 2017, according to figures previously provided by the company. Indian authorities have stepped up investigations into potential wrongdoing at PNB as well as companies tied to Modi and Choksi, although no charges have yet been filed. An official at the Central Bureau of Investigation (CBI) said the country’s federal police had last week raided the offices of law firm Cyril Amarchand Mangaldas, which had represented Modi for a while, and taken away documents related to the Indian jeweler. He did not give additional details. Lawyers said they were unclear what legal basis the CBI had used to seize the documents. Cyril Amarchand did not respond to a request for comment. Meanwhile, the CBI source added current and former officials at PNB continued to be questioned, including former managing director Usha Ananthasubramanian, who now heads state-run Allahabad Bank (ALBK.NS), as well as officials from other lenders that lent to companies tied to Mehul Choksi and auditors. Ananthasubramanian did not immediately respond to requests for comment. At least a dozen people - six from the bank and six more from Modi’s and Choksi’s companies - have been arrested, while investigators have seized a number of properties from the two, including jewelry and luxury vehicles. Both Modi and Choksi, whose whereabouts are unknown, have said they are innocent. PNB’s disclosure it had detected additional fraudulent loans, on top of the $1.77 billion reported in a disclosure earlier this month, sent shares of state-run lenders sharply lower on Tuesday, reinforcing concerns about the escalating financial cost of the unauthorized loans steered toward the two Indian jewelers.  The government’s orders for tougher supervision is also raising concerns that Indian lenders, already struggling to clean up a record $147 billion in bad debt, will face additional regulatory scrutiny and scepticism from investors about the scale of the fraud problems across the sector. PNB shares slumped 12.2 percent, after earlier falling as much as 14.2 percent to its lowest since June 2016.  Since disclosing the fraud on Feb. 14, its stock has dropped 40 percent, wiping 153.3 billion rupees ($2.36 billion) off its market value. A sub-index of state-run lenders, the PSU Bank index .NIFTYPSU, was down 3.5 percent, while top-ranked State Bank of India (SBI.NS) was down 2.5 percent. Worries about the lack of supervision in India’s banking sector have been compounded after state-run Oriental Bank of Commerce (ORBC.NS) said on Sunday it had suffered losses of around $17 million over loans provided to a sugar company that the lender claims were fraudulently diverted. Meanwhile, pen maker Rotomac Global is facing a police investigation over accusations it cheated a consortium of lenders, while private lender City Union Bank (CTBK.NS) has said this month “cyber criminals” had hacked its systems and transferred nearly $2 million via the SWIFT financial platform. ',\n",
       "  'publishedAt': '2018-02-27T03:54:23Z',\n",
       "  'title': 'Punjab National Bank says scam may cost bank nearly $2 bln',\n",
       "  'url': 'https://www.reuters.com/article/us-punjab-natl-bank-fraud/punjab-national-bank-says-scam-may-cost-bank-nearly-2-billion-idUSKCN1GB0BU'}]"
      ]
     },
     "execution_count": 185,
     "metadata": {},
     "output_type": "execute_result"
    }
   ],
   "source": [
    "a[:5]"
   ]
  },
  {
   "cell_type": "code",
   "execution_count": 153,
   "metadata": {
    "collapsed": true
   },
   "outputs": [],
   "source": [
    "x = 545"
   ]
  },
  {
   "cell_type": "code",
   "execution_count": 154,
   "metadata": {},
   "outputs": [
    {
     "data": {
      "text/plain": [
       "6.0"
      ]
     },
     "execution_count": 154,
     "metadata": {},
     "output_type": "execute_result"
    }
   ],
   "source": [
    "np.ceil(x/100.)"
   ]
  },
  {
   "cell_type": "code",
   "execution_count": null,
   "metadata": {
    "collapsed": true
   },
   "outputs": [],
   "source": []
  },
  {
   "cell_type": "code",
   "execution_count": 135,
   "metadata": {
    "collapsed": true
   },
   "outputs": [],
   "source": [
    "from bs4 import BeautifulSoup\n",
    "import requests\n",
    "def get_article_text(url):\n",
    "    soup = BeautifulSoup(requests.get(url).text)\n",
    "    return ''.join([x.text for x in soup.find(name='div', attrs={'class': 'StandardArticleBody_body_1gnLA'}).find_all(name='p')][:-1])"
   ]
  },
  {
   "cell_type": "code",
   "execution_count": 136,
   "metadata": {},
   "outputs": [
    {
     "name": "stderr",
     "output_type": "stream",
     "text": [
      "/home/chrisgiler/anaconda3/lib/python3.5/site-packages/bs4/__init__.py:181: UserWarning: No parser was explicitly specified, so I'm using the best available HTML parser for this system (\"lxml\"). This usually isn't a problem, but if you run this code on another system, or in a different virtual environment, it may use a different parser and behave differently.\n",
      "\n",
      "The code that caused this warning is on line 193 of the file /home/chrisgiler/anaconda3/lib/python3.5/runpy.py. To get rid of this warning, change code that looks like this:\n",
      "\n",
      " BeautifulSoup(YOUR_MARKUP})\n",
      "\n",
      "to this:\n",
      "\n",
      " BeautifulSoup(YOUR_MARKUP, \"lxml\")\n",
      "\n",
      "  markup_type=markup_type))\n"
     ]
    },
    {
     "ename": "AttributeError",
     "evalue": "'NoneType' object has no attribute 'find_all'",
     "output_type": "error",
     "traceback": [
      "\u001b[0;31m---------------------------------------------------------------------------\u001b[0m",
      "\u001b[0;31mAttributeError\u001b[0m                            Traceback (most recent call last)",
      "\u001b[0;32m<ipython-input-136-25db5688d645>\u001b[0m in \u001b[0;36m<module>\u001b[0;34m()\u001b[0m\n\u001b[1;32m      5\u001b[0m         \u001b[0;34m'title'\u001b[0m\u001b[0;34m:\u001b[0m \u001b[0marticle\u001b[0m\u001b[0;34m[\u001b[0m\u001b[0;34m'title'\u001b[0m\u001b[0;34m]\u001b[0m\u001b[0;34m,\u001b[0m\u001b[0;34m\u001b[0m\u001b[0m\n\u001b[1;32m      6\u001b[0m         \u001b[0;34m'publishedAt'\u001b[0m\u001b[0;34m:\u001b[0m \u001b[0marticle\u001b[0m\u001b[0;34m[\u001b[0m\u001b[0;34m'publishedAt'\u001b[0m\u001b[0;34m]\u001b[0m\u001b[0;34m,\u001b[0m\u001b[0;34m\u001b[0m\u001b[0m\n\u001b[0;32m----> 7\u001b[0;31m         \u001b[0;34m'content'\u001b[0m\u001b[0;34m:\u001b[0m \u001b[0mget_article_text\u001b[0m\u001b[0;34m(\u001b[0m\u001b[0marticle\u001b[0m\u001b[0;34m[\u001b[0m\u001b[0;34m'url'\u001b[0m\u001b[0;34m]\u001b[0m\u001b[0;34m)\u001b[0m\u001b[0;34m\u001b[0m\u001b[0m\n\u001b[0m\u001b[1;32m      8\u001b[0m     })\n\u001b[1;32m      9\u001b[0m \u001b[0;31m# url = all_articles['articles'][idx]['url']\u001b[0m\u001b[0;34m\u001b[0m\u001b[0;34m\u001b[0m\u001b[0m\n",
      "\u001b[0;32m<ipython-input-135-f393d7225c60>\u001b[0m in \u001b[0;36mget_article_text\u001b[0;34m(url)\u001b[0m\n\u001b[1;32m      3\u001b[0m \u001b[0;32mdef\u001b[0m \u001b[0mget_article_text\u001b[0m\u001b[0;34m(\u001b[0m\u001b[0murl\u001b[0m\u001b[0;34m)\u001b[0m\u001b[0;34m:\u001b[0m\u001b[0;34m\u001b[0m\u001b[0m\n\u001b[1;32m      4\u001b[0m     \u001b[0msoup\u001b[0m \u001b[0;34m=\u001b[0m \u001b[0mBeautifulSoup\u001b[0m\u001b[0;34m(\u001b[0m\u001b[0mrequests\u001b[0m\u001b[0;34m.\u001b[0m\u001b[0mget\u001b[0m\u001b[0;34m(\u001b[0m\u001b[0murl\u001b[0m\u001b[0;34m)\u001b[0m\u001b[0;34m.\u001b[0m\u001b[0mtext\u001b[0m\u001b[0;34m)\u001b[0m\u001b[0;34m\u001b[0m\u001b[0m\n\u001b[0;32m----> 5\u001b[0;31m     \u001b[0;32mreturn\u001b[0m \u001b[0;34m''\u001b[0m\u001b[0;34m.\u001b[0m\u001b[0mjoin\u001b[0m\u001b[0;34m(\u001b[0m\u001b[0;34m[\u001b[0m\u001b[0mx\u001b[0m\u001b[0;34m.\u001b[0m\u001b[0mtext\u001b[0m \u001b[0;32mfor\u001b[0m \u001b[0mx\u001b[0m \u001b[0;32min\u001b[0m \u001b[0msoup\u001b[0m\u001b[0;34m.\u001b[0m\u001b[0mfind\u001b[0m\u001b[0;34m(\u001b[0m\u001b[0mname\u001b[0m\u001b[0;34m=\u001b[0m\u001b[0;34m'div'\u001b[0m\u001b[0;34m,\u001b[0m \u001b[0mattrs\u001b[0m\u001b[0;34m=\u001b[0m\u001b[0;34m{\u001b[0m\u001b[0;34m'class'\u001b[0m\u001b[0;34m:\u001b[0m \u001b[0;34m'StandardArticleBody_body_1gnLA'\u001b[0m\u001b[0;34m}\u001b[0m\u001b[0;34m)\u001b[0m\u001b[0;34m.\u001b[0m\u001b[0mfind_all\u001b[0m\u001b[0;34m(\u001b[0m\u001b[0mname\u001b[0m\u001b[0;34m=\u001b[0m\u001b[0;34m'p'\u001b[0m\u001b[0;34m)\u001b[0m\u001b[0;34m]\u001b[0m\u001b[0;34m[\u001b[0m\u001b[0;34m:\u001b[0m\u001b[0;34m-\u001b[0m\u001b[0;36m1\u001b[0m\u001b[0;34m]\u001b[0m\u001b[0;34m)\u001b[0m\u001b[0;34m\u001b[0m\u001b[0m\n\u001b[0m",
      "\u001b[0;31mAttributeError\u001b[0m: 'NoneType' object has no attribute 'find_all'"
     ]
    }
   ],
   "source": [
    "articles = []\n",
    "for article in all_articles['articles']:\n",
    "    articles.append({\n",
    "        'url': article['url'],\n",
    "        'title': article['title'],\n",
    "        'publishedAt': article['publishedAt'],\n",
    "        'content': get_article_text(article['url'])\n",
    "    })\n",
    "# url = all_articles['articles'][idx]['url']\n",
    "# title = all_articles['articles'][idx]['title']\n",
    "# date = all_articles['articles'][idx]['publishedAt']"
   ]
  },
  {
   "cell_type": "code",
   "execution_count": 132,
   "metadata": {},
   "outputs": [
    {
     "data": {
      "text/plain": [
       "[]"
      ]
     },
     "execution_count": 132,
     "metadata": {},
     "output_type": "execute_result"
    }
   ],
   "source": [
    "articles"
   ]
  },
  {
   "cell_type": "code",
   "execution_count": 111,
   "metadata": {
    "collapsed": true
   },
   "outputs": [],
   "source": [
    "from bs4 import BeautifulSoup\n",
    "import requests"
   ]
  },
  {
   "cell_type": "code",
   "execution_count": 112,
   "metadata": {},
   "outputs": [
    {
     "name": "stderr",
     "output_type": "stream",
     "text": [
      "/home/chrisgiler/anaconda3/lib/python3.5/site-packages/bs4/__init__.py:181: UserWarning: No parser was explicitly specified, so I'm using the best available HTML parser for this system (\"lxml\"). This usually isn't a problem, but if you run this code on another system, or in a different virtual environment, it may use a different parser and behave differently.\n",
      "\n",
      "The code that caused this warning is on line 193 of the file /home/chrisgiler/anaconda3/lib/python3.5/runpy.py. To get rid of this warning, change code that looks like this:\n",
      "\n",
      " BeautifulSoup(YOUR_MARKUP})\n",
      "\n",
      "to this:\n",
      "\n",
      " BeautifulSoup(YOUR_MARKUP, \"lxml\")\n",
      "\n",
      "  markup_type=markup_type))\n"
     ]
    }
   ],
   "source": [
    "soup = BeautifulSoup(requests.get(url).text)"
   ]
  },
  {
   "cell_type": "code",
   "execution_count": 113,
   "metadata": {
    "scrolled": false
   },
   "outputs": [
    {
     "name": "stdout",
     "output_type": "stream",
     "text": [
      "EMERGING MARKETS-Stocks, FX hit soft patch; S.Africa reshuffles cabinet\n",
      "\n",
      "https://www.reuters.com/article/emerging-markets/emerging-markets-stocks-fx-hit-soft-patch-s-africa-reshuffles-cabinet-idUSL8N1QH31J\n",
      "2018-02-27T10:01:06Z\n",
      "\n",
      "LONDON, Feb 27 (Reuters) - Emerging stocks and currencies hit a soft patch on Tuesday as markets waited to hear from the new U.S. Federal Reserve chair while South African assets broadly perked up after a cabinet reshuffle saw the return of familiar faces to key ministries. MSCI’s emerging markets index snapped a two day winning streak to fall 0.2 percent. Much of the drag came from Asia where Chinese stocks  snapped a six-day winning streak to fall as much as 1.5 percent as markets pondered the impact of certain amendments in the wording of China’s constitution. Markets were also awaiting Federal Reserve Chairman Jerome Powell’s debut appearance in front of U.S. Congress, seen as critical for financial markets with investors nervous about the central bank’s policy normalisation following years of stimulus after the financial crisis almost a decade ago. “There is a little bit of cautiousness ahead of Powell’s speech later today,” said Jakob Christensen, head of EM research at Danske Bank, adding he was watching out for clues as to how the Fed will meet the challenges from higher fiscal spending in the world’s biggest economy. “In light of the quite mature U.S. business cycle and the added fiscal stimulus to the economy, will he open the box for four hikes this year?” But the focus was firmly on South Africa where President Cyril Ramaphosa brought back some familiar faces in a cabinet reshuffle. Veteran civil servant Nhlanhla Nene, who was sacked by ex-President Jacob Zuma two years ago, was appointed finance minister. Ex-finance minister Pravin Gordhan, a popular figure with investors, will take the reigns at the key public enterprises department, which oversees around 300 state-owned firms, including loss-making South African Airways and cash-strapped power utility Eskom. “What is really encouraging is that Gordhan has been put in place as minister for public enterprises, which is one of the Achilles’ heels of the South African economy,” said Danske Bank’s Christensen. “Getting reforms in there will be vital for revitalising South Africa’s growth prospects, which is more important than a few fiscal savings here and there.” While Nene was quick to say the budget tabled last week, which featured the first VAT hike in over two decades, might not prevent more ratings downgrades, South Africa’s equity markets welcomed the reshuffle. Stocks extended their gains for a third day, rising 0.6 percent, while yields on the local 10-year benchmark sovereign bond hovered just above 8 percent. The rand weakened 0.5 percent, but the losses came in the wake of a recent rally that saw the currency trade at its strongest level in three years. Having gained more than 7 percent since the start of the year against the dollar, the rand is still one of the top performers this year. Another reshuffle came in Saudi Arabia, where King Salman swapped out some of the kingdom’s top military officers and several deputy ministers in a broad shake-up seen as elevating younger officials in key economic and security areas. Saudi stocks traded a touch higher. In central banking news, South Korean policy makers voted unanimously to keep rates steady, as expected. And Hungary is expected to do the same later in the day with markets watching out for new measures such as swap tenders and purchasing mortgage bonds introduced by policymakers recently to stimulate borrowing. For GRAPHIC on emerging market FX performance 2018, see tmsnrt.rs/2e7eoml For GRAPHIC on MSCI emerging index performance 2018, see tmsnrt.rs/2dZbdP5 For TOP NEWS across emerging markets For CENTRAL EUROPE market report, see For TURKISH market report, see For RUSSIAN market report, see) \n"
     ]
    }
   ],
   "source": [
    "print(title)\n",
    "print('')\n",
    "print(url)\n",
    "print(date)\n",
    "print('')\n",
    "print(''.join([x.text for x in soup.find(name='div', attrs={'class': 'StandardArticleBody_body_1gnLA'}).find_all(name='p')][:-1]))"
   ]
  },
  {
   "cell_type": "code",
   "execution_count": null,
   "metadata": {
    "collapsed": true
   },
   "outputs": [],
   "source": []
  },
  {
   "cell_type": "code",
   "execution_count": null,
   "metadata": {
    "collapsed": true
   },
   "outputs": [],
   "source": []
  },
  {
   "cell_type": "code",
   "execution_count": null,
   "metadata": {
    "collapsed": true
   },
   "outputs": [],
   "source": []
  },
  {
   "cell_type": "code",
   "execution_count": null,
   "metadata": {
    "collapsed": true
   },
   "outputs": [],
   "source": []
  },
  {
   "cell_type": "code",
   "execution_count": null,
   "metadata": {
    "collapsed": true
   },
   "outputs": [],
   "source": []
  },
  {
   "cell_type": "code",
   "execution_count": null,
   "metadata": {
    "collapsed": true
   },
   "outputs": [],
   "source": []
  },
  {
   "cell_type": "markdown",
   "metadata": {},
   "source": [
    "## Basic Text Analysis on LinkedIn Posts"
   ]
  },
  {
   "cell_type": "code",
   "execution_count": 6,
   "metadata": {
    "collapsed": true
   },
   "outputs": [],
   "source": [
    "def get_keynames(collection):\n",
    "    return list(collection.find_one().keys())\n",
    "\n",
    "def get_date_range(collection, date_keyname, return_dates=False, verbose=True):\n",
    "    dates = collection.find({}, {date_keyname:1, '_id':0})\n",
    "    dates = [d[date_keyname] for d in dates]\n",
    "    if verbose:\n",
    "        print(\"Date Range of Blog Posts:\\n%s - %s\" % (min(dates), max(dates)))\n",
    "    if return_dates:\n",
    "        return dates\n",
    "    \n",
    "def get_content_character_range(collection, content_keyname, return_content=False, return_content_lengths=True, verbose=True):\n",
    "    content = collection.find({},{'_id': 0, content_keyname: 1})\n",
    "    content = [c[content_keyname] for c in content]\n",
    "    content_lengths = [len(l) for l in content]\n",
    "    if verbose:\n",
    "        print(\"Character Count Range of Blog Posts:\\n%d - %d characters\" % (min(content_lengths), \n",
    "                                                                            max(content_lengths)))\n",
    "    if return_content:\n",
    "        if return_content_lengths:\n",
    "            return content, content_lengths\n",
    "        return content\n",
    "    if return_content_lengths:\n",
    "        return content_lengths\n",
    "\n",
    "def get_content_sentence_range(collection, content_keyname, return_sentences=False, return_num_sentences=True):\n",
    "    content = get_content_character_range(collection,\n",
    "                                          content_keyname,\n",
    "                                          return_content=True,\n",
    "                                          return_content_lengths=False,\n",
    "                                          verbose=False)\n",
    "    sentences = [nltk.tokenize.sent_tokenize(text) for text in content]\n",
    "    num_sentences = [len(s) for s in sentences]\n",
    "    if return_sentences:\n",
    "        if return_num_sentences:\n",
    "            return sentences, num_sentences\n",
    "        return sentences\n",
    "    if return_num_sentences:\n",
    "        return num_sentences"
   ]
  },
  {
   "cell_type": "code",
   "execution_count": 25,
   "metadata": {},
   "outputs": [
    {
     "data": {
      "text/plain": [
       "['content', 'title', '_id', 'date', 'author']"
      ]
     },
     "execution_count": 25,
     "metadata": {},
     "output_type": "execute_result"
    }
   ],
   "source": [
    "current_col = reuters\n",
    "get_keynames(current_col)"
   ]
  },
  {
   "cell_type": "code",
   "execution_count": 26,
   "metadata": {},
   "outputs": [
    {
     "name": "stdout",
     "output_type": "stream",
     "text": [
      "Date Range of Blog Posts:\n",
      "February 1, 2018 - January 31, 2018\n",
      "\n",
      "Character Count Range of Blog Posts:\n",
      "327 - 9727 characters\n"
     ]
    },
    {
     "data": {
      "image/png": "[encoded data removed]",
      "text/plain": [
       "<matplotlib.figure.Figure at 0x7f3438d3c048>"
      ]
     },
     "metadata": {},
     "output_type": "display_data"
    }
   ],
   "source": [
    "get_date_range(current_col, 'date')\n",
    "print('')\n",
    "content_lengths = get_content_character_range(current_col, 'content', return_content_lengths=True)\n",
    "\n",
    "plt.figure(figsize=(12,8))\n",
    "plt.hist(content_lengths, bins=30);\n",
    "plt.title('Number of Characters Per Blog Post', fontsize=20);\n",
    "plt.xlabel('Number of Characters', fontsize=14);\n",
    "plt.ylabel('Count', fontsize=14);"
   ]
  },
  {
   "cell_type": "code",
   "execution_count": 27,
   "metadata": {},
   "outputs": [
    {
     "data": {
      "image/png": "[encoded data removed]",
      "text/plain": [
       "<matplotlib.figure.Figure at 0x7f3438d4b198>"
      ]
     },
     "metadata": {},
     "output_type": "display_data"
    }
   ],
   "source": [
    "num_sentences = get_content_sentence_range(current_col, 'content', \n",
    "                                           return_num_sentences=True,\n",
    "                                           return_sentences=False)\n",
    "\n",
    "plt.figure(figsize=(12,8))\n",
    "plt.hist(num_sentences, bins=30);\n",
    "plt.title('Number of Sentences Per Blog Post', fontsize=20);\n",
    "plt.xlabel('Number of Sentences', fontsize=14);\n",
    "plt.ylabel('Count', fontsize=14);"
   ]
  },
  {
   "cell_type": "code",
   "execution_count": 28,
   "metadata": {},
   "outputs": [
    {
     "data": {
      "image/png": "[encoded data removed]",
      "text/plain": [
       "<matplotlib.figure.Figure at 0x7f344d12b668>"
      ]
     },
     "metadata": {},
     "output_type": "display_data"
    }
   ],
   "source": [
    "plt.figure(figsize=(12,8));\n",
    "plt.scatter(content_lengths, num_sentences, \n",
    "            c=np.array(content_lengths)/np.array(num_sentences),\n",
    "            cmap='autumn_r',\n",
    "            alpha=0.5,\n",
    "            s=50,\n",
    "            edgecolors='None');\n",
    "cbar = plt.colorbar()\n",
    "cbar.set_label('Avg. # Characters per Sentence', rotation=90)\n",
    "plt.title('Number of Sentences vs. Characters (per Blog Post)', fontsize=20);\n",
    "plt.xlabel('Number of Characters', fontsize=14);\n",
    "plt.ylabel('Number of Sentences', fontsize=14);"
   ]
  },
  {
   "cell_type": "code",
   "execution_count": null,
   "metadata": {
    "collapsed": true
   },
   "outputs": [],
   "source": []
  },
  {
   "cell_type": "code",
   "execution_count": 29,
   "metadata": {
    "collapsed": true
   },
   "outputs": [],
   "source": [
    "content = get_content_character_range(collection=current_col,\n",
    "                                               content_keyname='content',\n",
    "                                               return_content=True,\n",
    "                                               return_content_lengths=False,\n",
    "                                               verbose=False)"
   ]
  },
  {
   "cell_type": "code",
   "execution_count": null,
   "metadata": {
    "collapsed": true
   },
   "outputs": [],
   "source": []
  },
  {
   "cell_type": "code",
   "execution_count": 30,
   "metadata": {},
   "outputs": [
    {
     "name": "stdout",
     "output_type": "stream",
     "text": [
      "['(Reuters) - Xerox Corp shareholders Carl Icahn and Darwin Deason said on Tuesday the U.S. company should seek to sell itself to one of its rivals or a private equity firm.', \"Xerox could combine with a competitor that is actually willing to pay a significant premium, or Japan's Fujifilm Holdings themselves would step up and offer a full buy-out on fair terms, the shareholders wrote in an open letter.\", '( ) The activist shareholders, who own a combined 15 percent of the U.S. printer and copier maker, have repeatedly urged shareholders to oppose the Fuji-Xerox deal.', 'Icahn and Deason said last week the agreement dramatically undervalued Xerox, and criticized the deal structure calling it “tortured, convoluted”.', '“Carl Icahn and Darwin Deason’s letter is consistent with their misguided campaign to undermine Xerox’s combination with Fuji Xerox,” Xerox said in a statement on Tuesday.', 'The company reiterated that among the range of strategic options, combination with Fuji Xerox is the superior path forward for Xerox.', 'On Jan. 31, Fujifilm said it was set to take over Xerox in a $6.1 billion deal and combine it into their existing joint venture, Fuji Xerox.', 'Shares of Xerox were up nearly 1 percent.']\n"
     ]
    }
   ],
   "source": [
    "# Sentence Tokenization\n",
    "from nltk.tokenize import sent_tokenize\n",
    "documents = [sent_tokenize(text) for text in content]\n",
    "print(documents[0])"
   ]
  },
  {
   "cell_type": "code",
   "execution_count": 13,
   "metadata": {},
   "outputs": [
    {
     "data": {
      "text/plain": [
       "False"
      ]
     },
     "execution_count": 13,
     "metadata": {},
     "output_type": "execute_result"
    }
   ],
   "source": [
    "type(['']) == str"
   ]
  },
  {
   "cell_type": "code",
   "execution_count": null,
   "metadata": {
    "collapsed": true
   },
   "outputs": [],
   "source": []
  },
  {
   "cell_type": "code",
   "execution_count": 31,
   "metadata": {},
   "outputs": [
    {
     "name": "stdout",
     "output_type": "stream",
     "text": [
      "598/598\n"
     ]
    }
   ],
   "source": [
    "# Word tokenization\n",
    "from nltk.tokenize import word_tokenize\n",
    "for i in range(len(documents)):\n",
    "    clear_output(wait=True)\n",
    "    print(\"%d/%d\" % (int(i+1), len(documents)))\n",
    "    for j in range(len(documents[i])):\n",
    "        documents[i][j] = word_tokenize(documents[i][j])        "
   ]
  },
  {
   "cell_type": "code",
   "execution_count": 32,
   "metadata": {},
   "outputs": [
    {
     "name": "stdout",
     "output_type": "stream",
     "text": [
      "['(', 'Reuters', ')', '-', 'Xerox', 'Corp', 'shareholders', 'Carl', 'Icahn', 'and', 'Darwin', 'Deason', 'said', 'on', 'Tuesday', 'the', 'U.S.', 'company', 'should', 'seek', 'to', 'sell', 'itself', 'to', 'one', 'of', 'its', 'rivals', 'or', 'a', 'private', 'equity', 'firm', '.']\n"
     ]
    }
   ],
   "source": [
    "print(documents[0][0])"
   ]
  },
  {
   "cell_type": "code",
   "execution_count": 33,
   "metadata": {},
   "outputs": [
    {
     "name": "stdout",
     "output_type": "stream",
     "text": [
      "598/598\n"
     ]
    }
   ],
   "source": [
    "nltk.download('averaged_perceptron_tagger')\n",
    "from nltk.tag import pos_tag\n",
    "for i in range(len(documents)):\n",
    "    clear_output(wait=True)\n",
    "    print(\"%d/%d\" % (int(i+1), len(documents)))\n",
    "    for j in range(len(documents[i])):\n",
    "        documents[i][j] = pos_tag(documents[i][j])"
   ]
  },
  {
   "cell_type": "code",
   "execution_count": 34,
   "metadata": {},
   "outputs": [
    {
     "data": {
      "text/plain": [
       "[('(', '('),\n",
       " ('Reuters', 'NNPS'),\n",
       " (')', ')'),\n",
       " ('-', ':'),\n",
       " ('Xerox', 'NNP'),\n",
       " ('Corp', 'NNP'),\n",
       " ('shareholders', 'NNS'),\n",
       " ('Carl', 'NNP'),\n",
       " ('Icahn', 'NNP'),\n",
       " ('and', 'CC'),\n",
       " ('Darwin', 'NNP'),\n",
       " ('Deason', 'NNP'),\n",
       " ('said', 'VBD'),\n",
       " ('on', 'IN'),\n",
       " ('Tuesday', 'NNP'),\n",
       " ('the', 'DT'),\n",
       " ('U.S.', 'NNP'),\n",
       " ('company', 'NN'),\n",
       " ('should', 'MD'),\n",
       " ('seek', 'VB'),\n",
       " ('to', 'TO'),\n",
       " ('sell', 'VB'),\n",
       " ('itself', 'PRP'),\n",
       " ('to', 'TO'),\n",
       " ('one', 'CD'),\n",
       " ('of', 'IN'),\n",
       " ('its', 'PRP$'),\n",
       " ('rivals', 'NNS'),\n",
       " ('or', 'CC'),\n",
       " ('a', 'DT'),\n",
       " ('private', 'JJ'),\n",
       " ('equity', 'NN'),\n",
       " ('firm', 'NN'),\n",
       " ('.', '.')]"
      ]
     },
     "execution_count": 34,
     "metadata": {},
     "output_type": "execute_result"
    }
   ],
   "source": [
    "documents[0][0]"
   ]
  },
  {
   "cell_type": "code",
   "execution_count": 35,
   "metadata": {
    "collapsed": true
   },
   "outputs": [
    {
     "name": "stdout",
     "output_type": "stream",
     "text": [
      "598/598\n"
     ]
    }
   ],
   "source": [
    "# Extract phrases\n",
    "nltk.download('maxent_ne_chunker')\n",
    "nltk.download('words')\n",
    "from nltk.chunk import ne_chunk\n",
    "for i in range(len(documents)):\n",
    "    clear_output(wait=True)\n",
    "    print(\"%d/%d\" % (int(i+1), len(documents)))\n",
    "    for j in range(len(documents[i])):\n",
    "        documents[i][j] = ne_chunk(documents[i][j])"
   ]
  },
  {
   "cell_type": "code",
   "execution_count": 36,
   "metadata": {},
   "outputs": [
    {
     "name": "stdout",
     "output_type": "stream",
     "text": [
      "(S\n",
      "  (/(\n",
      "  (ORGANIZATION Reuters/NNPS)\n",
      "  )/)\n",
      "  -/:\n",
      "  (PERSON Xerox/NNP Corp/NNP)\n",
      "  shareholders/NNS\n",
      "  (PERSON Carl/NNP Icahn/NNP)\n",
      "  and/CC\n",
      "  (PERSON Darwin/NNP Deason/NNP)\n",
      "  said/VBD\n",
      "  on/IN\n",
      "  Tuesday/NNP\n",
      "  the/DT\n",
      "  (GPE U.S./NNP)\n",
      "  company/NN\n",
      "  should/MD\n",
      "  seek/VB\n",
      "  to/TO\n",
      "  sell/VB\n",
      "  itself/PRP\n",
      "  to/TO\n",
      "  one/CD\n",
      "  of/IN\n",
      "  its/PRP$\n",
      "  rivals/NNS\n",
      "  or/CC\n",
      "  a/DT\n",
      "  private/JJ\n",
      "  equity/NN\n",
      "  firm/NN\n",
      "  ./.)\n"
     ]
    }
   ],
   "source": [
    "print(documents[0][0])"
   ]
  },
  {
   "cell_type": "code",
   "execution_count": 45,
   "metadata": {},
   "outputs": [
    {
     "name": "stdout",
     "output_type": "stream",
     "text": [
      "['NEW YORK ( Reuters ) - Bitcoin hit a three-week high on Tuesday and has surged nearly 100 percent from its lowest level this year , as its recovery continued after South Korea ’ s financial regulator eased its stance on cryptocurrencies , weeks after it considered shutting down digital currency exchanges .']\n",
      "Sentiment(polarity=0.04013468013468013, subjectivity=0.2805723905723906)\n",
      "---\n",
      "['Analysts cited South Korean news agency Yonhap , which reported Choe Heung-sik , governor of the Financial Supervisory Service , as saying that the government will support cryptocurrency trading if “ normal transactions ” are made .']\n",
      "Sentiment(polarity=0.075, subjectivity=0.32499999999999996)\n",
      "---\n",
      "['Reuters is unable to verify the Yonhap report .']\n",
      "Sentiment(polarity=-0.5, subjectivity=0.5)\n",
      "---\n",
      "['“ While the threat of heavy regulation , or even a total ban on exchange trading , has hovered over bitcoin in recent weeks , reports this morning that the South Korean government are softening their stance have given traders confidence to buy , ” said Dennis de Jong , managing director , at online brokerage UFX.com in Limassol , Cyprus .']\n",
      "Sentiment(polarity=-0.06666666666666667, subjectivity=0.5)\n",
      "---\n",
      "['South Korea has been pushing for broad regulatory supervision of cryptocurrency trading as locals , including students and housewives , have entered the market despite inherent risks and warnings from policymakers around the world of a bubble .']\n",
      "Sentiment(polarity=0.0625, subjectivity=0.3125)\n",
      "---\n",
      "['Seoul previously said it was considering shutting down local cryptocurrency exchanges , which threw the market into turmoil and hammered bitcoin prices .']\n",
      "Sentiment(polarity=-0.10740740740740741, subjectivity=0.15185185185185188)\n",
      "---\n",
      "['Officials later clarified an outright ban is only one of the steps being considered , and a final decision was yet to be made .']\n",
      "Sentiment(polarity=0.0, subjectivity=0.6666666666666666)\n",
      "---\n",
      "['On the Luxembourg-based Bitstamp exchange , bitcoin hit a three-week high of $ 11,722.58 on Tuesday .']\n",
      "Sentiment(polarity=0.16, subjectivity=0.5399999999999999)\n",
      "---\n",
      "['It was last up 3.4 percent at $ 11,555 .']\n",
      "Sentiment(polarity=0.0, subjectivity=0.06666666666666667)\n",
      "---\n",
      "[\"From this year 's low of $ 5,920 in early February , bitcoin has surged nearly 100 percent .\"]\n",
      "Sentiment(polarity=0.06666666666666667, subjectivity=0.3333333333333333)\n",
      "---\n",
      "['“ Bitcoin ’ s price history suggests that months of consolidation are followed by weeks of rapid advancement , ” said Canaccord Genuity in its latest research note .']\n",
      "Sentiment(polarity=0.5, subjectivity=0.9)\n",
      "---\n",
      "['“ The safest way to benefit from potential bitcoin price appreciation is to buy and hold for the long term ; trying to time it might be too difficult. ” Bitcoin has been pressured this year by a slew of regulatory initiatives around the world , including the incidence of hacks on exchanges .']\n",
      "Sentiment(polarity=-0.18333333333333335, subjectivity=0.7999999999999999)\n",
      "---\n",
      "['The latest hack occurred a few weeks ago when roughly $ 532.9 million in digital money was stolen from Tokyo-based cryptocurrency exchange Coincheck .']\n",
      "Sentiment(polarity=0.049999999999999996, subjectivity=0.35)\n",
      "---\n",
      "['Other digital currencies , however , showed mixed results , diverging from bitcoin for now .']\n",
      "Sentiment(polarity=-0.041666666666666664, subjectivity=0.20833333333333334)\n",
      "---\n",
      "['Ethereum , the second-largest by market value , was down 1.3 percent over the past 24 hours at $ 935.02 , while the third-largest , Ripple , fell 1.6 percent to $ 1.13 , according to cryptocurrency price tracker coinmarketcap.com .']\n",
      "Sentiment(polarity=-0.20277777777777778, subjectivity=0.2694444444444445)\n",
      "---\n",
      "['Litecoin , the fifth largest cryptocurrency by market capitalization , was one of the biggest gainers with a 9.3 percent rise at $ 246.03 .']\n",
      "Sentiment(polarity=0.0, subjectivity=0.0)\n",
      "---\n",
      "['The currency jumped as much as 10 percent after a “ hard fork ” resulted in the creation of a new cryptocurrency called litecoin cash .']\n",
      "Sentiment(polarity=0.014898989898989893, subjectivity=0.3987373737373738)\n",
      "---\n"
     ]
    }
   ],
   "source": [
    "# Textblob\n",
    "from textblob import TextBlob\n",
    "doc_idx = 3\n",
    "for i in range(len(documents[doc_idx])):\n",
    "    cur_sentence = ' '.join([w for w, t in documents[doc_idx][i].leaves()])\n",
    "    print(cur_sentence.split())\n",
    "    print(TextBlob(cur_sentence).sentiment)\n",
    "    print('---')"
   ]
  },
  {
   "cell_type": "code",
   "execution_count": 20,
   "metadata": {},
   "outputs": [
    {
     "data": {
      "text/plain": [
       "'This feature will appear on job listings and will show an estimated or expected salary range for the role , based on data from our 546+ million members and employer provided information .'"
      ]
     },
     "execution_count": 20,
     "metadata": {},
     "output_type": "execute_result"
    }
   ],
   "source": []
  },
  {
   "cell_type": "code",
   "execution_count": null,
   "metadata": {
    "collapsed": true
   },
   "outputs": [],
   "source": []
  },
  {
   "cell_type": "code",
   "execution_count": null,
   "metadata": {
    "collapsed": true
   },
   "outputs": [],
   "source": []
  }
 ],
 "metadata": {
  "kernelspec": {
   "display_name": "Python [default]",
   "language": "python",
   "name": "python3"
  },
  "language_info": {
   "codemirror_mode": {
    "name": "ipython",
    "version": 3
   },
   "file_extension": ".py",
   "mimetype": "text/x-python",
   "name": "python",
   "nbconvert_exporter": "python",
   "pygments_lexer": "ipython3",
   "version": "3.5.3"
  }
 },
 "nbformat": 4,
 "nbformat_minor": 2
}
