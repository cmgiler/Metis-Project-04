{
 "cells": [
  {
   "cell_type": "code",
   "execution_count": 11,
   "metadata": {},
   "outputs": [],
   "source": [
    "import pickle\n",
    "from FletcherLibrary import MongoQuery as MQ"
   ]
  },
  {
   "cell_type": "code",
   "execution_count": 12,
   "metadata": {},
   "outputs": [
    {
     "data": {
      "text/plain": [
       "29827"
      ]
     },
     "execution_count": 12,
     "metadata": {},
     "output_type": "execute_result"
    }
   ],
   "source": [
    "data = []\n",
    "collection = MQ.GetMongoCollection('blog_data', 'reuters_all')\n",
    "collection.count()"
   ]
  },
  {
   "cell_type": "markdown",
   "metadata": {},
   "source": [
    "## Create Pickle File"
   ]
  },
  {
   "cell_type": "code",
   "execution_count": 13,
   "metadata": {},
   "outputs": [
    {
     "data": {
      "text/plain": [
       "{'_id': ObjectId('5a95ee656b4a750da0a30f65'),\n",
       " 'author': 'Reuters Editorial',\n",
       " 'content': '(Reuters) - Johanna Konta made a shaky start to the new season before battling past U.S. Open finalist Madison Keys and into the second round of the Brisbane International on Monday. Konta, who prevailed 4-6 6-4 6-3, needed two hours and eight minutes to quell the challenge of her American opponent as her usually reliable serve sputtered early on before eventually coming to her rescue at the Pat Rafter Arena. “This was my first match in quite a while, so I‘m really happy to have had such a competitive match against such a great player,” Konta said. “It was a really tough first round for both of us. Madison is an incredibly good player, so I feel very lucky that I got to play her so early on and really have a good match.” World number 19 Keys missed eight opportunities to break Konta’s serve before she finally succeeded while up 5-4 to take the first set with a powerful forehand drive. Konta appeared to calm her serve and nerve in the second set, fighting back with an early break to go up 3-2. The world number nine then held on to level the match at one set apiece. The Briton battled her way to a 2-0 lead in the decider as Keys began to tire and finished the match with another break to set up a clash with Ajla Tomljanovic in the next round. Belarusian qualifier Aliaksandra Sasnovich came from behind to upset sixth seed Kristina Mladenovic 1-6 6-3 7-5 while Elina Svitolina beat Spain’s Carla Suarez Navarro 6-2 6-4. Ukraine’s Lesia Tsurenko then stunned eighth seed Ashleigh Barty 6-3 6-2. Double Wimbledon champion Petra Kvitova withdrew from the event with a viral illness. The 27-year-old Czech was unable to take the court against Estonian Anett Kontaveit and was replaced in the draw by lucky loser Heather Watson. ',\n",
       " 'date': '2018-01-01T12:37:56Z',\n",
       " 'datetime': datetime.datetime(2018, 1, 1, 12, 37, 56),\n",
       " 'title': 'Konta overcomes blip to get past Keys in Brisbane opener',\n",
       " 'topic': 'Tennis',\n",
       " 'topic_confidence': 0.9588496485879136,\n",
       " 'url': 'https://ca.reuters.com/article/sportsNews/idCAKBN1EQ0Y1-OCASP'}"
      ]
     },
     "execution_count": 13,
     "metadata": {},
     "output_type": "execute_result"
    }
   ],
   "source": [
    "for d in collection.find():\n",
    "    data.append(d)\n",
    "data[0]"
   ]
  },
  {
   "cell_type": "code",
   "execution_count": 14,
   "metadata": {},
   "outputs": [],
   "source": [
    "with open('reuters_dataset.pkl', 'wb') as pkl:\n",
    "    pickle.dump(data, pkl)"
   ]
  },
  {
   "cell_type": "markdown",
   "metadata": {},
   "source": [
    "## Load Pickle and Save to Mongo (Local)"
   ]
  },
  {
   "cell_type": "code",
   "execution_count": 6,
   "metadata": {},
   "outputs": [
    {
     "data": {
      "text/plain": [
       "<pymongo.results.InsertManyResult at 0x7fc562233948>"
      ]
     },
     "execution_count": 6,
     "metadata": {},
     "output_type": "execute_result"
    }
   ],
   "source": [
    "with open('reuters_dataset.pkl', 'rb') as pkl:\n",
    "    new_data = pickle.load(pkl)\n",
    "collection.drop()\n",
    "collection.insert_many(new_data)"
   ]
  },
  {
   "cell_type": "code",
   "execution_count": null,
   "metadata": {},
   "outputs": [],
   "source": []
  }
 ],
 "metadata": {
  "kernelspec": {
   "display_name": "Python [default]",
   "language": "python",
   "name": "python3"
  },
  "language_info": {
   "codemirror_mode": {
    "name": "ipython",
    "version": 3
   },
   "file_extension": ".py",
   "mimetype": "text/x-python",
   "name": "python",
   "nbconvert_exporter": "python",
   "pygments_lexer": "ipython3",
   "version": "3.5.3"
  }
 },
 "nbformat": 4,
 "nbformat_minor": 2
}
