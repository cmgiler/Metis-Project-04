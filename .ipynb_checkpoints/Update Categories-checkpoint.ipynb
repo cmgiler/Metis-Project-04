{
 "cells": [
  {
   "cell_type": "code",
   "execution_count": 1,
   "metadata": {
    "ExecuteTime": {
     "end_time": "2018-02-28T04:25:50.725565Z",
     "start_time": "2018-02-28T04:25:48.963167Z"
    },
    "collapsed": true
   },
   "outputs": [],
   "source": [
    "from FletcherLibrary import MongoQuery as MQ\n",
    "from FletcherLibrary import TextAnalysis as TA\n",
    "from FletcherLibrary import TopicModel as TM\n",
    "from FletcherLibrary import TextSummarization as TS\n",
    "import pickle"
   ]
  },
  {
   "cell_type": "code",
   "execution_count": 45,
   "metadata": {
    "ExecuteTime": {
     "end_time": "2018-02-28T04:25:50.787787Z",
     "start_time": "2018-02-28T04:25:50.728468Z"
    },
    "collapsed": true
   },
   "outputs": [],
   "source": [
    "collection = MQ.GetMongoCollection('blog_data', 'reuters_all')"
   ]
  },
  {
   "cell_type": "code",
   "execution_count": 46,
   "metadata": {
    "ExecuteTime": {
     "end_time": "2018-02-28T04:25:52.198618Z",
     "start_time": "2018-02-28T04:25:50.795795Z"
    }
   },
   "outputs": [
    {
     "data": {
      "text/plain": [
       "{'_id',\n",
       " 'author',\n",
       " 'content',\n",
       " 'date',\n",
       " 'datetime',\n",
       " 'title',\n",
       " 'topic',\n",
       " 'topic_confidence',\n",
       " 'url'}"
      ]
     },
     "execution_count": 46,
     "metadata": {},
     "output_type": "execute_result"
    }
   ],
   "source": [
    "MQ.GetFields(collection)"
   ]
  },
  {
   "cell_type": "code",
   "execution_count": 102,
   "metadata": {},
   "outputs": [],
   "source": [
    "import datetime as dt\n",
    "from collections import Counter"
   ]
  },
  {
   "cell_type": "code",
   "execution_count": 103,
   "metadata": {},
   "outputs": [],
   "source": [
    "def FetchDataInDateRange(collection_name, start_date_str, end_date_str):\n",
    "    start = dt.datetime.strptime(start_date_str, \n",
    "                                 '%B %d, %Y').replace(hour=0, \n",
    "                                                      minute=0, \n",
    "                                                      second=0)\n",
    "    end = dt.datetime.strptime(end_date_str, \n",
    "                               '%B %d, %Y').replace(hour=23, \n",
    "                                                    minute=59, \n",
    "                                                    second=59)\n",
    "    data = []\n",
    "    for d in collection.find({'datetime': {'$gt': start, '$lt': end}}):\n",
    "        if 'topic' in d.keys() and d['topic'] != '':\n",
    "            if d['topic'] == '2014 Winter Olympics':\n",
    "                d['topic'] = '2018 Winter Olympics':\n",
    "            \n",
    "            data.append(d)\n",
    "    return data"
   ]
  },
  {
   "cell_type": "code",
   "execution_count": 108,
   "metadata": {},
   "outputs": [],
   "source": [
    "def GetCategoryCounts(collection_name, start_date_str, end_date_str):\n",
    "    from collection import Counter\n",
    "    data = FetchDataInDateRange(collection_name, start_date, end_date)\n",
    "    return Counter([d['topic'] for d in data])"
   ]
  },
  {
   "cell_type": "code",
   "execution_count": 109,
   "metadata": {},
   "outputs": [
    {
     "ename": "ImportError",
     "evalue": "No module named 'collection'",
     "output_type": "error",
     "traceback": [
      "\u001b[0;31m--------------------------------------------------------------------------\u001b[0m",
      "\u001b[0;31mImportError\u001b[0m                              Traceback (most recent call last)",
      "\u001b[0;32m<ipython-input-109-31f8bc4d8830>\u001b[0m in \u001b[0;36m<module>\u001b[0;34m()\u001b[0m\n\u001b[1;32m      1\u001b[0m \u001b[0mstart_date\u001b[0m \u001b[0;34m=\u001b[0m \u001b[0;34m\"February 2, 2018\"\u001b[0m\u001b[0;34m\u001b[0m\u001b[0m\n\u001b[1;32m      2\u001b[0m \u001b[0mend_date\u001b[0m \u001b[0;34m=\u001b[0m \u001b[0;34m\"February 25, 2018\"\u001b[0m\u001b[0;34m\u001b[0m\u001b[0m\n\u001b[0;32m----> 3\u001b[0;31m \u001b[0mGetCategoryCounts\u001b[0m\u001b[0;34m(\u001b[0m\u001b[0;34m'reuters_all'\u001b[0m\u001b[0;34m,\u001b[0m \u001b[0mstart_date\u001b[0m\u001b[0;34m,\u001b[0m \u001b[0mend_date\u001b[0m\u001b[0;34m)\u001b[0m\u001b[0;34m\u001b[0m\u001b[0m\n\u001b[0m",
      "\u001b[0;32m<ipython-input-108-3baf6b090001>\u001b[0m in \u001b[0;36mGetCategoryCounts\u001b[0;34m(collection_name, start_date_str, end_date_str)\u001b[0m\n\u001b[1;32m      1\u001b[0m \u001b[0;32mdef\u001b[0m \u001b[0mGetCategoryCounts\u001b[0m\u001b[0;34m(\u001b[0m\u001b[0mcollection_name\u001b[0m\u001b[0;34m,\u001b[0m \u001b[0mstart_date_str\u001b[0m\u001b[0;34m,\u001b[0m \u001b[0mend_date_str\u001b[0m\u001b[0;34m)\u001b[0m\u001b[0;34m:\u001b[0m\u001b[0;34m\u001b[0m\u001b[0m\n\u001b[0;32m----> 2\u001b[0;31m     \u001b[0;32mfrom\u001b[0m \u001b[0mcollection\u001b[0m \u001b[0;32mimport\u001b[0m \u001b[0mCounter\u001b[0m\u001b[0;34m\u001b[0m\u001b[0m\n\u001b[0m\u001b[1;32m      3\u001b[0m     \u001b[0mdata\u001b[0m \u001b[0;34m=\u001b[0m \u001b[0mFetchDataInDateRange\u001b[0m\u001b[0;34m(\u001b[0m\u001b[0;34m'reuters_all'\u001b[0m\u001b[0;34m,\u001b[0m \u001b[0mstart_date\u001b[0m\u001b[0;34m,\u001b[0m \u001b[0mend_date\u001b[0m\u001b[0;34m)\u001b[0m\u001b[0;34m\u001b[0m\u001b[0m\n\u001b[1;32m      4\u001b[0m     \u001b[0;32mreturn\u001b[0m \u001b[0mCounter\u001b[0m\u001b[0;34m(\u001b[0m\u001b[0;34m[\u001b[0m\u001b[0md\u001b[0m\u001b[0;34m[\u001b[0m\u001b[0;34m'topic'\u001b[0m\u001b[0;34m]\u001b[0m \u001b[0;32mfor\u001b[0m \u001b[0md\u001b[0m \u001b[0;32min\u001b[0m \u001b[0mdata\u001b[0m\u001b[0;34m]\u001b[0m\u001b[0;34m)\u001b[0m\u001b[0;34m\u001b[0m\u001b[0m\n",
      "\u001b[0;31mImportError\u001b[0m: No module named 'collection'"
     ]
    }
   ],
   "source": [
    "start_date = \"February 2, 2018\"\n",
    "end_date = \"February 25, 2018\"\n",
    "GetCategoryCounts('reuters_all', start_date, end_date)"
   ]
  },
  {
   "cell_type": "code",
   "execution_count": 101,
   "metadata": {},
   "outputs": [
    {
     "data": {
      "text/plain": [
       "Counter({'2014 Winter Olympics': 33,\n",
       "         '2018 Winter Olympics': 90,\n",
       "         'Afghanistan / Pakistan': 10,\n",
       "         'Africa': 8,\n",
       "         'Aircraft': 2,\n",
       "         'Automotive': 16,\n",
       "         'Brexit / European Union': 7,\n",
       "         'Business': 49,\n",
       "         'Chinese Trade': 17,\n",
       "         'Crime / Security': 47,\n",
       "         'Economy': 13,\n",
       "         'Energy / Environmental': 13,\n",
       "         'European Politics / Government': 17,\n",
       "         'Financial / Cryptocurrency': 39,\n",
       "         'German Politics': 12,\n",
       "         'Immigration': 11,\n",
       "         'Iran / Yemen': 8,\n",
       "         'Israel / Palestine': 12,\n",
       "         'Medicine': 26,\n",
       "         'North America': 9,\n",
       "         'North Korea': 24,\n",
       "         'Politics': 12,\n",
       "         'Saudi Arabia': 8,\n",
       "         'South America': 3,\n",
       "         'Sports': 28,\n",
       "         'Stock Market': 4,\n",
       "         'Technology': 8,\n",
       "         'Tennis': 16,\n",
       "         'Turkey / Syria': 28})"
      ]
     },
     "execution_count": 101,
     "metadata": {},
     "output_type": "execute_result"
    }
   ],
   "source": []
  },
  {
   "cell_type": "code",
   "execution_count": 84,
   "metadata": {},
   "outputs": [],
   "source": [
    "date = dt.datetime.strptime(start_date, '%B %d, %Y').replace(hour=23, minute=59, second=59)"
   ]
  },
  {
   "cell_type": "code",
   "execution_count": 85,
   "metadata": {},
   "outputs": [
    {
     "data": {
      "text/plain": [
       "datetime.datetime(2018, 2, 24, 23, 59, 59)"
      ]
     },
     "execution_count": 85,
     "metadata": {},
     "output_type": "execute_result"
    }
   ],
   "source": [
    "date"
   ]
  },
  {
   "cell_type": "code",
   "execution_count": 71,
   "metadata": {},
   "outputs": [
    {
     "data": {
      "text/plain": [
       "datetime.datetime(2018, 2, 1, 23, 59, 59)"
      ]
     },
     "execution_count": 71,
     "metadata": {},
     "output_type": "execute_result"
    }
   ],
   "source": [
    "start = dt.datetime(2018, 2, 1, 0, 0, 0)\n",
    "end = dt.datetime(2018, 2, 1, 23, 59, 59)\n",
    "end"
   ]
  },
  {
   "cell_type": "code",
   "execution_count": 69,
   "metadata": {},
   "outputs": [],
   "source": [
    "data = collection.find({'datetime': {'$gt': start,\n",
    "                                     '$lt': end}})\n",
    "for d in data:\n",
    "    print(d['datetime'])"
   ]
  },
  {
   "cell_type": "code",
   "execution_count": 65,
   "metadata": {},
   "outputs": [
    {
     "data": {
      "text/plain": [
       "True"
      ]
     },
     "execution_count": 65,
     "metadata": {},
     "output_type": "execute_result"
    }
   ],
   "source": [
    "d = collection.find_one()\n",
    "d['datetime']"
   ]
  },
  {
   "cell_type": "code",
   "execution_count": null,
   "metadata": {},
   "outputs": [],
   "source": []
  },
  {
   "cell_type": "code",
   "execution_count": null,
   "metadata": {},
   "outputs": [
    {
     "name": "stdout",
     "output_type": "stream",
     "text": [
      "28605\n"
     ]
    }
   ],
   "source": [
    "from IPython.display import clear_output\n",
    "i = 1\n",
    "for d in collection.find():\n",
    "    clear_output(wait=True)\n",
    "    print(i)\n",
    "    i += 1\n",
    "    collection.update_one({'_id': d['_id']}, \n",
    "                          {'$set': {'datetime': dt.datetime.strptime(d[\"date\"], \"%Y-%m-%dT%H:%M:%SZ\")}})"
   ]
  },
  {
   "cell_type": "code",
   "execution_count": 42,
   "metadata": {},
   "outputs": [
    {
     "data": {
      "text/plain": [
       "29828"
      ]
     },
     "execution_count": 42,
     "metadata": {},
     "output_type": "execute_result"
    }
   ],
   "source": []
  },
  {
   "cell_type": "code",
   "execution_count": null,
   "metadata": {},
   "outputs": [],
   "source": []
  },
  {
   "cell_type": "code",
   "execution_count": 12,
   "metadata": {},
   "outputs": [
    {
     "data": {
      "text/html": [
       "<div>\n",
       "<style>\n",
       "    .dataframe thead tr:only-child th {\n",
       "        text-align: right;\n",
       "    }\n",
       "\n",
       "    .dataframe thead th {\n",
       "        text-align: left;\n",
       "    }\n",
       "\n",
       "    .dataframe tbody tr th {\n",
       "        vertical-align: top;\n",
       "    }\n",
       "</style>\n",
       "<table border=\"1\" class=\"dataframe\">\n",
       "  <thead>\n",
       "    <tr style=\"text-align: right;\">\n",
       "      <th></th>\n",
       "      <th>date</th>\n",
       "      <th>title</th>\n",
       "      <th>topic</th>\n",
       "    </tr>\n",
       "  </thead>\n",
       "  <tbody>\n",
       "  </tbody>\n",
       "</table>\n",
       "</div>"
      ],
      "text/plain": [
       "Empty DataFrame\n",
       "Columns: [date, title, topic]\n",
       "Index: []"
      ]
     },
     "execution_count": 12,
     "metadata": {},
     "output_type": "execute_result"
    }
   ],
   "source": [
    "MQ.FetchData(collection, \n",
    "             ['date', 'title', 'topic'], \n",
    "             {'date': {'$lte': end,\n",
    "                       '$gte': start}})"
   ]
  },
  {
   "cell_type": "code",
   "execution_count": null,
   "metadata": {},
   "outputs": [],
   "source": []
  },
  {
   "cell_type": "code",
   "execution_count": null,
   "metadata": {},
   "outputs": [],
   "source": []
  },
  {
   "cell_type": "code",
   "execution_count": null,
   "metadata": {},
   "outputs": [],
   "source": []
  },
  {
   "cell_type": "code",
   "execution_count": null,
   "metadata": {},
   "outputs": [],
   "source": []
  },
  {
   "cell_type": "code",
   "execution_count": 16,
   "metadata": {},
   "outputs": [],
   "source": [
    "_ids = [_id['_id'] for _id in collection.find({},{'_id':1})]"
   ]
  },
  {
   "cell_type": "code",
   "execution_count": 28,
   "metadata": {},
   "outputs": [
    {
     "name": "stdout",
     "output_type": "stream",
     "text": [
      "(1/29827) Topic: Tennis (95.88% Confidence)\n"
     ]
    }
   ],
   "source": [
    "from IPython.display import clear_output\n",
    "for i, _id in enumerate(_ids):\n",
    "    try:\n",
    "        content = collection.find_one({'_id': _id}, {'_id':0, 'content':1, 'title':1})\n",
    "        title = content['title']\n",
    "        content = content['content']\n",
    "    except:\n",
    "        pass\n",
    "    topic, confidence = TS.PredictTopic([content])\n",
    "    topic = topic[0]\n",
    "    confidence = confidence[0]\n",
    "    collection.update_one({'_id': _id},\n",
    "                          {'$set': {'topic': topic,\n",
    "                                    'topic_confidence': confidence}})\n",
    "    clear_output(wait=True)\n",
    "    print('(%d/%d) %s\\nTopic: %s (%0.2f%% Confidence)' % (i+1, len(_ids), title, topic, confidence*100.))\n",
    "    break"
   ]
  },
  {
   "cell_type": "code",
   "execution_count": null,
   "metadata": {},
   "outputs": [],
   "source": [
    "try:\n",
    "    collection.insert_one(dict(item))\n",
    "except pymongo.errors.DuplicateKeyError:\n",
    "    res = collection.update_one(\n",
    "       {'userurl': item['userurl'}, {'$set': {'url': item['url'}})"
   ]
  },
  {
   "cell_type": "code",
   "execution_count": 13,
   "metadata": {
    "ExecuteTime": {
     "end_time": "2018-02-28T04:25:53.306179Z",
     "start_time": "2018-02-28T04:25:52.202031Z"
    }
   },
   "outputs": [],
   "source": [
    "data = collection.find()\n",
    "content_list = []\n",
    "title_list = []\n",
    "for d in data:\n",
    "    if 'content' in d.keys():\n",
    "        content_list.append(d['content'])\n",
    "        title_list.append(d['title'])"
   ]
  },
  {
   "cell_type": "code",
   "execution_count": 14,
   "metadata": {
    "ExecuteTime": {
     "end_time": "2018-02-28T04:27:06.890725Z",
     "start_time": "2018-02-28T04:26:12.498246Z"
    }
   },
   "outputs": [
    {
     "name": "stderr",
     "output_type": "stream",
     "text": [
      "/home/chrisgiler/Metis_Project_04/FletcherLibrary/TextSummarization.py:23: RuntimeWarning: invalid value encountered in double_scalars\n",
      "  confidence = [w.max()/w.sum() for w in W]\n"
     ]
    }
   ],
   "source": [
    "topics, confidence = TS.PredictTopic(content_list)"
   ]
  },
  {
   "cell_type": "code",
   "execution_count": 15,
   "metadata": {},
   "outputs": [
    {
     "data": {
      "text/plain": [
       "[('Tennis', 'Konta overcomes blip to get past Keys in Brisbane opener'),\n",
       " ('Tennis', 'Zverev cruises into second round at Brisbane'),\n",
       " ('Chinese Trade',\n",
       "  \"After tough year, Hong Kong democracy protesters sound warning to China on New Year's day\"),\n",
       " ('Energy', \"India's infrastructure output grows 6.8 percent in November\"),\n",
       " ('Chinese Trade',\n",
       "  'BRIEF-Sunsea Telecommunications unit signs cooperation agreement on internet of things'),\n",
       " ('Chinese Trade',\n",
       "  'BRIEF-Sunsea Telecommunications unit signs cooperation agreement on internet of things'),\n",
       " ('Tennis', 'Konta overcomes blip to get past Keys in Brisbane opener'),\n",
       " ('Crime / Security (Domestic)',\n",
       "  'In frigid Times Square, relief arrives with the new year'),\n",
       " ('Afghanistan / Pakistan',\n",
       "  'Exclusive: Pakistan plans takeover of charities run by Islamist figure U.S. has targeted'),\n",
       " ('Afghanistan / Pakistan',\n",
       "  'Exclusive: Pakistan plans takeover of charities run by Islamist figure U.S. has targeted'),\n",
       " ('Crime / Security (Domestic)',\n",
       "  'Fire officials relieved of duty over deadly fire in southern Philippines'),\n",
       " ('Isreal / Palestine',\n",
       "  \"Israel's Rami Levi to buy 20 percent of Cofix coffee chain\"),\n",
       " ('North Korea',\n",
       "  \"South Korea says welcomes Kim Jong Un's New Year speech: Yonhap\"),\n",
       " ('Financial / Cryptocurrency',\n",
       "  \"India's Bandhan Bank to offer about 119 mln shares in IPO\"),\n",
       " ('Financial / Cryptocurrency',\n",
       "  'Bandhan Bank to offer about 119 million shares in IPO'),\n",
       " ('Afghanistan / Pakistan',\n",
       "  'Exclusive: Pakistan plans takeover of charities run by Islamist figure U.S. has targeted'),\n",
       " ('European Football',\n",
       "  'Zaha says to stay at Palace despite Man City, Chelsea links'),\n",
       " ('Energy',\n",
       "  \"UPDATE 1-Iraq's exports from southern oilfields hit record 3.535 mln bpd in Dec\"),\n",
       " ('Financial / Cryptocurrency',\n",
       "  'Oman 2018 state budget boosts spending, keeps deficit flat'),\n",
       " ('Afghanistan / Pakistan',\n",
       "  \"Trump says U.S. has gotten 'nothing' from Pakistan aid\")]"
      ]
     },
     "execution_count": 15,
     "metadata": {},
     "output_type": "execute_result"
    }
   ],
   "source": [
    "[(t, s) for t,s in zip(topics, title_list)][:20]"
   ]
  },
  {
   "cell_type": "code",
   "execution_count": 8,
   "metadata": {
    "ExecuteTime": {
     "end_time": "2018-02-28T04:23:56.756020Z",
     "start_time": "2018-02-28T04:23:56.748686Z"
    }
   },
   "outputs": [
    {
     "data": {
      "text/plain": [
       "<1x47374 sparse matrix of type '<class 'numpy.float64'>'\n",
       "\twith 1 stored elements in Compressed Sparse Row format>"
      ]
     },
     "execution_count": 8,
     "metadata": {},
     "output_type": "execute_result"
    }
   ],
   "source": [
    "topics.transform(['this is a test'])"
   ]
  },
  {
   "cell_type": "code",
   "execution_count": 6,
   "metadata": {
    "ExecuteTime": {
     "end_time": "2018-02-28T04:14:48.297309Z",
     "start_time": "2018-02-28T04:14:48.286825Z"
    }
   },
   "outputs": [
    {
     "data": {
      "text/plain": [
       "<1x5519 sparse matrix of type '<class 'numpy.float64'>'\n",
       "\twith 5 stored elements in Compressed Sparse Column format>"
      ]
     },
     "execution_count": 6,
     "metadata": {},
     "output_type": "execute_result"
    }
   ],
   "source": [
    "topics[:20]"
   ]
  },
  {
   "cell_type": "code",
   "execution_count": null,
   "metadata": {
    "collapsed": true
   },
   "outputs": [],
   "source": []
  },
  {
   "cell_type": "code",
   "execution_count": 57,
   "metadata": {
    "ExecuteTime": {
     "end_time": "2018-02-28T03:56:42.444546Z",
     "start_time": "2018-02-28T03:56:40.802084Z"
    }
   },
   "outputs": [
    {
     "name": "stdout",
     "output_type": "stream",
     "text": [
      "32/201\n"
     ]
    },
    {
     "ename": "KeyboardInterrupt",
     "evalue": "",
     "output_type": "error",
     "traceback": [
      "\u001b[0;31m---------------------------------------------------------------------------\u001b[0m",
      "\u001b[0;31mKeyboardInterrupt\u001b[0m                         Traceback (most recent call last)",
      "\u001b[0;32m<ipython-input-57-94c0018e0c2b>\u001b[0m in \u001b[0;36m<module>\u001b[0;34m()\u001b[0m\n\u001b[1;32m      8\u001b[0m     \u001b[0mprint\u001b[0m\u001b[0;34m(\u001b[0m\u001b[0;34m'%d/%d'\u001b[0m \u001b[0;34m%\u001b[0m \u001b[0;34m(\u001b[0m\u001b[0mi\u001b[0m\u001b[0;34m,\u001b[0m \u001b[0mdata\u001b[0m\u001b[0;34m.\u001b[0m\u001b[0mcount\u001b[0m\u001b[0;34m(\u001b[0m\u001b[0;34m)\u001b[0m\u001b[0;34m)\u001b[0m\u001b[0;34m)\u001b[0m\u001b[0;34m\u001b[0m\u001b[0m\n\u001b[1;32m      9\u001b[0m     \u001b[0mx\u001b[0m \u001b[0;34m=\u001b[0m \u001b[0mcount_vectorizer\u001b[0m\u001b[0;34m.\u001b[0m\u001b[0mtransform\u001b[0m\u001b[0;34m(\u001b[0m\u001b[0;34m[\u001b[0m\u001b[0md\u001b[0m\u001b[0;34m[\u001b[0m\u001b[0;34m'content'\u001b[0m\u001b[0;34m]\u001b[0m\u001b[0;34m]\u001b[0m\u001b[0;34m)\u001b[0m\u001b[0;34m\u001b[0m\u001b[0m\n\u001b[0;32m---> 10\u001b[0;31m     \u001b[0mW\u001b[0m \u001b[0;34m=\u001b[0m \u001b[0mmodel\u001b[0m\u001b[0;34m.\u001b[0m\u001b[0mtransform\u001b[0m\u001b[0;34m(\u001b[0m\u001b[0mx\u001b[0m\u001b[0;34m.\u001b[0m\u001b[0mtoarray\u001b[0m\u001b[0;34m(\u001b[0m\u001b[0;34m)\u001b[0m\u001b[0;34m)\u001b[0m\u001b[0;34m[\u001b[0m\u001b[0;36m0\u001b[0m\u001b[0;34m]\u001b[0m\u001b[0;34m\u001b[0m\u001b[0m\n\u001b[0m\u001b[1;32m     11\u001b[0m     \u001b[0md\u001b[0m\u001b[0;34m[\u001b[0m\u001b[0;34m'topic'\u001b[0m\u001b[0;34m]\u001b[0m \u001b[0;34m=\u001b[0m \u001b[0mcategory_names\u001b[0m\u001b[0;34m[\u001b[0m\u001b[0mW\u001b[0m\u001b[0;34m.\u001b[0m\u001b[0margmax\u001b[0m\u001b[0;34m(\u001b[0m\u001b[0;34m)\u001b[0m\u001b[0;34m]\u001b[0m\u001b[0;34m\u001b[0m\u001b[0m\n\u001b[1;32m     12\u001b[0m     \u001b[0md\u001b[0m\u001b[0;34m[\u001b[0m\u001b[0;34m'topic_confidence'\u001b[0m\u001b[0;34m]\u001b[0m \u001b[0;34m=\u001b[0m \u001b[0mW\u001b[0m\u001b[0;34m.\u001b[0m\u001b[0mmax\u001b[0m\u001b[0;34m(\u001b[0m\u001b[0;34m)\u001b[0m\u001b[0;34m/\u001b[0m\u001b[0mW\u001b[0m\u001b[0;34m.\u001b[0m\u001b[0msum\u001b[0m\u001b[0;34m(\u001b[0m\u001b[0;34m)\u001b[0m\u001b[0;34m\u001b[0m\u001b[0m\n",
      "\u001b[0;32m/Library/Frameworks/Python.framework/Versions/3.6/lib/python3.6/site-packages/sklearn/decomposition/nmf.py\u001b[0m in \u001b[0;36mtransform\u001b[0;34m(self, X)\u001b[0m\n\u001b[1;32m   1278\u001b[0m             \u001b[0malpha\u001b[0m\u001b[0;34m=\u001b[0m\u001b[0mself\u001b[0m\u001b[0;34m.\u001b[0m\u001b[0malpha\u001b[0m\u001b[0;34m,\u001b[0m \u001b[0ml1_ratio\u001b[0m\u001b[0;34m=\u001b[0m\u001b[0mself\u001b[0m\u001b[0;34m.\u001b[0m\u001b[0ml1_ratio\u001b[0m\u001b[0;34m,\u001b[0m \u001b[0mregularization\u001b[0m\u001b[0;34m=\u001b[0m\u001b[0;34m'both'\u001b[0m\u001b[0;34m,\u001b[0m\u001b[0;34m\u001b[0m\u001b[0m\n\u001b[1;32m   1279\u001b[0m             \u001b[0mrandom_state\u001b[0m\u001b[0;34m=\u001b[0m\u001b[0mself\u001b[0m\u001b[0;34m.\u001b[0m\u001b[0mrandom_state\u001b[0m\u001b[0;34m,\u001b[0m \u001b[0mverbose\u001b[0m\u001b[0;34m=\u001b[0m\u001b[0mself\u001b[0m\u001b[0;34m.\u001b[0m\u001b[0mverbose\u001b[0m\u001b[0;34m,\u001b[0m\u001b[0;34m\u001b[0m\u001b[0m\n\u001b[0;32m-> 1280\u001b[0;31m             shuffle=self.shuffle)\n\u001b[0m\u001b[1;32m   1281\u001b[0m \u001b[0;34m\u001b[0m\u001b[0m\n\u001b[1;32m   1282\u001b[0m         \u001b[0;32mreturn\u001b[0m \u001b[0mW\u001b[0m\u001b[0;34m\u001b[0m\u001b[0m\n",
      "\u001b[0;32m/Library/Frameworks/Python.framework/Versions/3.6/lib/python3.6/site-packages/sklearn/decomposition/nmf.py\u001b[0m in \u001b[0;36mnon_negative_factorization\u001b[0;34m(X, W, H, n_components, init, update_H, solver, beta_loss, tol, max_iter, alpha, l1_ratio, regularization, random_state, verbose, shuffle)\u001b[0m\n\u001b[1;32m   1021\u001b[0m                                                \u001b[0mverbose\u001b[0m\u001b[0;34m=\u001b[0m\u001b[0mverbose\u001b[0m\u001b[0;34m,\u001b[0m\u001b[0;34m\u001b[0m\u001b[0m\n\u001b[1;32m   1022\u001b[0m                                                \u001b[0mshuffle\u001b[0m\u001b[0;34m=\u001b[0m\u001b[0mshuffle\u001b[0m\u001b[0;34m,\u001b[0m\u001b[0;34m\u001b[0m\u001b[0m\n\u001b[0;32m-> 1023\u001b[0;31m                                                random_state=random_state)\n\u001b[0m\u001b[1;32m   1024\u001b[0m     \u001b[0;32melif\u001b[0m \u001b[0msolver\u001b[0m \u001b[0;34m==\u001b[0m \u001b[0;34m'mu'\u001b[0m\u001b[0;34m:\u001b[0m\u001b[0;34m\u001b[0m\u001b[0m\n\u001b[1;32m   1025\u001b[0m         W, H, n_iter = _fit_multiplicative_update(X, W, H, beta_loss, max_iter,\n",
      "\u001b[0;32m/Library/Frameworks/Python.framework/Versions/3.6/lib/python3.6/site-packages/sklearn/decomposition/nmf.py\u001b[0m in \u001b[0;36m_fit_coordinate_descent\u001b[0;34m(X, W, H, tol, max_iter, l1_reg_W, l1_reg_H, l2_reg_W, l2_reg_H, update_H, verbose, shuffle, random_state)\u001b[0m\n\u001b[1;32m    483\u001b[0m         \u001b[0;31m# Update W\u001b[0m\u001b[0;34m\u001b[0m\u001b[0;34m\u001b[0m\u001b[0m\n\u001b[1;32m    484\u001b[0m         violation += _update_coordinate_descent(X, W, Ht, l1_reg_W,\n\u001b[0;32m--> 485\u001b[0;31m                                                 l2_reg_W, shuffle, rng)\n\u001b[0m\u001b[1;32m    486\u001b[0m         \u001b[0;31m# Update H\u001b[0m\u001b[0;34m\u001b[0m\u001b[0;34m\u001b[0m\u001b[0m\n\u001b[1;32m    487\u001b[0m         \u001b[0;32mif\u001b[0m \u001b[0mupdate_H\u001b[0m\u001b[0;34m:\u001b[0m\u001b[0;34m\u001b[0m\u001b[0m\n",
      "\u001b[0;32m/Library/Frameworks/Python.framework/Versions/3.6/lib/python3.6/site-packages/sklearn/decomposition/nmf.py\u001b[0m in \u001b[0;36m_update_coordinate_descent\u001b[0;34m(X, W, Ht, l1_reg, l2_reg, shuffle, random_state)\u001b[0m\n\u001b[1;32m    380\u001b[0m     \u001b[0mn_components\u001b[0m \u001b[0;34m=\u001b[0m \u001b[0mHt\u001b[0m\u001b[0;34m.\u001b[0m\u001b[0mshape\u001b[0m\u001b[0;34m[\u001b[0m\u001b[0;36m1\u001b[0m\u001b[0;34m]\u001b[0m\u001b[0;34m\u001b[0m\u001b[0m\n\u001b[1;32m    381\u001b[0m \u001b[0;34m\u001b[0m\u001b[0m\n\u001b[0;32m--> 382\u001b[0;31m     \u001b[0mHHt\u001b[0m \u001b[0;34m=\u001b[0m \u001b[0mnp\u001b[0m\u001b[0;34m.\u001b[0m\u001b[0mdot\u001b[0m\u001b[0;34m(\u001b[0m\u001b[0mHt\u001b[0m\u001b[0;34m.\u001b[0m\u001b[0mT\u001b[0m\u001b[0;34m,\u001b[0m \u001b[0mHt\u001b[0m\u001b[0;34m)\u001b[0m\u001b[0;34m\u001b[0m\u001b[0m\n\u001b[0m\u001b[1;32m    383\u001b[0m     \u001b[0mXHt\u001b[0m \u001b[0;34m=\u001b[0m \u001b[0msafe_sparse_dot\u001b[0m\u001b[0;34m(\u001b[0m\u001b[0mX\u001b[0m\u001b[0;34m,\u001b[0m \u001b[0mHt\u001b[0m\u001b[0;34m)\u001b[0m\u001b[0;34m\u001b[0m\u001b[0m\n\u001b[1;32m    384\u001b[0m \u001b[0;34m\u001b[0m\u001b[0m\n",
      "\u001b[0;31mKeyboardInterrupt\u001b[0m: "
     ]
    }
   ],
   "source": [
    "from IPython.display import clear_output\n",
    "topics = []\n",
    "confidence = []\n",
    "new_data = []\n",
    "for i, d in enumerate(data):\n",
    "    clear_output(wait=True)\n",
    "    print('%d/%d' % (i, data.count()))\n",
    "    x = count_vectorizer.transform([d['content']])\n",
    "    W = model.transform(x.toarray())[0]\n",
    "    d['topic'] = category_names[W.argmax()]\n",
    "    d['topic_confidence'] = W.max()/W.sum()\n",
    "    new_data.append(d)\n",
    "    if i >= 200:\n",
    "        break"
   ]
  },
  {
   "cell_type": "code",
   "execution_count": null,
   "metadata": {
    "collapsed": true
   },
   "outputs": [],
   "source": []
  },
  {
   "cell_type": "code",
   "execution_count": 52,
   "metadata": {
    "ExecuteTime": {
     "end_time": "2018-02-28T03:48:24.542641Z",
     "start_time": "2018-02-28T03:48:24.424244Z"
    }
   },
   "outputs": [
    {
     "data": {
      "text/plain": [
       "<pymongo.results.InsertManyResult at 0x122c09e10>"
      ]
     },
     "execution_count": 52,
     "metadata": {},
     "output_type": "execute_result"
    }
   ],
   "source": [
    "collection.drop()\n",
    "collection.insert_many(new_data)"
   ]
  },
  {
   "cell_type": "code",
   "execution_count": 56,
   "metadata": {
    "ExecuteTime": {
     "end_time": "2018-02-28T03:53:32.523036Z",
     "start_time": "2018-02-28T03:53:32.286728Z"
    }
   },
   "outputs": [
    {
     "name": "stdout",
     "output_type": "stream",
     "text": [
      "BRIEF-PDC Energy Says R. Scott Meyers Appointed CFO | Energy 0.7180448561017347 | https://www.reuters.com/article/brief-pdc-energy-says-r-scott-meyers-app/brief-pdc-energy-says-r-scott-meyers-appointed-cfo-idUSASB0BZRT\n",
      "CANADA STOCKS-TSX adds to record high as financials, industrials climb | Stock Market 0.7161312004931202 | https://www.reuters.com/article/canada-stocks-open/canada-stocks-tsx-adds-to-record-high-as-financials-industrials-climb-idUSL1N1OZ0PO\n",
      "Suspected diphtheria cases in Yemen near 500: WHO | Iran 0.4869175709914152 | https://www.reuters.com/article/us-yemen-diphtheria/suspected-diphtheria-cases-in-yemen-near-500-who-idUSKBN1ET1BQ\n",
      "Sharapova, Halep cruise into Shenzhen semi-finals | Sports 0.7570801756119416 | https://af.reuters.com/article/sportsNews/idAFKBN1ET18Q-OZASP\n",
      "Zimbabwe court dismisses case of U.S. woman charged with insulting Mugabe | Government 0.9840686136443342 | https://af.reuters.com/article/topNews/idAFKBN1ET176-OZATP\n",
      "BRIEF-iHeartcommunications Announces Extension Of Private Offers | Technology / Cryptocurrency 0.30671336959221746 | https://www.reuters.com/article/brief-iheartcommunications-announces-ext/brief-iheartcommunications-announces-extension-of-private-offers-idUSASB0BZPG\n",
      "UPDATE 1-UK firms report brighter Q4, consumers slow borrowing | Stock Market nan | https://www.reuters.com/article/britain-economy-pmi/update-1-uk-firms-report-brighter-q4-consumers-slow-borrowing-idUSL8N1OZ1FV\n",
      "China tightens bond trading rules in deleveraging campaign - PBOC | Technology / Cryptocurrency 0.36870435268802654 | https://in.reuters.com/article/china-bond-rules-cenbank/china-issues-guidelines-to-regulate-bond-market-idINKBN1ET16Q\n",
      "Friends of arrested Reuters reporter in Myanmar pour out hearts on social media | Afghanistan / Pakistan / Taliban 0.7951375990999366 | https://af.reuters.com/article/worldNews/idAFKBN1ET08C\n",
      "Corrected: Asian shares at 10-year peak on upbeat data, oil elevated on Iran unrest | Stock Market 0.42269781248490784 | https://in.reuters.com/article/global-markets/asian-shares-at-10-year-peak-on-upbeat-data-oil-elevated-on-iran-unrest-idINKBN1ET02H\n",
      "Factbox: What you need to do about newly discovered computer chip flaws | Technology / Cryptocurrency 0.8618828783443415 | https://uk.reuters.com/article/us-cyber-intel-facts/factbox-what-you-need-to-do-about-newly-discovered-computer-chip-flaws-idUKKBN1ET071\n",
      "UPDATE 1-Fitch downgrades Wanda Commercial to junk on offshore funding concerns | Technology / Cryptocurrency 0.5353201552924761 | https://www.reuters.com/article/dalian-wanda-fitch-downgrade/update-1-fitch-downgrades-wanda-commercial-to-junk-on-offshore-funding-concerns-idUSL4N1OZ1CI\n",
      "UPDATE 1-Fitch downgrades Wanda Commercial to junk on offshore funding concerns | Technology / Cryptocurrency 0.5353201552924761 | https://uk.reuters.com/article/dalian-wanda-fitch-downgrade/update-1-fitch-downgrades-wanda-commercial-to-junk-on-offshore-funding-concerns-idUKL4N1OZ1CI\n",
      "Morning News Call - India, January 4 | Stock Market nan | https://www.reuters.com/article/india-morningcall/morning-news-call-india-january-4-idUSL4N1OZ1CW\n",
      "Suncor, Teck buy part of Total stake in Canada oil sands mine | Energy 0.5067250320859702 | https://ca.reuters.com/article/businessNews/idCAKBN1ET003-OCABS\n",
      "Trump dissolves election fraud panel after states balk at data requests | Politics 0.5139493785165675 | https://www.reuters.com/article/us-usa-trump-election/trump-dissolves-election-fraud-panel-after-states-balk-at-data-requests-idUSKBN1ET01F\n",
      "BRIEF-Shaw Communications Announces Death Of Former CEO Jim Shaw | Technology / Cryptocurrency 0.32443089714721973 | https://www.reuters.com/article/brief-shaw-communications-announces-deat/brief-shaw-communications-announces-death-of-former-ceo-jim-shaw-idUSFWN1OY0P5\n",
      "Tesla pushes back Model 3 production target again, despite progress | Business 0.5232082186733801 | https://uk.reuters.com/article/uk-tesla-production/tesla-delivers-1550-model-3s-in-fourth-quarter-idUKKBN1ES1Z2\n",
      "Asian shares at 10-year peak on upbeat data, oil elevated on Iran unrest | Stock Market 0.42269781248490784 | https://in.reuters.com/article/us-global-markets/asian-shares-at-10-year-peak-on-upbeat-data-oil-elevated-on-iran-unrest-idINKBN1ET02V\n",
      "Man charged with threatening to kill Trump during visit to Utah | Government 0.4654805456151261 | https://www.reuters.com/article/us-usa-trump-threats/man-charged-with-threatening-to-kill-trump-during-visit-to-utah-idUSKBN1ET03G\n",
      "Arkansas board stands by proposal to limit controversial herbicide | Technology / Cryptocurrency 0.310026742064459 | https://www.reuters.com/article/us-usa-pesticides-arkansas/arkansas-board-stands-by-proposal-to-limit-controversial-herbicide-idUSKBN1ET029\n",
      "Asian shares at 10-year peak on upbeat data, oil elevated on Iran unrest | Stock Market 0.42269781248490784 | https://uk.reuters.com/article/us-global-markets/asian-shares-at-10-year-peak-on-upbeat-data-oil-elevated-on-iran-unrest-idUKKBN1ET02V\n",
      "Australia's Cate Blanchett to head Cannes Film Festival jury | Government 0.23948879288419508 | https://www.reuters.com/article/us-filmfestival-cannes-blanchett/australias-cate-blanchett-to-head-cannes-film-festival-jury-idUSKBN1ET0YJ\n",
      "UPDATE 1-Continental, Bosch to buy 5 pct stakes in map firm HERE | Technology / Cryptocurrency 0.5224064475829935 | https://www.reuters.com/article/us-continental-here/continental-to-take-5-percent-stake-in-mapping-firm-here-idUSKBN1ET0VN\n",
      "EMERGING MARKETS-Solid U.S., China data lifts emerging stocks, FX | Economy 0.19090291053451006 | https://www.reuters.com/article/emerging-markets/emerging-markets-solid-u-s-china-data-lifts-emerging-stocks-fx-idUSL8N1OZ150\n",
      "BRIEF-Ashiana Housing Approves Issue Of NCDs/Bonds Up To 2.50 Bln Rupees | Economy 0.27237112890957665 | https://www.reuters.com/article/brief-ashiana-housing-approves-issue-of/brief-ashiana-housing-approves-issue-of-ncds-bonds-up-to-2-50-bln-rupees-idUSFWN1OZ09N\n",
      "Four dead as South African train crashes, bursts into flames | Afghanistan / Pakistan / Taliban 0.4613049004488457 | https://af.reuters.com/article/topNews/idAFKBN1ET154-OZATP\n",
      "Four dead as South African train crashes, bursts into flames | Afghanistan / Pakistan / Taliban 0.4326172479643813 | https://www.reuters.com/article/safrica-train-accident/four-dead-as-south-african-train-crashes-bursts-into-flames-idUSL8N1OZ1S7\n",
      "BRIEF-First Global Secures 16 New US Money Transmitter Licenses In Past Year | Technology / Cryptocurrency 0.29347545399907443 | https://www.reuters.com/article/brief-first-global-secures-16-new-us-mon/brief-first-global-secures-16-new-us-money-transmitter-licenses-in-past-year-idUSFWN1OZ0AB\n",
      "PRESS DIGEST- Canada - Jan 4 | Foreign Trade 0.35040239468470696 | https://www.reuters.com/article/press-digest-canada/press-digest-canada-jan-4-idUSL4N1OZ38M\n",
      "Aharon Appelfeld, acclaimed Israeli novelist and Holocaust survivor, dies at 85 | Isreal / Palestine 0.7149375875869395 | https://ca.reuters.com/article/entertainmentNews/idCAKBN1ET0X5-OCAEN\n",
      "Idea unveils $1.1 billion fundraising plan ahead of Vodafone deal | Technology / Cryptocurrency 0.4095989573259394 | https://in.reuters.com/article/idea-cellular-fundraising/idea-unveils-1-1-billion-fundraising-plan-ahead-of-vodafone-deal-idINKBN1ET125\n",
      "RBI puts Allahabad Bank under prompt corrective action | Technology / Cryptocurrency 0.4757084191982991 | https://in.reuters.com/article/allahabad-bank-rbi-loans/rbi-puts-allahabad-bank-under-prompt-corrective-action-idINKBN1ET0G3\n",
      "BlackBerry surges on deal with Baidu for self-driving cars | Technology / Cryptocurrency 0.42883564796314066 | https://in.reuters.com/article/blackberry-baidu/blackberry-software-to-be-used-in-baidus-self-driving-platform-idINKBN1ES15L\n",
      "Baseball: World Series champion Astros to visit White House | Politics 0.6245464431697463 | https://ca.reuters.com/article/sportsNews/idCAKBN1ET0F5-OCASP\n",
      "Shaw Communications former CEO Jim Shaw dies | Technology / Cryptocurrency 0.47085851180791427 | https://www.reuters.com/article/shaw-comms-jim-shaw/shaw-communications-former-ceo-jim-shaw-dies-idUSL4N1OZ27N\n",
      "Nobel peace laureate Ebadi urges Iranians to keep up protests | Iran 0.762242523452056 | https://www.reuters.com/article/us-iran-rallies/nobel-peace-laureate-ebadi-urges-iranians-to-keep-up-protests-idUSKBN1ET0IR\n",
      "BRIEF-Zhangzhou Pientzehuang Pharmaceutical passes review of high-tech enterprise recognition | Asia 0.39063025469565493 | https://www.reuters.com/article/brief-zhangzhou-pientzehuang-pharmaceuti/brief-zhangzhou-pientzehuang-pharmaceutical-passes-review-of-high-tech-enterprise-recognition-idUSL4N1OZ23S\n",
      "Abe says Japan making steady progress in ending deflation | Economy 0.3962480802278608 | https://www.reuters.com/article/us-japan-economy-abe/abe-says-japan-making-steady-progress-in-ending-deflation-idUSKBN1ET0H8\n",
      "Philippines fines Sanofi, suspends clearance for Dengvaxia | Technology / Cryptocurrency 0.3353930295548731 | https://www.reuters.com/article/us-sanofi-philippines/philippines-fines-sanofi-suspends-clearance-for-dengvaxia-idUSKBN1ET0ID\n",
      "Thai court jails blind woman for 1-1/2 years over royal insult | Government 0.6498027271068337 | https://www.reuters.com/article/us-thailand-king-insults/thai-court-jails-blind-woman-for-1-1-2-years-over-royal-insult-idUSKBN1ET0UA\n",
      "Israeli military to probe death of disabled Palestinian in Gaza | Isreal / Palestine 0.8935112079064723 | https://af.reuters.com/article/worldNews/idAFKBN1ET0R1\n",
      "Turkey says U.S. conviction of banker is 'unprecedented interference' | Turkey / Syria 0.47916875431803924 | https://af.reuters.com/article/worldNews/idAFKBN1ET0P8\n",
      "Deals of the day-Mergers and acquisitions | Europe 0.3972488413159264 | https://www.reuters.com/article/deals-day/deals-of-the-day-mergers-and-acquisitions-idUSL4N1OZ35B\n",
      "BRIEF-Arcturus Therapeutics Ltd Says Raised About $67.8 Million In Equity Financing | Technology / Cryptocurrency 0.3644709052211003 | https://www.reuters.com/article/brief-arcturus-therapeutics-ltd-says-rai/brief-arcturus-therapeutics-ltd-says-raised-about-67-8-million-in-equity-financing-idUSFWN1OY0RN\n",
      "Labour's economic plan is high-risk gamble, says party education chief | European Union 0.3203757821817661 | https://uk.reuters.com/article/uk-britain-politics-labour/labours-economic-plan-is-high-risk-gamble-says-party-education-chief-idUKKBN1ET11C\n",
      "Trump dissolves election fraud panel after states balk at data requests | Politics 0.5139493785165675 | https://www.reuters.com/article/us-usa-trump-election/trump-dissolves-election-fraud-panel-after-states-balk-at-data-requests-idUSKBN1ET01F\n",
      "Arkansas board stands by proposal to limit controversial herbicide | Technology / Cryptocurrency 0.310026742064459 | https://www.reuters.com/article/us-usa-pesticides-arkansas/arkansas-board-stands-by-proposal-to-limit-controversial-herbicide-idUSKBN1ET029\n",
      "Tesla pushes back Model 3 production target again, despite progress | Business 0.5232082186733801 | https://uk.reuters.com/article/uk-tesla-production/tesla-delivers-1550-model-3s-in-fourth-quarter-idUKKBN1ES1Z2\n",
      "BRIEF-Shaw Communications Announces Death Of Former CEO Jim Shaw | Technology / Cryptocurrency 0.32443089714721973 | https://www.reuters.com/article/brief-shaw-communications-announces-deat/brief-shaw-communications-announces-death-of-former-ceo-jim-shaw-idUSFWN1OY0P5\n",
      "UPDATE 1-Cricket-First session of fifth Ashes test washed out | Sports 0.6608496392828831 | https://uk.reuters.com/article/uk-cricket-ashes-weather/rain-delays-start-of-fifth-ashes-test-idUKKBN1ES26H\n",
      "U.S. agriculture markets jump as frigid weather blankets farm belt | Energy 0.2599954336562513 | https://www.reuters.com/article/us-usa-weather-agriculture/u-s-agriculture-markets-jump-as-frigid-weather-blankets-farm-belt-idUSKBN1ET040\n",
      "Asian shares at 10-year peak on upbeat data, oil elevated on Iran unrest | Stock Market 0.42269781248490784 | https://uk.reuters.com/article/us-global-markets/asian-shares-at-10-year-peak-on-upbeat-data-oil-elevated-on-iran-unrest-idUKKBN1ET02V\n",
      "BRIEF-Softbank-owned Arm says majority of its processors not impacted by chips issue | Technology / Cryptocurrency 0.30671336959221746 | https://www.reuters.com/article/brief-softbank-owned-arm-says-majority-o/brief-softbank-owned-arm-says-majority-of-its-processors-not-impacted-by-chips-issue-idUSFWN1OY0P6\n",
      "Japan's Topix rises to highest level since 1991 | Stock Market 0.6123006148678799 | https://www.reuters.com/article/japan-stocks/japans-topix-rises-to-highest-level-since-1991-idUST9N1GS00N\n",
      "Suncor, Teck buy part of Total stake in Canada oil sands mine | Energy 0.5067250320859702 | https://ca.reuters.com/article/businessNews/idCAKBN1ET003-OCABS\n",
      "Asian shares at 10-year peak on upbeat data, oil elevated on Iran unrest | Stock Market 0.42269781248490784 | https://in.reuters.com/article/us-global-markets/asian-shares-at-10-year-peak-on-upbeat-data-oil-elevated-on-iran-unrest-idINKBN1ET02V\n",
      "Man charged with threatening to kill Trump during visit to Utah | Government 0.4654805456151261 | https://www.reuters.com/article/us-usa-trump-threats/man-charged-with-threatening-to-kill-trump-during-visit-to-utah-idUSKBN1ET03G\n",
      "Mexico presidential favorite puts himself at heart of security plan | Foreign Trade 0.3547930630094448 | https://www.reuters.com/article/us-mexico-election/mexico-presidential-favorite-puts-himself-at-heart-of-security-plan-idUSKBN1ET2E8\n",
      "BRIEF-ALLO Communications Purchases Hastings, Nebraska Operations Of Glenwood Telecommunications | Technology / Cryptocurrency 0.30671336959221746 | https://www.reuters.com/article/brief-allo-communications-purchases-hast/brief-allo-communications-purchases-hastings-nebraska-operations-of-glenwood-telecommunications-idUSFWN1OZ0VO\n",
      "BRIEF-Novan Announces Proposed Public Offering Of Common Stock And Warrants | Technology / Cryptocurrency 0.30671336959221746 | https://www.reuters.com/article/brief-novan-announces-proposed-public-of/brief-novan-announces-proposed-public-offering-of-common-stock-and-warrants-idUSASB0BZTR\n",
      "BRIEF-Alnylam Says‍ Expanded Alnylam Act Program To Include No-Charge Third-Party Genetic Testing For People At Risk For Acute Hepatic Porphyrias​ | Technology / Cryptocurrency 0.3029796187262317 | https://www.reuters.com/article/brief-alnylam-says-expanded-alnylam-act/brief-alnylam-says-expanded-alnylam-act-program-to-include-no-charge-third-party-genetic-testing-for-people-at-risk-for-acute-hepatic-porphyrias-idUSFWN1OZ0Y0\n",
      "BRIEF-Isoray Says Notified Al & J Media Of Decision To Terminate Media Advertising Agreement Between Parties | Technology / Cryptocurrency 0.30671336959221746 | https://www.reuters.com/article/brief-isoray-says-notified-al-j-media-of/brief-isoray-says-notified-al-j-media-of-decision-to-terminate-media-advertising-agreement-between-parties-idUSFWN1OZ0Y1\n",
      "US places Pakistan on watch list for religious freedom violations - Reuters | Afghanistan / Pakistan / Taliban 0.40061165144064836 | https://uk.reuters.com/article/uk-usa-religion/u-s-places-pakistan-on-watch-list-for-religious-freedom-violations-idUKKBN1ET2BI\n",
      "Storm cancels flights, causes power outages in Eastern Canada | Foreign Trade 0.5535273321420856 | https://www.reuters.com/article/us-canada-weather/storm-cancels-flights-causes-power-outages-in-eastern-canada-idUSKBN1ET24E\n",
      "Tiger to start 2018 campaign at Farmers Insurance Open | Sports 0.675467051264156 | https://www.reuters.com/article/us-golf-woods/tiger-to-start-2018-campaign-at-farmers-insurance-open-idUSKBN1ET24U\n",
      "Western Union settles New York money laundering probe for $60 mln | Technology / Cryptocurrency 0.429971070342936 | https://www.reuters.com/article/us-usa-western-union-settlement/western-union-settles-new-york-money-laundering-probe-for-60-million-idUSKBN1ET24Y\n",
      "Republican Representative Harper of Mississippi to retire | Politics 0.5463558731035483 | https://www.reuters.com/article/us-usa-congress-harper/republican-representative-harper-of-mississippi-to-retire-idUSKBN1ET28R\n",
      "米財務省入札：9日3年債240億ドル・10日10年債200億ドル・11日30年債120億ドル | Stock Market nan | https://jp.reuters.com/article/usa-debt-notes-idJPL4N1OZ4B5\n",
      "Samsung Elec on track for record Q4 earnings | Business 0.7010204914538528 | https://www.reuters.com/article/us-samsung-elec-results-preview/samsung-elec-on-track-for-record-fourth-quarter-earnings-idUSKBN1ET2IQ\n",
      "BRIEF-China Aircraft Leasing Group Confirms Aircraft Purchase From Airbus | Asia 0.4996205202641485 | https://www.reuters.com/article/brief-china-aircraft-leasing-group-confi/brief-china-aircraft-leasing-group-confirms-aircraft-purchase-from-airbus-idUSFWN1OZ0WA\n",
      "Spotify reaches 70 million subscribers | Technology / Cryptocurrency 0.7333990890973793 | https://www.reuters.com/article/us-spotify-subscribers/spotify-reaches-70-million-subscribers-idUSKBN1ET2EY\n",
      "Doctors and teachers could team up to reduce stress in schools | Afghanistan / Pakistan / Taliban 0.344660802671956 | https://www.reuters.com/article/us-health-children-stress-education/doctors-and-teachers-could-team-up-to-reduce-stress-in-schools-idUSKBN1ET2F8\n",
      "Canadian marijuana producers end rally as U.S. set to tighten enforcement | Foreign Trade 0.48037643324727386 | https://www.reuters.com/article/us-marijuana-stocks/canadian-marijuana-producers-end-rally-as-u-s-set-to-tighten-enforcement-idUSKBN1ET2FG\n",
      "Intel shares fall as investors worry about costs of chip flaw | Technology / Cryptocurrency 0.6096894740408051 | https://ca.reuters.com/article/technologyNews/idCAKBN1ET1NH-OCATC\n",
      "Spotify reaches 70 million subscribers | Technology / Cryptocurrency 0.7333990890973793 | https://ca.reuters.com/article/technologyNews/idCAKBN1ET2EY-OCATC\n",
      "UAE to resume flights to Tunis, ending row over women ban | Iran 0.26709192972879525 | https://in.reuters.com/article/emirates-tunisia-airlines/uae-to-resume-flights-to-tunis-ending-row-over-women-ban-idINKBN1ET2CH\n",
      "Samsung Elec on track for record fourth quarter earnings | Business 0.7010204914538528 | https://ca.reuters.com/article/technologyNews/idCAKBN1ET2IQ-OCATC\n",
      "Southwest Airlines to pay $15 million to settle price collusion lawsuit | Government 0.21325048152260878 | https://in.reuters.com/article/southwest-settlement/southwest-airlines-to-pay-15-million-to-settle-price-collusion-lawsuit-idINKBN1ET2JW\n",
      "Wall Street, European shares close up; euro near three-year high | Stock Market 0.42269781248490784 | https://uk.reuters.com/article/uk-global-markets/asian-shares-at-10-year-peak-on-upbeat-data-oil-elevated-on-iran-unrest-idUKKBN1ET02D\n",
      "U.S. suspending more than $255 million in security aid to Pakistan | Afghanistan / Pakistan / Taliban 0.7584489075385142 | https://in.reuters.com/article/usa-pakistan-aid/u-s-suspending-more-than-255-million-in-security-aid-to-pakistan-idINKBN1ET2FN\n",
      "Shareholders in Brazil demand Petrobras match $3 billion U.S. settlement | Technology / Cryptocurrency 0.4065588629192166 | https://www.reuters.com/article/us-petrobras-classaction-brazil/shareholders-in-brazil-demand-petrobras-match-3-billion-u-s-settlement-idUSKBN1ET2GL\n",
      "BRIEF-Widepoint Corp Says Appointed Kito Mussa As CFO | Technology / Cryptocurrency 0.5723502443825438 | https://www.reuters.com/article/brief-widepoint-corp-says-appointed-kito/brief-widepoint-corp-says-appointed-kito-mussa-as-cfo-idUSFWN1OZ0WB\n",
      "Fox TV producers offered assurances ahead of Disney merger | Technology / Cryptocurrency 0.5271086640373203 | https://ca.reuters.com/article/entertainmentNews/idCAKBN1ET2GD-OCAEN\n",
      "BRIEF-Xilinx Says CEO Moshe Gavrielov To Retire | Technology / Cryptocurrency 0.6266368219176498 | https://www.reuters.com/article/brief-xilinx-says-ceo-moshe-gavrielov-to/brief-xilinx-says-ceo-moshe-gavrielov-to-retire-idUSASB0BZUD\n",
      "UPDATE 1-Canadian fertilizer producer Nutrien to keep Saskatchewan base -premier | Technology / Cryptocurrency 0.24324159405226614 | https://www.reuters.com/article/nutrien-saskatchewan/update-1-canadian-fertilizer-producer-nutrien-to-keep-saskatchewan-base-premier-idUSL1N1OZ0RZ\n",
      "Canadian fertilizer producer Nutrien to keep Saskatchewan base: premier | Technology / Cryptocurrency 0.2456427634820259 | https://ca.reuters.com/article/domesticNews/idCAKBN1ET23F-OCADN\n",
      "Emailed threat closes southern Swedish university on Monday | Afghanistan / Pakistan / Taliban 0.4183484898673033 | https://www.reuters.com/article/us-sweden-university-threat/emailed-threat-closes-southern-swedish-university-on-monday-idUSKBN1ET215\n",
      "UPDATE 1-Brazil's Santander rural loans rise to $4 bln in 2017 | Technology / Cryptocurrency 0.42017971742960125 | https://www.reuters.com/article/banco-santander-brasil-farm-loans/update-1-brazils-santander-rural-loans-rise-to-4-bln-in-2017-idUSL1N1OZ14T\n",
      "Corrected - How a researcher hacked his own computer and found \"worst\" chip flaw | Technology / Cryptocurrency 0.4873031852118218 | https://in.reuters.com/article/us-cyber-intel-researcher/how-a-researcher-hacked-his-own-computer-and-found-worst-chip-flaw-idINKBN1ET1ZR\n",
      "At least 20 killed, wounded in Kabul attack: official | Afghanistan / Pakistan / Taliban 0.9876009620284802 | https://www.reuters.com/article/us-afghanistan-attack/at-least-20-killed-wounded-in-kabul-attack-official-idUSKBN1ET22Z\n",
      "Arenas, real and virtual | Stock Market nan | https://uk.reuters.com/article/us-keepingscore-4jan2018/arenas-real-and-virtual-idUKKBN1ET27I\n",
      "U.S.-South Korea military exercises to start after Paralympics - Mattis | North Korea 0.697139944248953 | https://uk.reuters.com/article/uk-northkorea-missiles-usa-mattis/u-s-south-korea-military-exercises-to-start-after-paralympics-mattis-idUKKBN1ET26M\n",
      "Puerto Rico sets 90-day target for review of hurricane deaths | Technology / Cryptocurrency 0.2943005823131028 | https://uk.reuters.com/article/usa-puertorico-storm-death/puerto-rico-sets-90-day-target-for-review-of-hurricane-deaths-idUKL1N1OZ1B4\n",
      "U.S. derivatives regulator to review bitcoin futures risks | Technology / Cryptocurrency 0.7441952201829665 | https://www.reuters.com/article/us-usa-cftc-bitcoin/u-s-derivatives-regulator-announces-meetings-to-review-futures-based-on-cryptocurrencies-idUSKBN1ET20R\n",
      "Corals at risk as underwater heat waves strike more often | Technology / Cryptocurrency 0.17050243871775136 | https://www.reuters.com/article/us-climatechange-corals/corals-at-risk-as-underwater-heat-waves-strike-more-often-idUSKBN1ET27K\n",
      "Teva admin staff in Israel agree to improved redundancy packages | Isreal / Palestine 0.4431833157472143 | https://www.reuters.com/article/tevapharm-ind-redundancies-agreement/teva-admin-staff-in-israel-agree-to-improved-redundancy-packages-idUSL8N1OZ4HH\n",
      "Western Union settles New York money laundering probe for $60 million | Technology / Cryptocurrency 0.429971070342936 | https://in.reuters.com/article/usa-western-union-settlement/western-union-settles-new-york-money-laundering-probe-for-60-million-idINKBN1ET2AC\n",
      "White House: Trump believes in enforcing federal law on marijuana | Politics 0.8220613771091918 | https://www.reuters.com/article/us-usa-justice-marijuana-trump/white-house-trump-believes-in-enforcing-federal-law-on-marijuana-idUSKBN1ET2A3\n",
      "Indian services firms bounce back to growth in December - PMI | Economy 0.5568566140756744 | https://in.reuters.com/article/india-economy-pmi-services/indian-services-firms-bounce-back-to-growth-in-december-pmi-idINKBN1ET0FH\n",
      "China's Didi Chuxing buys control of Brazil's 99 ride-hailing app | Technology / Cryptocurrency 0.5825226093621133 | https://in.reuters.com/article/99-m-a-didi/chinas-didi-chuxing-buys-control-of-brazils-99-app-report-idINKBN1ES0U5\n",
      "Oil prices hit fresh highs as market tightens | Energy 0.8460748630497154 | https://in.reuters.com/article/global-oil/oil-prices-near-levels-last-seen-in-2014-2015-as-market-tightens-idINKBN1ET056\n",
      "Oil prices hit fresh highs as market tightens | Energy 0.843889427749937 | https://ca.reuters.com/article/businessNews/idCAKBN1ET058-OCABS\n",
      "Asian shares scale 10-year peak, oil elevated on Iran unrest | Stock Market 0.42269781248490784 | https://ca.reuters.com/article/businessNews/idCAKBN1ET02V-OCABS\n",
      "Japan PM - Will work with international community to solve North Korea issues | North Korea 0.7784370967428675 | https://af.reuters.com/article/worldNews/idAFKBN1ET0J5\n",
      "Turkey orders dozens of soldiers arrested in Gulen-related probe - state media | Turkey / Syria 0.4586407727270114 | https://af.reuters.com/article/worldNews/idAFKBN1ET0I1\n",
      "Sensex edges up amid caution ahead of corporate results | Business 0.46713187636580306 | https://in.reuters.com/article/india-sensex-nifty-stock-markets/sensex-edges-up-amid-caution-ahead-of-corporate-results-idINKBN1ET0KB\n",
      "Plane wreck lifted from Sydney river after crash killing British CEO - Reuters | Afghanistan / Pakistan / Taliban 0.2860926373531662 | https://in.reuters.com/article/australia-airplane/work-begins-to-raise-plane-in-which-compass-ceo-and-family-killed-idINKBN1ET0AC\n",
      "Nikkei ends at 26-year high as oil, securities shares shine | Stock Market 0.3426708086501797 | https://www.reuters.com/article/japan-stocks-close/nikkei-ends-at-26-year-high-as-oil-securities-shares-shine-idUSL4N1OZ28C\n",
      "Figure skating: Tennell leads U.S. champs after short program | Olympics 0.6989564439202066 | https://www.reuters.com/article/us-figureskating-usa-championships/figure-skating-tennell-leads-u-s-champs-after-short-program-idUSKBN1ET0KI\n",
      "GM's China December vehicle sales up 13.1 percent year-on-year | Business 0.5802520686655781 | https://www.reuters.com/article/us-china-autos-gm/gms-china-december-vehicle-sales-up-13-1-percent-year-on-year-idUSKBN1ET08E\n",
      "Indian or not? Muslims fret amid drive against illegal immigrants | Afghanistan / Pakistan / Taliban 0.3809809157275539 | https://www.reuters.com/article/us-india-politics-religion/indian-or-not-muslims-fret-amid-drive-against-illegal-immigrants-idUSKBN1ET065\n",
      "Sumo: Former yokozuna Harumafuji fined for junior wrestler assault | Government 0.26667694500663125 | https://www.reuters.com/article/us-sumo-japan/sumo-former-yokozuna-harumafuji-fined-for-junior-wrestler-assault-idUSKBN1ET0CQ\n",
      "Factbox: What you need to do about newly discovered computer chip flaws | Technology / Cryptocurrency 0.8618828783443415 | https://www.reuters.com/article/us-cyber-intel-facts/factbox-what-you-need-to-do-about-newly-discovered-computer-chip-flaws-idUSKBN1ET071\n",
      "HK's Shun Tak in JV to invest up to $1.2 bln in China healthcare | Asia 0.45544938699296594 | https://www.reuters.com/article/us-shun-tak-prehl-jv/hks-shun-tak-in-jv-to-invest-up-to-1-2-billion-in-china-healthcare-idUSKBN1ET07G\n",
      "IBM files patent case against Expedia on heels of Priceline settlement | Technology / Cryptocurrency 0.6166290276335218 | https://www.reuters.com/article/ip-patent-expedia/ibm-files-patent-case-against-expedia-on-heels-of-priceline-settlement-idUSL1N1OZ02D\n",
      "U.S. retail vacancies rise slightly in Q4 - Reis | Business 0.5491050254332942 | https://www.reuters.com/article/us-usa-property-malls/u-s-retail-vacancies-rise-slightly-in-fourth-quarter-reis-idUSKBN1ET0E5\n",
      "アジア通貨動向（4日）＝下落、ウォンとリンギが主導 | Stock Market nan | https://jp.reuters.com/article/%E3%82%A2%E3%82%B8%E3%82%A2%E9%80%9A%E8%B2%A8%E5%8B%95%E5%90%914%E6%97%A5%EF%BC%9D%E4%B8%8B%E8%90%BD-%E3%82%A6%E3%82%A9%E3%83%B3%E3%81%A8%E3%83%AA%E3%83%B3%E3%82%AE%E3%81%8C%E4%B8%BB%E5%B0%8E-idJPL4N1OZ19Q\n",
      "PRESS DIGEST- New York Times business news - Jan 4 | Technology / Cryptocurrency 0.5424131613981754 | https://www.reuters.com/article/press-digest-nyt/press-digest-new-york-times-business-news-jan-4-idUSL4N1OZ22Z\n",
      "Heavy snowfall shuts three China airports, delays at nine others | Asia 0.6761859722828002 | https://uk.reuters.com/article/us-china-weather/heavy-snowfall-shuts-three-china-airports-delays-at-nine-others-idUKKBN1ET0KX\n",
      "Doctors and teachers could team up to reduce stress in schools | Afghanistan / Pakistan / Taliban 0.344660802671956 | https://www.reuters.com/article/us-health-children-stress-education/doctors-and-teachers-could-team-up-to-reduce-stress-in-schools-idUSKBN1ET2F8\n",
      "Canadian marijuana producers end rally as U.S. set to tighten enforcement | Foreign Trade 0.48037643324727386 | https://www.reuters.com/article/us-marijuana-stocks/canadian-marijuana-producers-end-rally-as-u-s-set-to-tighten-enforcement-idUSKBN1ET2FG\n",
      "Spotify reaches 70 million subscribers | Technology / Cryptocurrency 0.7333990890973793 | https://ca.reuters.com/article/technologyNews/idCAKBN1ET2EY-OCATC\n",
      "Intel shares fall as investors worry about costs of chip flaw | Technology / Cryptocurrency 0.6096894740408051 | https://ca.reuters.com/article/technologyNews/idCAKBN1ET1NH-OCATC\n",
      "Republican Representative Harper of Mississippi to retire | Politics 0.5463558731035483 | https://www.reuters.com/article/us-usa-congress-harper/republican-representative-harper-of-mississippi-to-retire-idUSKBN1ET28R\n",
      "米財務省入札：9日3年債240億ドル・10日10年債200億ドル・11日30年債120億ドル | Stock Market nan | https://jp.reuters.com/article/usa-debt-notes-idJPL4N1OZ4B5\n",
      "UAE to resume flights to Tunis, ending row over women ban | Iran 0.26709192972879525 | https://in.reuters.com/article/emirates-tunisia-airlines/uae-to-resume-flights-to-tunis-ending-row-over-women-ban-idINKBN1ET2CH\n",
      "Iranian Nobel laureate urges U.S. to back protests with 'political sanctions' | Iran 0.7881699342446765 | https://uk.reuters.com/article/uk-iran-rallies-ebadi/iranian-nobel-laureate-urges-u-s-to-back-protests-with-political-sanctions-idUKKBN1ET2AI\n",
      "Federal Reserve seeks to clarify big bank risk management expectations | Economy 0.47149035900302366 | https://www.reuters.com/article/us-usa-fed-risk/federal-reserve-seeks-to-clarify-big-bank-risk-management-expectations-idUSKBN1ET2CV\n",
      "Court voids Idaho ban on secret farm videos, revives some curbs on probes | Government 0.7997762663415428 | https://www.reuters.com/article/us-idaho-animalabuse/court-voids-idaho-ban-on-secret-farm-videos-revives-some-curbs-on-probes-idUSKBN1ET2C5\n",
      "U.S. derivatives regulator to review bitcoin futures risks | Technology / Cryptocurrency 0.7441952201829665 | https://www.reuters.com/article/us-usa-cftc-bitcoin/u-s-derivatives-regulator-announces-meetings-to-review-futures-based-on-cryptocurrencies-idUSKBN1ET20R\n",
      "U.S.-South Korea military exercises to start after Paralympics - Mattis | North Korea 0.697139944248953 | https://uk.reuters.com/article/uk-northkorea-missiles-usa-mattis/u-s-south-korea-military-exercises-to-start-after-paralympics-mattis-idUKKBN1ET26M\n",
      "Corals at risk as underwater heat waves strike more often | Technology / Cryptocurrency 0.17050243871775136 | https://www.reuters.com/article/us-climatechange-corals/corals-at-risk-as-underwater-heat-waves-strike-more-often-idUSKBN1ET27K\n",
      "Samsung Elec on track for record Q4 earnings | Business 0.7010204914538528 | https://www.reuters.com/article/us-samsung-elec-results-preview/samsung-elec-on-track-for-record-fourth-quarter-earnings-idUSKBN1ET2IQ\n",
      "BRIEF-China Aircraft Leasing Group Confirms Aircraft Purchase From Airbus | Asia 0.4996205202641485 | https://www.reuters.com/article/brief-china-aircraft-leasing-group-confi/brief-china-aircraft-leasing-group-confirms-aircraft-purchase-from-airbus-idUSFWN1OZ0WA\n",
      "Mexico presidential favorite puts himself at heart of security plan | Foreign Trade 0.3547930630094448 | https://www.reuters.com/article/us-mexico-election/mexico-presidential-favorite-puts-himself-at-heart-of-security-plan-idUSKBN1ET2E8\n",
      "BRIEF-Novan Announces Proposed Public Offering Of Common Stock And Warrants | Technology / Cryptocurrency 0.30671336959221746 | https://www.reuters.com/article/brief-novan-announces-proposed-public-of/brief-novan-announces-proposed-public-offering-of-common-stock-and-warrants-idUSASB0BZTR\n",
      "BRIEF-ALLO Communications Purchases Hastings, Nebraska Operations Of Glenwood Telecommunications | Technology / Cryptocurrency 0.30671336959221746 | https://www.reuters.com/article/brief-allo-communications-purchases-hast/brief-allo-communications-purchases-hastings-nebraska-operations-of-glenwood-telecommunications-idUSFWN1OZ0VO\n",
      "BRIEF-Isoray Says Notified Al & J Media Of Decision To Terminate Media Advertising Agreement Between Parties | Technology / Cryptocurrency 0.30671336959221746 | https://www.reuters.com/article/brief-isoray-says-notified-al-j-media-of/brief-isoray-says-notified-al-j-media-of-decision-to-terminate-media-advertising-agreement-between-parties-idUSFWN1OZ0Y1\n",
      "BRIEF-Alnylam Says‍ Expanded Alnylam Act Program To Include No-Charge Third-Party Genetic Testing For People At Risk For Acute Hepatic Porphyrias​ | Technology / Cryptocurrency 0.3029796187262317 | https://www.reuters.com/article/brief-alnylam-says-expanded-alnylam-act/brief-alnylam-says-expanded-alnylam-act-program-to-include-no-charge-third-party-genetic-testing-for-people-at-risk-for-acute-hepatic-porphyrias-idUSFWN1OZ0Y0\n",
      "US places Pakistan on watch list for religious freedom violations - Reuters | Afghanistan / Pakistan / Taliban 0.40061165144064836 | https://uk.reuters.com/article/uk-usa-religion/u-s-places-pakistan-on-watch-list-for-religious-freedom-violations-idUKKBN1ET2BI\n",
      "Uber submits appeal to keep operating in northern UK city of York | Technology / Cryptocurrency 0.38931541593012475 | https://www.reuters.com/article/us-uber-britain-york/uber-submits-appeal-to-keep-operating-in-northern-uk-city-of-york-idUSKBN1ET20J\n",
      "Emailed threat closes southern Swedish university on Monday | Afghanistan / Pakistan / Taliban 0.4183484898673033 | https://www.reuters.com/article/us-sweden-university-threat/emailed-threat-closes-southern-swedish-university-on-monday-idUSKBN1ET215\n",
      "UPDATE 1-Canadian fertilizer producer Nutrien to keep Saskatchewan base -premier | Technology / Cryptocurrency 0.24324159405226614 | https://www.reuters.com/article/nutrien-saskatchewan/update-1-canadian-fertilizer-producer-nutrien-to-keep-saskatchewan-base-premier-idUSL1N1OZ0RZ\n",
      "Blast hits Afghan capital Kabul, casualties feared - police | Afghanistan / Pakistan / Taliban 0.9202696076234553 | https://ca.reuters.com/article/topNews/idCAKBN1ET1YC-OCATP\n",
      "Married heart patients more likely than singles to survive | Afghanistan / Pakistan / Taliban 0.29569217270921166 | https://www.reuters.com/article/us-health-maritalstatus-heart-survival/married-heart-patients-more-likely-than-singles-to-survive-idUSKBN1ET1YW\n",
      "Canadian fertilizer producer Nutrien to keep Saskatchewan base: premier | Technology / Cryptocurrency 0.2456427634820259 | https://ca.reuters.com/article/domesticNews/idCAKBN1ET23F-OCADN\n",
      "At least 20 killed, wounded in Kabul attack: official | Afghanistan / Pakistan / Taliban 0.9876009620284802 | https://www.reuters.com/article/us-afghanistan-attack/at-least-20-killed-wounded-in-kabul-attack-official-idUSKBN1ET22Z\n",
      "Neurontin prescriptions surge amid opioid crisis | Technology / Cryptocurrency 0.3064295047173723 | https://www.reuters.com/article/us-health-gabapentins-usa-pain/neurontin-prescriptions-surge-amid-opioid-crisis-idUSKBN1ET261\n",
      "UPDATE 3-Norway's government wins Arctic oil lawsuit, greens lose - Reuters | Energy 0.5998703667803482 | https://in.reuters.com/article/climatechange-norway/norways-government-wins-arctic-oil-lawsuit-greens-lose-idINKBN1ET20C\n",
      "CMS to cover Abbott's glucose monitoring device - Reuters | Technology / Cryptocurrency 0.3048553855394347 | https://uk.reuters.com/article/us-abbott-cms/cms-to-cover-abbotts-glucose-monitoring-device-idUKKBN1ET1XE\n",
      "Storm cancels flights, causes power outages in Eastern Canada | Foreign Trade 0.5535273321420856 | https://ca.reuters.com/article/topNews/idCAKBN1ET24E-OCATP\n",
      "UPDATE 1-Brazil's Santander rural loans rise to $4 bln in 2017 | Technology / Cryptocurrency 0.42017971742960125 | https://www.reuters.com/article/banco-santander-brasil-farm-loans/update-1-brazils-santander-rural-loans-rise-to-4-bln-in-2017-idUSL1N1OZ14T\n",
      "Corrected - How a researcher hacked his own computer and found \"worst\" chip flaw | Technology / Cryptocurrency 0.4873031852118218 | https://in.reuters.com/article/us-cyber-intel-researcher/how-a-researcher-hacked-his-own-computer-and-found-worst-chip-flaw-idINKBN1ET1ZR\n",
      "Storm cancels flights, causes power outages in Eastern Canada | Foreign Trade 0.5535273321420856 | https://www.reuters.com/article/us-canada-weather/storm-cancels-flights-causes-power-outages-in-eastern-canada-idUSKBN1ET24E\n",
      "Western Union settles New York money laundering probe for $60 mln | Technology / Cryptocurrency 0.429971070342936 | https://www.reuters.com/article/us-usa-western-union-settlement/western-union-settles-new-york-money-laundering-probe-for-60-million-idUSKBN1ET24Y\n",
      "Tiger to start 2018 campaign at Farmers Insurance Open | Sports 0.675467051264156 | https://www.reuters.com/article/us-golf-woods/tiger-to-start-2018-campaign-at-farmers-insurance-open-idUSKBN1ET24U\n",
      "History Lessons: First jobs of famous historians | Olympics 0.24373010772120487 | https://www.reuters.com/article/us-money-firstjobs-historians/history-lessons-first-jobs-of-famous-historians-idUSKBN1ET25J\n",
      "Quad king Chen pushes for artistry ahead of Pyeongchang | Olympics 0.4809402338043371 | https://www.reuters.com/article/us-olympics-2018-figs-chen/quad-king-chen-pushes-for-artistry-ahead-of-pyeongchang-idUSKBN1ET1G4\n",
      "Pakistan shrugs off impending U.S. aid cuts, wary of harsher measures | Afghanistan / Pakistan / Taliban 0.8130308818020381 | https://af.reuters.com/article/worldNews/idAFKBN1ET1G0\n",
      "TSX adds to record high as financials, industrials climb | Stock Market 0.6447979114164809 | https://ca.reuters.com/article/topNews/idCAKBN1ET1BZ-OCATP\n",
      "RPT-Euronext becomes latest exchange to escape competition rule | European Union 0.5074271714670334 | https://www.reuters.com/article/us-eu-markets-clearing-euronext/euronext-becomes-latest-exchange-to-escape-competition-rule-idUSKBN1ET1R7\n",
      "Dozen dead, scores injured in South Africa train crash | Afghanistan / Pakistan / Taliban 0.33286769229861224 | https://af.reuters.com/article/topNews/idAFKBN1ET1MM-OZATP\n",
      "Private equity firm boosts shale funding in hunt for Permian deals | Energy 0.38782163029794253 | https://www.reuters.com/article/luxe-energy-ngp/private-equity-firm-boosts-shale-funding-in-hunt-for-permian-deals-idUSL1N1OY1UU\n",
      "Norwegian Air won't need expensive aircraft leases in 2018 -CEO | Technology / Cryptocurrency 0.35890098991566366 | https://www.reuters.com/article/norweg-air-shut-ceo/norwegian-air-wont-need-expensive-aircraft-leases-in-2018-ceo-idUSL8N1OZ3CR\n",
      "Federer, Bencic fire as Switzerland reach Hopman Cup final | Sports 0.9135410555499945 | https://www.reuters.com/article/us-tennis-hopman/federer-bencic-fire-as-switzerland-reach-hopman-cup-final-idUSKBN1ET1SF\n",
      "U.S. State Dept. re-designates countries for violating religious freedom | Afghanistan / Pakistan / Taliban 0.40061165144064836 | https://ca.reuters.com/article/topNews/idCAKBN1ET1OA-OCATP\n",
      "Intel down again after report says chips vulnerable to hacking | Technology / Cryptocurrency 0.6111318199809175 | https://in.reuters.com/article/cyberintel-stocks/intel-down-again-after-report-says-chips-vulnerable-to-hacking-idINKBN1ET1MV\n",
      "Zambia shuts Hungry Lion restaurants over cholera contamination | Afghanistan / Pakistan / Taliban 0.4273433715876224 | https://www.reuters.com/article/us-zambia-cholera/zambia-shuts-hungry-lion-restaurants-over-cholera-contamination-idUSKBN1ET1LN\n",
      "BRIEF-Scythian Biosciences Announces Proposed Up To 8 For 1 Stock Split | Technology / Cryptocurrency 0.7126016693051896 | https://www.reuters.com/article/brief-scythian-biosciences-announces-pro/brief-scythian-biosciences-announces-proposed-up-to-8-for-1-stock-split-idUSASB0BZRN\n",
      "Trump threatens ex-ally Bannon with legal action amid book fallout | Politics 0.8701198899589883 | https://www.reuters.com/article/us-usa-trump-book/trump-threatens-ex-ally-bannon-with-legal-action-amid-book-fallout-idUSKBN1ET1MP\n",
      "Party or not? Golden Globes proves test for Hollywood sex scandal | Technology / Cryptocurrency 0.24295119883633298 | https://ca.reuters.com/article/entertainmentNews/idCAKBN1ET1KY-OCAEN\n",
      "Nigerian military rescues schoolgirl abducted by Boko Haram in 2014 | Afghanistan / Pakistan / Taliban 0.9462524994496636 | https://af.reuters.com/article/topNews/idAFKBN1ET1L5-OZATP\n",
      "2017 was second hottest year on record, after 2016 - European data | Foreign Trade 0.10555406227164985 | https://af.reuters.com/article/worldNews/idAFKBN1ET1L3\n",
      "Putin OKs resumption of Russian airline service to Cairo: document | Russia 0.8057441943474286 | https://www.reuters.com/article/us-russia-egypt-flights-resumption/putin-oks-resumption-of-russian-airline-service-to-cairo-document-idUSKBN1ET1NM\n",
      "Turkey's jailed pro-Kurdish opposition co-leader to step down | Europe 0.33791878993466457 | https://af.reuters.com/article/worldNews/idAFKBN1ET1H5\n",
      "Sprint appoints former Altice head Michel Combes as CFO | Technology / Cryptocurrency 0.5167279236662606 | https://www.reuters.com/article/us-sprint-corp-cfo/sprint-appoints-former-altice-head-michel-combes-as-cfo-idUSKBN1ET1M3\n",
      "Macy's holiday same-store sales rise 1 pct; to close stores, cut jobs | Business 0.7466434429799842 | https://www.reuters.com/article/us-macys-results/macys-holiday-same-store-sales-rise-one-percent-to-close-stores-cut-jobs-idUSKBN1ET1I4\n",
      "BRIEF-Pfenex Names Susan A. Knudson As Chief Financial Officer | Technology / Cryptocurrency 0.30671336959221746 | https://www.reuters.com/article/brief-pfenex-names-susan-a-knudson-as-ch/brief-pfenex-names-susan-a-knudson-as-chief-financial-officer-idUSASB0BZQX\n",
      "British PM May apologizes as overwhelmed hospitals cancel non-emergency operations | European Union 0.2278221269646544 | https://www.reuters.com/article/us-britain-politics-health/british-pm-may-apologizes-as-overwhelmed-hospitals-cancel-non-emergency-operations-idUSKBN1ET1ES\n",
      "Alphabet healthcare company gets funding to help Medicaid patients | Technology / Cryptocurrency 0.5272328837603002 | https://www.reuters.com/article/health-medicaid-usa/alphabet-healthcare-company-gets-funding-to-help-medicaid-patients-idUSL1N1OY19O\n",
      "COLUMN-Banks rake in record fees to beat trading blues: McGeever | Technology / Cryptocurrency 0.3308112310616972 | https://www.reuters.com/article/global-banks-fees/column-banks-rake-in-record-fees-to-beat-trading-blues-mcgeever-idUSL8N1OY3L8\n",
      "UPDATE 1-Norway's Arctic oil plan does not violate constitution-court | Energy 0.5998703667803482 | https://www.reuters.com/article/us-climatechange-norway/norways-arctic-oil-plan-does-not-violate-constitution-court-idUSKBN1ET1KW\n",
      "Israeli military to probe death of disabled Palestinian in Gaza - Reuters | Isreal / Palestine 0.8935112079064723 | https://uk.reuters.com/article/uk-israel-palestinians-probe/israeli-military-to-probe-death-of-disabled-palestinian-in-gaza-idUKKBN1ET0R1\n",
      "Zimbabwe court dismisses case of U.S. woman charged with insulting Mugabe | Government 0.9848298347867146 | https://www.reuters.com/article/us-zimbabwe-usa-court/zimbabwe-court-dismisses-case-of-u-s-woman-charged-with-insulting-mugabe-idUSKBN1ET17S\n",
      "Sanofi says will work with Manila in spite of Dengvaxia ban | Technology / Cryptocurrency 0.29602087956906087 | https://www.reuters.com/article/us-sanofi-philippines/sanofi-says-will-work-with-manila-in-spite-of-dengvaxia-ban-idUSKBN1ET18I\n",
      "PRESS DIGEST- Canada - Jan 4 | Foreign Trade 0.35040239468470696 | https://www.reuters.com/article/press-digest-canada/press-digest-canada-jan-4-idUSL4N1OZ38M\n",
      "BRIEF-First Global Secures 16 New US Money Transmitter Licenses In Past Year | Technology / Cryptocurrency 0.29347545399907443 | https://www.reuters.com/article/brief-first-global-secures-16-new-us-mon/brief-first-global-secures-16-new-us-money-transmitter-licenses-in-past-year-idUSFWN1OZ0AB\n",
      "LightBay, founded by former Ares execs, raises $615 mln for 1st fund | Technology / Cryptocurrency 0.8346038477877007 | https://www.reuters.com/article/us-lightbay-privateequity-fundraising/lightbay-founded-by-former-ares-execs-raises-615-million-for-first-fund-idUSKBN1ET1BA\n",
      "Investment banking fees at record high in 2017 - Thomson Reuters data | Technology / Cryptocurrency 0.4107369525773938 | https://www.reuters.com/article/banking-fees/investment-banking-fees-at-record-high-in-2017-thomson-reuters-data-idUSL8N1OZ27T\n",
      "Aharon Appelfeld, acclaimed Israeli novelist and Holocaust survivor, dies at 85 | Isreal / Palestine 0.7149375875869395 | https://ca.reuters.com/article/entertainmentNews/idCAKBN1ET0X5-OCAEN\n",
      "Australia's Cate Blanchett to head Cannes Film Festival jury | Government 0.23948879288419508 | https://www.reuters.com/article/us-filmfestival-cannes-blanchett/australias-cate-blanchett-to-head-cannes-film-festival-jury-idUSKBN1ET0YJ\n",
      "Israeli military to probe death of disabled Palestinian in Gaza | Isreal / Palestine 0.8935112079064723 | https://af.reuters.com/article/worldNews/idAFKBN1ET0R1\n",
      "UPDATE 1-Continental, Bosch to buy 5 pct stakes in map firm HERE | Technology / Cryptocurrency 0.5224064475829935 | https://www.reuters.com/article/us-continental-here/continental-to-take-5-percent-stake-in-mapping-firm-here-idUSKBN1ET0VN\n",
      "EMERGING MARKETS-Solid U.S., China data lifts emerging stocks, FX | Economy 0.19090291053451006 | https://www.reuters.com/article/emerging-markets/emerging-markets-solid-u-s-china-data-lifts-emerging-stocks-fx-idUSL8N1OZ150\n",
      "Idea unveils $1.1 billion fundraising plan ahead of Vodafone deal | Technology / Cryptocurrency 0.4095989573259394 | https://in.reuters.com/article/idea-cellular-fundraising/idea-unveils-1-1-billion-fundraising-plan-ahead-of-vodafone-deal-idINKBN1ET125\n",
      "Labour's economic plan is high-risk gamble, says party education chief | European Union 0.3203757821817661 | https://uk.reuters.com/article/uk-britain-politics-labour/labours-economic-plan-is-high-risk-gamble-says-party-education-chief-idUKKBN1ET11C\n",
      "Europe's biggest private biotech company raises $270 mln | Technology / Cryptocurrency 0.5343165846608408 | https://www.reuters.com/article/us-biotech-germany-biontech/europes-biggest-private-biotech-company-raises-270-million-idUSKBN1ET0O0\n",
      "Turkey says U.S. conviction of banker is 'unprecedented interference' | Turkey / Syria 0.47916875431803924 | https://af.reuters.com/article/worldNews/idAFKBN1ET0P8\n",
      "Four dead as South African train crashes, bursts into flames | Afghanistan / Pakistan / Taliban 0.4326172479643813 | https://www.reuters.com/article/safrica-train-accident/four-dead-as-south-african-train-crashes-bursts-into-flames-idUSL8N1OZ1S7\n",
      "Four dead as South African train crashes, bursts into flames | Afghanistan / Pakistan / Taliban 0.4613049004488457 | https://af.reuters.com/article/topNews/idAFKBN1ET154-OZATP\n"
     ]
    }
   ],
   "source": [
    "# for d in collection.find():\n",
    "#     print(d['title'], '|', d['topic'], d['topic_confidence'], '|', d['url'])"
   ]
  },
  {
   "cell_type": "code",
   "execution_count": 25,
   "metadata": {
    "ExecuteTime": {
     "end_time": "2018-02-28T03:40:53.790630Z",
     "start_time": "2018-02-28T03:40:53.784584Z"
    }
   },
   "outputs": [
    {
     "data": {
      "text/plain": [
       "[0.89901970554887123,\n",
       " 0.89901970554887123,\n",
       " 0.35959862664315018,\n",
       " 0.35306810970021796,\n",
       " 1.0,\n",
       " 0.90015566773503441]"
      ]
     },
     "execution_count": 25,
     "metadata": {},
     "output_type": "execute_result"
    }
   ],
   "source": [
    "confidence"
   ]
  },
  {
   "cell_type": "code",
   "execution_count": 16,
   "metadata": {
    "ExecuteTime": {
     "end_time": "2018-02-28T03:37:57.595673Z",
     "start_time": "2018-02-28T03:37:57.590077Z"
    }
   },
   "outputs": [
    {
     "data": {
      "text/plain": [
       "<1x47374 sparse matrix of type '<class 'numpy.float64'>'\n",
       "\twith 263 stored elements in Compressed Sparse Row format>"
      ]
     },
     "execution_count": 16,
     "metadata": {},
     "output_type": "execute_result"
    }
   ],
   "source": [
    "x"
   ]
  },
  {
   "cell_type": "code",
   "execution_count": null,
   "metadata": {},
   "outputs": [],
   "source": []
  },
  {
   "cell_type": "code",
   "execution_count": null,
   "metadata": {},
   "outputs": [],
   "source": []
  },
  {
   "cell_type": "code",
   "execution_count": null,
   "metadata": {
    "collapsed": true
   },
   "outputs": [],
   "source": []
  }
 ],
 "metadata": {
  "hide_input": false,
  "kernelspec": {
   "display_name": "Python [default]",
   "language": "python",
   "name": "python3"
  },
  "language_info": {
   "codemirror_mode": {
    "name": "ipython",
    "version": 3
   },
   "file_extension": ".py",
   "mimetype": "text/x-python",
   "name": "python",
   "nbconvert_exporter": "python",
   "pygments_lexer": "ipython3",
   "version": "3.5.3"
  },
  "toc": {
   "nav_menu": {},
   "number_sections": true,
   "sideBar": true,
   "skip_h1_title": false,
   "title_cell": "Table of Contents",
   "title_sidebar": "Contents",
   "toc_cell": false,
   "toc_position": {},
   "toc_section_display": true,
   "toc_window_display": false
  }
 },
 "nbformat": 4,
 "nbformat_minor": 2
}
