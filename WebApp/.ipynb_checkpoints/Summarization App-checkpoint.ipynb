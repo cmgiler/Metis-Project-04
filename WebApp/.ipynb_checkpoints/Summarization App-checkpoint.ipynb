{
 "cells": [
  {
   "cell_type": "code",
   "execution_count": 1,
   "metadata": {},
   "outputs": [
    {
     "name": "stderr",
     "output_type": "stream",
     "text": [
      " * Running on http://0.0.0.0:5000/ (Press CTRL+C to quit)\n",
      " * Running on http://127.0.0.1:5000/ (Press CTRL+C to quit)\n",
      " * Restarting with stat\n"
     ]
    },
    {
     "ename": "SystemExit",
     "evalue": "1",
     "output_type": "error",
     "traceback": [
      "An exception has occurred, use %tb to see the full traceback.\n",
      "\u001b[0;31mSystemExit\u001b[0m\u001b[0;31m:\u001b[0m 1\n"
     ]
    },
    {
     "name": "stderr",
     "output_type": "stream",
     "text": [
      "/home/chrisgiler/anaconda3/lib/python3.5/site-packages/IPython/core/interactiveshell.py:2889: UserWarning: To exit: use 'exit', 'quit', or Ctrl-D.\n",
      "  warn(\"To exit: use 'exit', 'quit', or Ctrl-D.\", stacklevel=1)\n"
     ]
    }
   ],
   "source": [
    "import sys\n",
    "sys.path.insert(0, '../')\n",
    "\n",
    "import flask\n",
    "from FletcherLibrary import MongoQuery as MQ\n",
    "from FletcherLibrary import TextSummarization as TS\n",
    "\n",
    "import numpy as np\n",
    "import pandas as pd\n",
    "\n",
    "\n",
    "app = flask.Flask(__name__)\n",
    "\n",
    "# Homepage\n",
    "@app.route(\"/\")\n",
    "def viz_page():\n",
    "    with open(\"index.html\", 'r') as viz_file:\n",
    "        return viz_file.read()\n",
    "\n",
    "@app.route(\"/get_categories\")\n",
    "def get_categories():\n",
    "    inputs = flask.request.json\n",
    "    collection_name = inputs['data'][0]\n",
    "    start_date = inputs['data'][1]\n",
    "    end_date = inputs['data'][2]\n",
    "    print(inputs)\n",
    "    data = TS.FetchDataInDateRange(collection_name, start_date, end_date)\n",
    "    \n",
    "app.run(host='0.0.0.0')\n",
    "app.run(debug=True)"
   ]
  },
  {
   "cell_type": "code",
   "execution_count": null,
   "metadata": {},
   "outputs": [],
   "source": []
  }
 ],
 "metadata": {
  "kernelspec": {
   "display_name": "Python [default]",
   "language": "python",
   "name": "python3"
  },
  "language_info": {
   "codemirror_mode": {
    "name": "ipython",
    "version": 3
   },
   "file_extension": ".py",
   "mimetype": "text/x-python",
   "name": "python",
   "nbconvert_exporter": "python",
   "pygments_lexer": "ipython3",
   "version": "3.5.3"
  }
 },
 "nbformat": 4,
 "nbformat_minor": 2
}
